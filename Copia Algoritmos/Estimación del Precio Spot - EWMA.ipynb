{
 "cells": [
  {
   "cell_type": "markdown",
   "metadata": {},
   "source": [
    "# Estimación del Precio Spot (Bid)\n"
   ]
  },
  {
   "cell_type": "markdown",
   "metadata": {},
   "source": [
    "## Realizado por: Luis Mendoza Montero"
   ]
  },
  {
   "cell_type": "markdown",
   "metadata": {},
   "source": [
    "***Desarrollo del trabajo:***\n",
    "\n",
    "1. Cargar paquetes\n",
    "2. Selección de parámetros\n",
    "3. Preprocesado de datos\n",
    "4. Estimación del precio Spot (bid)\n",
    "\n"
   ]
  },
  {
   "cell_type": "markdown",
   "metadata": {},
   "source": [
    "# 1. Cargar paquetes"
   ]
  },
  {
   "cell_type": "code",
   "execution_count": 1,
   "metadata": {
    "collapsed": true
   },
   "outputs": [],
   "source": [
    "import sqlite3\n",
    "import csv\n",
    "import sys\n",
    "import numpy as np\n",
    "import random\n",
    "import pandas as pd\n",
    "import matplotlib.pyplot as plt\n",
    "from glob import glob; from os.path import expanduser\n",
    "from datetime import datetime, date, time, timedelta\n",
    "import calendar\n"
   ]
  },
  {
   "cell_type": "markdown",
   "metadata": {},
   "source": [
    "--------------------------------------------------------------------------------------------------------------------------------"
   ]
  },
  {
   "cell_type": "markdown",
   "metadata": {},
   "source": [
    "# 2. Selección de Parámetros"
   ]
  },
  {
   "cell_type": "markdown",
   "metadata": {},
   "source": [
    "### Seleccionar region y categoría (tabla de la BBDD)"
   ]
  },
  {
   "cell_type": "code",
   "execution_count": 2,
   "metadata": {
    "collapsed": true
   },
   "outputs": [],
   "source": [
    "region = \"'P3_us_east_1'\""
   ]
  },
  {
   "cell_type": "markdown",
   "metadata": {},
   "source": [
    "### Seleccionar tipo de Sistema Operativo"
   ]
  },
  {
   "cell_type": "markdown",
   "metadata": {},
   "source": [
    "Existes 3 tipos de sistemas: ***Windows, Linux/UNIX o SUSE Linux***"
   ]
  },
  {
   "cell_type": "code",
   "execution_count": 3,
   "metadata": {
    "collapsed": true
   },
   "outputs": [],
   "source": [
    "sistema = \"SUSE Linux\""
   ]
  },
  {
   "cell_type": "markdown",
   "metadata": {},
   "source": [
    "Sacamos las zonas de disponibilidad, los sistemas operativos y las fechas de las instancias"
   ]
  },
  {
   "cell_type": "code",
   "execution_count": 4,
   "metadata": {},
   "outputs": [
    {
     "name": "stdout",
     "output_type": "stream",
     "text": [
      "p3.2xlarge\n"
     ]
    }
   ],
   "source": [
    "# Conectar con la base de datos\n",
    "with sqlite3.connect(\"BBDD.db\") as connection:\n",
    "    \n",
    "    # Sacamos el tipo de istancia (nombre + familia)\n",
    "    instances = pd.read_sql(\"SELECT DISTINCT InstanceType FROM \"+region+\";\", connection) \n",
    "    instances_list = instances.values.tolist()\n",
    "    del instances_list[0]\n",
    "    \n",
    "    for inst in instances_list:\n",
    "        instance=inst[0] # En la variable instance tenemos el tipo de instancia\n",
    "    print(instance)\n",
    "    \n",
    "    # Sacamos las zonas de disponibilidad\n",
    "    zones = pd.read_sql(\"SELECT DISTINCT AvailabilityZone FROM \"+region+\";\", connection) \n",
    "    zones_list = zones.values.tolist()\n",
    "    del zones_list[0]\n",
    "    \n",
    "    listaRegiones = []\n",
    "    for zone in zones_list:\n",
    "        for zo in zone:\n",
    "            listaRegiones.append(zo) # Lista de zonas en la región\n",
    "    \n",
    "    # Para cada zona y SO indicado sacamos el dia, el mes y el año\n",
    "    for zona in listaRegiones: \n",
    "        #for sistema in listaSistemas:\n",
    "        dates = pd.read_sql(\"SELECT DISTINCT SUBSTR(Timestamp, 1, 10) FROM \"+region+\"WHERE AvailabilityZone = '\"+zona+\"'AND Description = '\"+sistema+\"';\", connection)\n",
    "        dates_list = dates.values.tolist()\n",
    "    \n",
    "    listaFechas = []\n",
    "    for date in dates_list:\n",
    "        for da in date:\n",
    "            listaFechas.append(da) # Lista de fechas en cada zona y SO\n",
    "\n",
    "# Cerrar la conexión siempre\n",
    "connection.close()"
   ]
  },
  {
   "cell_type": "markdown",
   "metadata": {},
   "source": [
    "### Seleccionar Zona de Disponibilidad"
   ]
  },
  {
   "cell_type": "markdown",
   "metadata": {},
   "source": [
    "Elegir entre una de las siguientes zonas de disponibilidad:"
   ]
  },
  {
   "cell_type": "code",
   "execution_count": 5,
   "metadata": {},
   "outputs": [
    {
     "name": "stdout",
     "output_type": "stream",
     "text": [
      "['us-east-1b', 'us-east-1c', 'us-east-1d', 'us-east-1f']\n"
     ]
    }
   ],
   "source": [
    "print(listaRegiones)"
   ]
  },
  {
   "cell_type": "code",
   "execution_count": 6,
   "metadata": {
    "collapsed": true
   },
   "outputs": [],
   "source": [
    "zona = \"us-east-1b\""
   ]
  },
  {
   "cell_type": "markdown",
   "metadata": {},
   "source": [
    "### Seleccionar fecha inicio y fin (desde 2018-01-24 hasta 2018-06-30 )"
   ]
  },
  {
   "cell_type": "code",
   "execution_count": 7,
   "metadata": {
    "collapsed": true
   },
   "outputs": [],
   "source": [
    "f_inicio = '2018-05-25'\n",
    "f_final = '2018-06-01'"
   ]
  },
  {
   "cell_type": "markdown",
   "metadata": {},
   "source": [
    "### Periodo de retrospectiva (Nº de días pasados observados)"
   ]
  },
  {
   "cell_type": "code",
   "execution_count": 8,
   "metadata": {
    "collapsed": true
   },
   "outputs": [],
   "source": [
    "retro = 3"
   ]
  },
  {
   "cell_type": "markdown",
   "metadata": {},
   "source": [
    "### Factor de olvido para EWMA"
   ]
  },
  {
   "cell_type": "code",
   "execution_count": 9,
   "metadata": {
    "collapsed": true
   },
   "outputs": [],
   "source": [
    "landa = 1"
   ]
  },
  {
   "cell_type": "markdown",
   "metadata": {},
   "source": [
    "### Horas ininterrumpidas por el usuario"
   ]
  },
  {
   "cell_type": "code",
   "execution_count": 10,
   "metadata": {
    "collapsed": true
   },
   "outputs": [],
   "source": [
    "duracion = 12"
   ]
  },
  {
   "cell_type": "markdown",
   "metadata": {},
   "source": [
    "### Nivel de confianza"
   ]
  },
  {
   "cell_type": "code",
   "execution_count": 11,
   "metadata": {
    "collapsed": true
   },
   "outputs": [],
   "source": [
    "alpha = 0"
   ]
  },
  {
   "cell_type": "markdown",
   "metadata": {},
   "source": [
    "--------------------------------------------------------------------------------------------------------------------------------"
   ]
  },
  {
   "cell_type": "markdown",
   "metadata": {},
   "source": [
    "# 3. Preprocesado de datos"
   ]
  },
  {
   "cell_type": "code",
   "execution_count": 12,
   "metadata": {
    "collapsed": true
   },
   "outputs": [],
   "source": [
    "\n",
    "# Conectar con la base de datos, si no existe la crea automáticamente\n",
    "conexion = sqlite3.connect(\"BBDD.db\")\n",
    "    \n",
    "# Para poder ejecutar código SQL, tenemos que crear un cursor primero, el nombre de la tabla será la familia de las categorías\n",
    "cursor = conexion.cursor()\n",
    "cursor.execute(\"DROP TABLE IF EXISTS Preprocesados;\")\n",
    "cursor.execute(\"CREATE TABLE IF NOT EXISTS Preprocesados (AvailabilityZone VARCHAR(100), Description VARCHAR(100), InstanceType VARCHAR(100), SpotPrice FLOAT(8,4), Timestamp Datetime, PRIMARY KEY('AvailabilityZone','InstanceType','Timestamp','Description'))\")\n",
    "\n",
    "# Insertamos los nombre de los atributos para que se tenga en cuenta en formato csv\n",
    "cursor.execute(\"INSERT OR IGNORE INTO Preprocesados VALUES ('AvailabilityZone','Description','InstanceType','SpotPrice','Timestamp');\")      \n",
    "\n",
    "lista = [] # variable auxiliar por si no hay precios en algunas horas para meter el anterior más mayor\n",
    "lista.append(0.0)\n",
    "aux = '0'\n",
    "#for zona in listaRegiones:\n",
    "for fecha in listaFechas:\n",
    "            \n",
    "            # Para las 00:00:00\n",
    "            price = pd.read_sql(\"SELECT MAX(SpotPrice) FROM \"+region+\"WHERE SpotPrice<>'SpotPrice' AND AvailabilityZone='\"+zona+\"' AND Description = '\"+sistema+\"' AND Timestamp >='\"+fecha+\"T00:00:00.000z' AND Timestamp <='\"+fecha+\"T00:59:59.000z';\",conexion)\n",
    "            precios = price.values.tolist()\n",
    "            for prec in precios:\n",
    "                precio = str(prec[0])\n",
    "            if precio == 'None':\n",
    "                cursor.execute(\"INSERT OR IGNORE INTO Preprocesados VALUES (\"+\"'\"+zona+\"',\"+\"'\"+sistema+\"','\"+instance+\"','\"+aux+\"','\"+fecha+\"T00:00:00.000Z');\")\n",
    "            elif precio != 'None':\n",
    "                cursor.execute(\"INSERT OR IGNORE INTO Preprocesados VALUES (\"+\"'\"+zona+\"',\"+\"'\"+sistema+\"','\"+instance+\"','\"+precio+\"','\"+fecha+\"T00:00:00.000Z');\")\n",
    "                aux = str(precio)\n",
    "                \n",
    "            # Para las 01:00:00\n",
    "            price = pd.read_sql(\"SELECT MAX(SpotPrice) FROM \"+region+\"WHERE SpotPrice<>'SpotPrice' AND AvailabilityZone='\"+zona+\"' AND Description = '\"+sistema+\"' AND Timestamp >='\"+fecha+\"T01:00:00.000z' AND Timestamp <='\"+fecha+\"T01:59:59.000z';\",conexion)\n",
    "            precios = price.values.tolist()\n",
    "            for prec in precios:\n",
    "                precio = str(prec[0])\n",
    "            if precio == 'None':\n",
    "                cursor.execute(\"INSERT OR IGNORE INTO Preprocesados VALUES (\"+\"'\"+zona+\"',\"+\"'\"+sistema+\"','\"+instance+\"','\"+aux+\"','\"+fecha+\"T01:00:00.000Z');\")\n",
    "            elif precio != 'None':\n",
    "                cursor.execute(\"INSERT OR IGNORE INTO Preprocesados VALUES (\"+\"'\"+zona+\"',\"+\"'\"+sistema+\"','\"+instance+\"','\"+precio+\"','\"+fecha+\"T01:00:00.000Z');\")\n",
    "                aux = str(precio)\n",
    "           \n",
    "            # Para las 02:00:00\n",
    "            price = pd.read_sql(\"SELECT MAX(SpotPrice) FROM \"+region+\"WHERE SpotPrice<>'SpotPrice' AND AvailabilityZone='\"+zona+\"' AND Description = '\"+sistema+\"' AND Timestamp >='\"+fecha+\"T02:00:00.000z' AND Timestamp <='\"+fecha+\"T02:59:59.000z';\",conexion)\n",
    "            precios = price.values.tolist()\n",
    "            for prec in precios:\n",
    "                precio = str(prec[0])\n",
    "            if precio == 'None':\n",
    "                cursor.execute(\"INSERT OR IGNORE INTO Preprocesados VALUES (\"+\"'\"+zona+\"',\"+\"'\"+sistema+\"','\"+instance+\"','\"+aux+\"','\"+fecha+\"T02:00:00.000Z');\")\n",
    "            elif precio != 'None':\n",
    "                cursor.execute(\"INSERT OR IGNORE INTO Preprocesados VALUES (\"+\"'\"+zona+\"',\"+\"'\"+sistema+\"','\"+instance+\"','\"+precio+\"','\"+fecha+\"T02:00:00.000Z');\")\n",
    "                aux = str(precio)\n",
    "\n",
    "                \n",
    "            # Para las 03:00:00\n",
    "            price = pd.read_sql(\"SELECT MAX(SpotPrice) FROM \"+region+\"WHERE SpotPrice<>'SpotPrice' AND AvailabilityZone='\"+zona+\"' AND Description = '\"+sistema+\"' AND Timestamp >='\"+fecha+\"T03:00:00.000z' AND Timestamp <='\"+fecha+\"T03:59:59.000z';\",conexion)\n",
    "            precios = price.values.tolist()\n",
    "            for prec in precios:\n",
    "                precio = str(prec[0])\n",
    "            if precio == 'None':\n",
    "                cursor.execute(\"INSERT OR IGNORE INTO Preprocesados VALUES (\"+\"'\"+zona+\"',\"+\"'\"+sistema+\"','\"+instance+\"','\"+aux+\"','\"+fecha+\"T03:00:00.000Z');\")\n",
    "            elif precio != 'None':\n",
    "                cursor.execute(\"INSERT OR IGNORE INTO Preprocesados VALUES (\"+\"'\"+zona+\"',\"+\"'\"+sistema+\"','\"+instance+\"','\"+precio+\"','\"+fecha+\"T03:00:00.000Z');\")\n",
    "                aux = str(precio)\n",
    "    \n",
    "                \n",
    "            # Para las 04:00:00\n",
    "            price = pd.read_sql(\"SELECT MAX(SpotPrice) FROM \"+region+\"WHERE SpotPrice<>'SpotPrice' AND AvailabilityZone='\"+zona+\"' AND Description = '\"+sistema+\"' AND Timestamp >='\"+fecha+\"T04:00:00.000z' AND Timestamp <='\"+fecha+\"T04:59:59.000z';\",conexion)\n",
    "            precios = price.values.tolist()\n",
    "            for prec in precios:\n",
    "                precio = str(prec[0])\n",
    "            if precio == 'None':\n",
    "                cursor.execute(\"INSERT OR IGNORE INTO Preprocesados VALUES (\"+\"'\"+zona+\"',\"+\"'\"+sistema+\"','\"+instance+\"','\"+aux+\"','\"+fecha+\"T04:00:00.000Z');\")\n",
    "            elif precio != 'None':\n",
    "                cursor.execute(\"INSERT OR IGNORE INTO Preprocesados VALUES (\"+\"'\"+zona+\"',\"+\"'\"+sistema+\"','\"+instance+\"','\"+precio+\"','\"+fecha+\"T04:00:00.000Z');\")\n",
    "                aux = str(precio)\n",
    "                    \n",
    "            \n",
    "            # Para las 05:00:00\n",
    "            price = pd.read_sql(\"SELECT MAX(SpotPrice) FROM \"+region+\"WHERE SpotPrice<>'SpotPrice' AND AvailabilityZone='\"+zona+\"' AND Description = '\"+sistema+\"' AND Timestamp >='\"+fecha+\"T05:00:00.000z' AND Timestamp <='\"+fecha+\"T05:59:59.000z';\",conexion)\n",
    "            precios = price.values.tolist()\n",
    "            for prec in precios:\n",
    "                precio = str(prec[0])\n",
    "            if precio == 'None':\n",
    "                cursor.execute(\"INSERT OR IGNORE INTO Preprocesados VALUES (\"+\"'\"+zona+\"',\"+\"'\"+sistema+\"','\"+instance+\"','\"+aux+\"','\"+fecha+\"T05:00:00.000Z');\")\n",
    "            elif precio != 'None':\n",
    "                cursor.execute(\"INSERT OR IGNORE INTO Preprocesados VALUES (\"+\"'\"+zona+\"',\"+\"'\"+sistema+\"','\"+instance+\"','\"+precio+\"','\"+fecha+\"T05:00:00.000Z');\")\n",
    "                aux = str(precio)\n",
    "                    \n",
    "                \n",
    "            # Para las 06:00:00\n",
    "            price = pd.read_sql(\"SELECT MAX(SpotPrice) FROM \"+region+\"WHERE SpotPrice<>'SpotPrice' AND AvailabilityZone='\"+zona+\"' AND Description = '\"+sistema+\"' AND Timestamp >='\"+fecha+\"T06:00:00.000z' AND Timestamp <='\"+fecha+\"T06:59:59.000z';\",conexion)\n",
    "            precios = price.values.tolist()\n",
    "            for prec in precios:\n",
    "                precio = str(prec[0])\n",
    "            if precio == 'None':\n",
    "                cursor.execute(\"INSERT OR IGNORE INTO Preprocesados VALUES (\"+\"'\"+zona+\"',\"+\"'\"+sistema+\"','\"+instance+\"','\"+aux+\"','\"+fecha+\"T06:00:00.000Z');\")\n",
    "            elif precio != 'None':\n",
    "                cursor.execute(\"INSERT OR IGNORE INTO Preprocesados VALUES (\"+\"'\"+zona+\"',\"+\"'\"+sistema+\"','\"+instance+\"','\"+precio+\"','\"+fecha+\"T06:00:00.000Z');\")\n",
    "                aux = str(precio)\n",
    "                    \n",
    "                \n",
    "            # Para las 07:00:00\n",
    "            price = pd.read_sql(\"SELECT MAX(SpotPrice) FROM \"+region+\"WHERE SpotPrice<>'SpotPrice' AND AvailabilityZone='\"+zona+\"' AND Description = '\"+sistema+\"' AND Timestamp >='\"+fecha+\"T07:00:00.000z' AND Timestamp <='\"+fecha+\"T07:59:59.000z';\",conexion)\n",
    "            precios = price.values.tolist()\n",
    "            for prec in precios:\n",
    "                precio = str(prec[0])\n",
    "            if precio == 'None':\n",
    "                cursor.execute(\"INSERT OR IGNORE INTO Preprocesados VALUES (\"+\"'\"+zona+\"',\"+\"'\"+sistema+\"','\"+instance+\"','\"+aux+\"','\"+fecha+\"T07:00:00.000Z');\")\n",
    "            elif precio != 'None':\n",
    "                cursor.execute(\"INSERT OR IGNORE INTO Preprocesados VALUES (\"+\"'\"+zona+\"',\"+\"'\"+sistema+\"','\"+instance+\"','\"+precio+\"','\"+fecha+\"T07:00:00.000Z');\")\n",
    "                aux = str(precio)\n",
    "                    \n",
    "                \n",
    "            # Para las 08:00:00\n",
    "            price = pd.read_sql(\"SELECT MAX(SpotPrice) FROM \"+region+\"WHERE SpotPrice<>'SpotPrice' AND AvailabilityZone='\"+zona+\"' AND Description = '\"+sistema+\"' AND Timestamp >='\"+fecha+\"T08:00:00.000z' AND Timestamp <='\"+fecha+\"T08:59:59.000z';\",conexion)\n",
    "            precios = price.values.tolist()\n",
    "            for prec in precios:\n",
    "                precio = str(prec[0])\n",
    "            if precio == 'None':\n",
    "                cursor.execute(\"INSERT OR IGNORE INTO Preprocesados VALUES (\"+\"'\"+zona+\"',\"+\"'\"+sistema+\"','\"+instance+\"','\"+aux+\"','\"+fecha+\"T08:00:00.000Z');\")\n",
    "            elif precio != 'None':\n",
    "                cursor.execute(\"INSERT OR IGNORE INTO Preprocesados VALUES (\"+\"'\"+zona+\"',\"+\"'\"+sistema+\"','\"+instance+\"','\"+precio+\"','\"+fecha+\"T08:00:00.000Z');\")\n",
    "                aux = str(precio)\n",
    "                    \n",
    "                \n",
    "            # Para las 09:00:00\n",
    "            price = pd.read_sql(\"SELECT MAX(SpotPrice) FROM \"+region+\"WHERE SpotPrice<>'SpotPrice' AND AvailabilityZone='\"+zona+\"' AND Description = '\"+sistema+\"' AND Timestamp >='\"+fecha+\"T09:00:00.000z' AND Timestamp <='\"+fecha+\"T09:59:59.000z';\",conexion)\n",
    "            precios = price.values.tolist()\n",
    "            for prec in precios:\n",
    "                precio = str(prec[0])\n",
    "            if precio == 'None':\n",
    "                cursor.execute(\"INSERT OR IGNORE INTO Preprocesados VALUES (\"+\"'\"+zona+\"',\"+\"'\"+sistema+\"','\"+instance+\"','\"+aux+\"','\"+fecha+\"T09:00:00.000Z');\")\n",
    "            elif precio != 'None':\n",
    "                cursor.execute(\"INSERT OR IGNORE INTO Preprocesados VALUES (\"+\"'\"+zona+\"',\"+\"'\"+sistema+\"','\"+instance+\"','\"+precio+\"','\"+fecha+\"T09:00:00.000Z');\")\n",
    "                aux = str(precio)\n",
    "                    \n",
    "                \n",
    "            # Para las 10:00:00\n",
    "            price = pd.read_sql(\"SELECT MAX(SpotPrice) FROM \"+region+\"WHERE SpotPrice<>'SpotPrice' AND AvailabilityZone='\"+zona+\"' AND Description = '\"+sistema+\"' AND Timestamp >='\"+fecha+\"T10:00:00.000z' AND Timestamp <='\"+fecha+\"T10:59:59.000z';\",conexion)\n",
    "            precios = price.values.tolist()\n",
    "            for prec in precios:\n",
    "                precio = str(prec[0])\n",
    "            if precio == 'None':\n",
    "                cursor.execute(\"INSERT OR IGNORE INTO Preprocesados VALUES (\"+\"'\"+zona+\"',\"+\"'\"+sistema+\"','\"+instance+\"','\"+aux+\"','\"+fecha+\"T10:00:00.000Z');\")\n",
    "            elif precio != 'None':\n",
    "                cursor.execute(\"INSERT OR IGNORE INTO Preprocesados VALUES (\"+\"'\"+zona+\"',\"+\"'\"+sistema+\"','\"+instance+\"','\"+precio+\"','\"+fecha+\"T10:00:00.000Z');\")\n",
    "                aux = str(precio)\n",
    "                    \n",
    "                \n",
    "            # Para las 11:00:00\n",
    "            price = pd.read_sql(\"SELECT MAX(SpotPrice) FROM \"+region+\"WHERE SpotPrice<>'SpotPrice' AND AvailabilityZone='\"+zona+\"' AND Description = '\"+sistema+\"' AND Timestamp >='\"+fecha+\"T11:00:00.000z' AND Timestamp <='\"+fecha+\"T11:59:59.000z';\",conexion)\n",
    "            precios = price.values.tolist()\n",
    "            for prec in precios:\n",
    "                precio = str(prec[0])\n",
    "            if precio == 'None':\n",
    "                cursor.execute(\"INSERT OR IGNORE INTO Preprocesados VALUES (\"+\"'\"+zona+\"',\"+\"'\"+sistema+\"','\"+instance+\"','\"+aux+\"','\"+fecha+\"T11:00:00.000Z');\")\n",
    "            elif precio != 'None':\n",
    "                cursor.execute(\"INSERT OR IGNORE INTO Preprocesados VALUES (\"+\"'\"+zona+\"',\"+\"'\"+sistema+\"','\"+instance+\"','\"+precio+\"','\"+fecha+\"T11:00:00.000Z');\")\n",
    "                aux = str(precio)\n",
    "                    \n",
    "                \n",
    "            # Para las 12:00:00\n",
    "            price = pd.read_sql(\"SELECT MAX(SpotPrice) FROM \"+region+\"WHERE SpotPrice<>'SpotPrice' AND AvailabilityZone='\"+zona+\"' AND Description = '\"+sistema+\"' AND Timestamp >='\"+fecha+\"T12:00:00.000z' AND Timestamp <='\"+fecha+\"T12:59:59.000z';\",conexion)\n",
    "            precios = price.values.tolist()\n",
    "            for prec in precios:\n",
    "                precio = str(prec[0])\n",
    "            if precio == 'None':\n",
    "                cursor.execute(\"INSERT OR IGNORE INTO Preprocesados VALUES (\"+\"'\"+zona+\"',\"+\"'\"+sistema+\"','\"+instance+\"','\"+aux+\"','\"+fecha+\"T12:00:00.000Z');\")\n",
    "            elif precio != 'None':\n",
    "                cursor.execute(\"INSERT OR IGNORE INTO Preprocesados VALUES (\"+\"'\"+zona+\"',\"+\"'\"+sistema+\"','\"+instance+\"','\"+precio+\"','\"+fecha+\"T12:00:00.000Z');\")\n",
    "                aux = str(precio)\n",
    "                    \n",
    "                \n",
    "            # Para las 13:00:00\n",
    "            price = pd.read_sql(\"SELECT MAX(SpotPrice) FROM \"+region+\"WHERE SpotPrice<>'SpotPrice' AND AvailabilityZone='\"+zona+\"' AND Description = '\"+sistema+\"' AND Timestamp >='\"+fecha+\"T13:00:00.000z' AND Timestamp <='\"+fecha+\"T13:59:59.000z';\",conexion)\n",
    "            precios = price.values.tolist()\n",
    "            for prec in precios:\n",
    "                precio = str(prec[0])\n",
    "            if precio == 'None':\n",
    "                cursor.execute(\"INSERT OR IGNORE INTO Preprocesados VALUES (\"+\"'\"+zona+\"',\"+\"'\"+sistema+\"','\"+instance+\"','\"+aux+\"','\"+fecha+\"T13:00:00.000Z');\")\n",
    "            elif precio != 'None':\n",
    "                cursor.execute(\"INSERT OR IGNORE INTO Preprocesados VALUES (\"+\"'\"+zona+\"',\"+\"'\"+sistema+\"','\"+instance+\"','\"+precio+\"','\"+fecha+\"T13:00:00.000Z');\")\n",
    "                aux = str(precio)\n",
    "                    \n",
    "                \n",
    "            # Para las 14:00:00\n",
    "            price = pd.read_sql(\"SELECT MAX(SpotPrice) FROM \"+region+\"WHERE SpotPrice<>'SpotPrice' AND AvailabilityZone='\"+zona+\"' AND Description = '\"+sistema+\"' AND Timestamp >='\"+fecha+\"T14:00:00.000z' AND Timestamp <='\"+fecha+\"T14:59:59.000z';\",conexion)\n",
    "            precios = price.values.tolist()\n",
    "            for prec in precios:\n",
    "                precio = str(prec[0])\n",
    "            if precio == 'None':\n",
    "                cursor.execute(\"INSERT OR IGNORE INTO Preprocesados VALUES (\"+\"'\"+zona+\"',\"+\"'\"+sistema+\"','\"+instance+\"','\"+aux+\"','\"+fecha+\"T14:00:00.000Z');\")\n",
    "            elif precio != 'None':\n",
    "                cursor.execute(\"INSERT OR IGNORE INTO Preprocesados VALUES (\"+\"'\"+zona+\"',\"+\"'\"+sistema+\"','\"+instance+\"','\"+precio+\"','\"+fecha+\"T14:00:00.000Z');\")\n",
    "                aux = str(precio)\n",
    "                    \n",
    "                \n",
    "            # Para las 15:00:00\n",
    "            price = pd.read_sql(\"SELECT MAX(SpotPrice) FROM \"+region+\"WHERE SpotPrice<>'SpotPrice' AND AvailabilityZone='\"+zona+\"' AND Description = '\"+sistema+\"' AND Timestamp >='\"+fecha+\"T15:00:00.000z' AND Timestamp <='\"+fecha+\"T15:59:59.000z';\",conexion)\n",
    "            precios = price.values.tolist()\n",
    "            for prec in precios:\n",
    "                precio = str(prec[0])\n",
    "            if precio == 'None':\n",
    "                cursor.execute(\"INSERT OR IGNORE INTO Preprocesados VALUES (\"+\"'\"+zona+\"',\"+\"'\"+sistema+\"','\"+instance+\"','\"+aux+\"','\"+fecha+\"T15:00:00.000Z');\")\n",
    "            elif precio != 'None':\n",
    "                cursor.execute(\"INSERT OR IGNORE INTO Preprocesados VALUES (\"+\"'\"+zona+\"',\"+\"'\"+sistema+\"','\"+instance+\"','\"+precio+\"','\"+fecha+\"T15:00:00.000Z');\")\n",
    "                aux = str(precio)\n",
    "                    \n",
    "                \n",
    "            # Para las 16:00:00\n",
    "            price = pd.read_sql(\"SELECT MAX(SpotPrice) FROM \"+region+\"WHERE SpotPrice<>'SpotPrice' AND AvailabilityZone='\"+zona+\"' AND Description = '\"+sistema+\"' AND Timestamp >='\"+fecha+\"T16:00:00.000z' AND Timestamp <='\"+fecha+\"T16:59:59.000z';\",conexion)\n",
    "            precios = price.values.tolist()\n",
    "            for prec in precios:\n",
    "                precio = str(prec[0])\n",
    "            if precio == 'None':\n",
    "                cursor.execute(\"INSERT OR IGNORE INTO Preprocesados VALUES (\"+\"'\"+zona+\"',\"+\"'\"+sistema+\"','\"+instance+\"','\"+aux+\"','\"+fecha+\"T16:00:00.000Z');\")\n",
    "            elif precio != 'None':\n",
    "                cursor.execute(\"INSERT OR IGNORE INTO Preprocesados VALUES (\"+\"'\"+zona+\"',\"+\"'\"+sistema+\"','\"+instance+\"','\"+precio+\"','\"+fecha+\"T16:00:00.000Z');\")\n",
    "                aux = str(precio)\n",
    "                    \n",
    "                \n",
    "            # Para las 17:00:00\n",
    "            price = pd.read_sql(\"SELECT MAX(SpotPrice) FROM \"+region+\"WHERE SpotPrice<>'SpotPrice' AND AvailabilityZone='\"+zona+\"' AND Description = '\"+sistema+\"' AND Timestamp >='\"+fecha+\"T17:00:00.000z' AND Timestamp <='\"+fecha+\"T17:59:59.000z';\",conexion)\n",
    "            precios = price.values.tolist()\n",
    "            for prec in precios:\n",
    "                precio = str(prec[0])\n",
    "            if precio == 'None':\n",
    "                cursor.execute(\"INSERT OR IGNORE INTO Preprocesados VALUES (\"+\"'\"+zona+\"',\"+\"'\"+sistema+\"','\"+instance+\"','\"+aux+\"','\"+fecha+\"T17:00:00.000Z');\")\n",
    "            elif precio != 'None':\n",
    "                cursor.execute(\"INSERT OR IGNORE INTO Preprocesados VALUES (\"+\"'\"+zona+\"',\"+\"'\"+sistema+\"','\"+instance+\"','\"+precio+\"','\"+fecha+\"T17:00:00.000Z');\")\n",
    "                aux = str(precio)\n",
    "                    \n",
    "                \n",
    "            # Para las 18:00:00\n",
    "            price = pd.read_sql(\"SELECT MAX(SpotPrice) FROM \"+region+\"WHERE SpotPrice<>'SpotPrice' AND AvailabilityZone='\"+zona+\"' AND Description = '\"+sistema+\"' AND Timestamp >='\"+fecha+\"T18:00:00.000z' AND Timestamp <='\"+fecha+\"T18:59:59.000z';\",conexion)\n",
    "            precios = price.values.tolist()\n",
    "            for prec in precios:\n",
    "                precio = str(prec[0])\n",
    "            if precio == 'None':\n",
    "                cursor.execute(\"INSERT OR IGNORE INTO Preprocesados VALUES (\"+\"'\"+zona+\"',\"+\"'\"+sistema+\"','\"+instance+\"','\"+aux+\"','\"+fecha+\"T18:00:00.000Z');\")\n",
    "            elif precio != 'None':\n",
    "                cursor.execute(\"INSERT OR IGNORE INTO Preprocesados VALUES (\"+\"'\"+zona+\"',\"+\"'\"+sistema+\"','\"+instance+\"','\"+precio+\"','\"+fecha+\"T18:00:00.000Z');\")\n",
    "                aux = str(precio)\n",
    "                    \n",
    "                \n",
    "            # Para las 19:00:00\n",
    "            price = pd.read_sql(\"SELECT MAX(SpotPrice) FROM \"+region+\"WHERE SpotPrice<>'SpotPrice' AND AvailabilityZone='\"+zona+\"' AND Description = '\"+sistema+\"' AND Timestamp >='\"+fecha+\"T19:00:00.000z' AND Timestamp <='\"+fecha+\"T19:59:59.000z';\",conexion)\n",
    "            precios = price.values.tolist()\n",
    "            for prec in precios:\n",
    "                precio = str(prec[0])\n",
    "            if precio == 'None':\n",
    "                cursor.execute(\"INSERT OR IGNORE INTO Preprocesados VALUES (\"+\"'\"+zona+\"',\"+\"'\"+sistema+\"','\"+instance+\"','\"+aux+\"','\"+fecha+\"T19:00:00.000Z');\")\n",
    "            elif precio != 'None':\n",
    "                cursor.execute(\"INSERT OR IGNORE INTO Preprocesados VALUES (\"+\"'\"+zona+\"',\"+\"'\"+sistema+\"','\"+instance+\"','\"+precio+\"','\"+fecha+\"T19:00:00.000Z');\")\n",
    "                aux = str(precio)\n",
    "                    \n",
    "                \n",
    "            # Para las 20:00:00\n",
    "            price = pd.read_sql(\"SELECT MAX(SpotPrice) FROM \"+region+\"WHERE SpotPrice<>'SpotPrice' AND AvailabilityZone='\"+zona+\"' AND Description = '\"+sistema+\"' AND Timestamp >='\"+fecha+\"T20:00:00.000z' AND Timestamp <='\"+fecha+\"T20:59:59.000z';\",conexion)\n",
    "            precios = price.values.tolist()\n",
    "            for prec in precios:\n",
    "                precio = str(prec[0])\n",
    "            if precio == 'None':\n",
    "                cursor.execute(\"INSERT OR IGNORE INTO Preprocesados VALUES (\"+\"'\"+zona+\"',\"+\"'\"+sistema+\"','\"+instance+\"','\"+aux+\"','\"+fecha+\"T20:00:00.000Z');\")\n",
    "            elif precio != 'None':\n",
    "                cursor.execute(\"INSERT OR IGNORE INTO Preprocesados VALUES (\"+\"'\"+zona+\"',\"+\"'\"+sistema+\"','\"+instance+\"','\"+precio+\"','\"+fecha+\"T20:00:00.000Z');\")\n",
    "                aux = str(precio)\n",
    "                    \n",
    "                \n",
    "            # Para las 21:00:00\n",
    "            price = pd.read_sql(\"SELECT MAX(SpotPrice) FROM \"+region+\"WHERE SpotPrice<>'SpotPrice' AND AvailabilityZone='\"+zona+\"' AND Description = '\"+sistema+\"' AND Timestamp >='\"+fecha+\"T21:00:00.000z' AND Timestamp <='\"+fecha+\"T21:59:59.000z';\",conexion)\n",
    "            precios = price.values.tolist()\n",
    "            for prec in precios:\n",
    "                precio = str(prec[0])\n",
    "            if precio == 'None':\n",
    "                cursor.execute(\"INSERT OR IGNORE INTO Preprocesados VALUES (\"+\"'\"+zona+\"',\"+\"'\"+sistema+\"','\"+instance+\"','\"+aux+\"','\"+fecha+\"T21:00:00.000Z');\")\n",
    "            elif precio != 'None':\n",
    "                cursor.execute(\"INSERT OR IGNORE INTO Preprocesados VALUES (\"+\"'\"+zona+\"',\"+\"'\"+sistema+\"','\"+instance+\"','\"+precio+\"','\"+fecha+\"T21:00:00.000Z');\")\n",
    "                aux = str(precio)\n",
    "                    \n",
    "                \n",
    "            # Para las 22:00:00\n",
    "            price = pd.read_sql(\"SELECT MAX(SpotPrice) FROM \"+region+\"WHERE SpotPrice<>'SpotPrice' AND AvailabilityZone='\"+zona+\"' AND Description = '\"+sistema+\"' AND Timestamp >='\"+fecha+\"T22:00:00.000z' AND Timestamp <='\"+fecha+\"T22:59:59.000z';\",conexion)\n",
    "            precios = price.values.tolist()\n",
    "            for prec in precios:\n",
    "                precio = str(prec[0])\n",
    "            if precio == 'None':\n",
    "                cursor.execute(\"INSERT OR IGNORE INTO Preprocesados VALUES (\"+\"'\"+zona+\"',\"+\"'\"+sistema+\"','\"+instance+\"','\"+aux+\"','\"+fecha+\"T22:00:00.000Z');\")\n",
    "            elif precio != 'None':\n",
    "                cursor.execute(\"INSERT OR IGNORE INTO Preprocesados VALUES (\"+\"'\"+zona+\"',\"+\"'\"+sistema+\"','\"+instance+\"','\"+precio+\"','\"+fecha+\"T22:00:00.000Z');\")\n",
    "                aux = str(precio)\n",
    "                    \n",
    "                \n",
    "            # Para las 23:00:00\n",
    "            price = pd.read_sql(\"SELECT MAX(SpotPrice) FROM \"+region+\"WHERE SpotPrice<>'SpotPrice' AND AvailabilityZone='\"+zona+\"' AND Description = '\"+sistema+\"' AND Timestamp >='\"+fecha+\"T23:00:00.000z' AND Timestamp <='\"+fecha+\"T23:59:59.000z';\",conexion)\n",
    "            precios = price.values.tolist()\n",
    "            for prec in precios:\n",
    "                precio = str(prec[0])\n",
    "            if precio == 'None':\n",
    "                cursor.execute(\"INSERT OR IGNORE INTO Preprocesados VALUES (\"+\"'\"+zona+\"',\"+\"'\"+sistema+\"','\"+instance+\"','\"+aux+\"','\"+fecha+\"T23:00:00.000Z');\")\n",
    "            elif precio != 'None':\n",
    "                cursor.execute(\"INSERT OR IGNORE INTO Preprocesados VALUES (\"+\"'\"+zona+\"',\"+\"'\"+sistema+\"','\"+instance+\"','\"+precio+\"','\"+fecha+\"T23:00:00.000Z');\")\n",
    "                aux = str(precio)\n",
    "                   \n",
    "\n",
    "# Eliminamos los registros donde el precio sea 0\n",
    "cursor.execute(\"DELETE FROM Preprocesados WHERE SpotPrice = 0.0\")\n",
    "            \n",
    "#print(lista)\n",
    "\n",
    "# Guardamos los cambios haciendo un commit\n",
    "conexion.commit()\n",
    "    \n",
    "# Cerrar la conexión siempre\n",
    "connection.close()\n"
   ]
  },
  {
   "cell_type": "markdown",
   "metadata": {},
   "source": [
    "### Recorremos datos preprocesados"
   ]
  },
  {
   "cell_type": "code",
   "execution_count": 13,
   "metadata": {
    "collapsed": true
   },
   "outputs": [],
   "source": [
    "# Conectar con la base de datos\n",
    "with sqlite3.connect(\"BBDD.db\") as connection:\n",
    "    # Abrimos el csv a insertar los datos\n",
    "    csvWriter = csv.writer(open(\"datos.csv\", \"w\"))\n",
    "    # Creamos el cursor\n",
    "    c = connection.cursor()\n",
    "    # Hacemos la consulta\n",
    "    data = c.execute(\"SELECT * FROM Preprocesados ORDER BY Timestamp Desc\") # Ordenamos los datos desde el más reciente al menos\n",
    "    # Insertamos los datos en el dataset\n",
    "    rows = data.fetchall()\n",
    "    csvWriter.writerows(rows)\n",
    "\n",
    "# Cerrar la conexión siempre\n",
    "connection.close()"
   ]
  },
  {
   "cell_type": "markdown",
   "metadata": {},
   "source": [
    "### Cargamos datos preprocesados al dataframe"
   ]
  },
  {
   "cell_type": "code",
   "execution_count": 14,
   "metadata": {
    "collapsed": true
   },
   "outputs": [],
   "source": [
    "df = pd.read_csv(\"datos.csv\")\n",
    "#df.head(5)"
   ]
  },
  {
   "cell_type": "markdown",
   "metadata": {},
   "source": [
    "--------------------------------------------------------------------------------------------------------------------------------"
   ]
  },
  {
   "cell_type": "markdown",
   "metadata": {},
   "source": [
    "# 4. Estimación del Precio Spot (bid)"
   ]
  },
  {
   "cell_type": "code",
   "execution_count": 15,
   "metadata": {
    "collapsed": true
   },
   "outputs": [],
   "source": [
    "def media(datos):\n",
    "    cont = 0\n",
    "    for d in datos:\n",
    "        cont = cont + d\n",
    "    return cont/len(datos)\n",
    "\n",
    "for i,date in enumerate(df['Timestamp']):\n",
    "    lista.append(date[:10])\n",
    "lista2=[]  # En lista2 tengo los días\n",
    "for e in lista:\n",
    "    if e not in lista2:\n",
    "        lista2.append(e)\n",
    "lista2.reverse()\n",
    "\n",
    "df2 = df.drop('AvailabilityZone', 1)\n",
    "df2 = df2.drop('Description', 1)\n",
    "df2 = df2.drop('InstanceType', 1)\n",
    "\n",
    "price = []\n",
    "lol = df2.values.tolist()\n",
    "lol.reverse()\n",
    "\n",
    "\n",
    "dfDays = pd.DataFrame(columns=['Periodo por días', 'Precio Real']) # Creamos el dataframe para los días\n",
    "\n",
    "for fecha in lista2:\n",
    "    for lista in lol:\n",
    "        #print(str(fecha)+\"T23:00:00.000Z\")\n",
    "        if (lista[1] == str(fecha)+\"T23:00:00.000Z\"):\n",
    "            price.append(lista[0])\n",
    "        if (lista[1] == str(fecha)+\"T22:00:00.000Z\"):\n",
    "            price.append(lista[0])\n",
    "        if (lista[1] == str(fecha)+\"T21:00:00.000Z\"):\n",
    "            price.append(lista[0])\n",
    "        if (lista[1] == str(fecha)+\"T20:00:00.000Z\"):\n",
    "            price.append(lista[0])\n",
    "        if (lista[1] == str(fecha)+\"T19:00:00.000Z\"):\n",
    "            price.append(lista[0])\n",
    "        if (lista[1] == str(fecha)+\"T18:00:00.000Z\"):\n",
    "            price.append(lista[0])\n",
    "        if (lista[1] == str(fecha)+\"T17:00:00.000Z\"):\n",
    "            price.append(lista[0])\n",
    "        if (lista[1] == str(fecha)+\"T16:00:00.000Z\"):\n",
    "            price.append(lista[0])\n",
    "        if (lista[1] == str(fecha)+\"T15:00:00.000Z\"):\n",
    "            price.append(lista[0])\n",
    "        if (lista[1] == str(fecha)+\"T14:00:00.000Z\"):\n",
    "            price.append(lista[0])\n",
    "        if (lista[1] == str(fecha)+\"T13:00:00.000Z\"):\n",
    "            price.append(lista[0])\n",
    "        if (lista[1] == str(fecha)+\"T12:00:00.000Z\"):\n",
    "            price.append(lista[0])\n",
    "        if (lista[1] == str(fecha)+\"T11:00:00.000Z\"):\n",
    "            price.append(lista[0])\n",
    "        if (lista[1] == str(fecha)+\"T10:00:00.000Z\"):\n",
    "            price.append(lista[0])\n",
    "        if (lista[1] == str(fecha)+\"T09:00:00.000Z\"):\n",
    "            price.append(lista[0])\n",
    "        if (lista[1] == str(fecha)+\"T08:00:00.000Z\"):\n",
    "            price.append(lista[0])\n",
    "        if (lista[1] == str(fecha)+\"T07:00:00.000Z\"):\n",
    "            price.append(lista[0])\n",
    "        if (lista[1] == str(fecha)+\"T06:00:00.000Z\"):\n",
    "            price.append(lista[0])\n",
    "        if (lista[1] == str(fecha)+\"T05:00:00.000Z\"):\n",
    "            price.append(lista[0])\n",
    "        if (lista[1] == str(fecha)+\"T04:00:00.000Z\"):\n",
    "            price.append(lista[0])\n",
    "        if (lista[1] == str(fecha)+\"T03:00:00.000Z\"):\n",
    "            price.append(lista[0])\n",
    "        if (lista[1] == str(fecha)+\"T02:00:00.000Z\"):\n",
    "            price.append(lista[0])\n",
    "        if (lista[1] == str(fecha)+\"T01:00:00.000Z\"):\n",
    "            price.append(lista[0])\n",
    "        if (lista[1] == str(fecha)+\"T00:00:00.000Z\"):\n",
    "            price.append(lista[0])\n",
    "    if price: # Si la lista no está vacía\n",
    "        dfDays.loc[len(dfDays)]=[fecha,round(media(price),4)]\n",
    "    price = []\n",
    "#dfDays"
   ]
  },
  {
   "cell_type": "code",
   "execution_count": 16,
   "metadata": {
    "collapsed": true
   },
   "outputs": [],
   "source": [
    "formatter_string = \"%Y-%m-%d\" \n",
    "datetime_object = datetime.strptime(f_inicio, formatter_string) # convertimos de string a fecha\n",
    "date_object = datetime_object.date()\n",
    "\n",
    "date = date_object - timedelta(days=retro-1)\n",
    "\n",
    "dfDaysAux = dfDays[ dfDays['Periodo por días'] <= f_final ]\n",
    "dfDays = dfDaysAux[ dfDaysAux['Periodo por días'] >= str(date) ]\n",
    "listaData = dfDays.values.tolist()\n",
    "dfDays = pd.DataFrame(listaData,columns=['Periodo por días', 'Precio Real'])\n",
    "\n",
    "#dfDays"
   ]
  },
  {
   "cell_type": "markdown",
   "metadata": {},
   "source": [
    "### Tabla Precio Real y Predicción"
   ]
  },
  {
   "cell_type": "code",
   "execution_count": 17,
   "metadata": {
    "scrolled": false
   },
   "outputs": [
    {
     "data": {
      "text/html": [
       "<div>\n",
       "<style>\n",
       "    .dataframe thead tr:only-child th {\n",
       "        text-align: right;\n",
       "    }\n",
       "\n",
       "    .dataframe thead th {\n",
       "        text-align: left;\n",
       "    }\n",
       "\n",
       "    .dataframe tbody tr th {\n",
       "        vertical-align: top;\n",
       "    }\n",
       "</style>\n",
       "<table border=\"1\" class=\"dataframe\">\n",
       "  <thead>\n",
       "    <tr style=\"text-align: right;\">\n",
       "      <th></th>\n",
       "      <th>Periodo por días</th>\n",
       "      <th>Precio Real</th>\n",
       "      <th>Precio Estimado</th>\n",
       "      <th>Nº Fallos / Dia</th>\n",
       "      <th>Max Duracion Ininterrumpida</th>\n",
       "    </tr>\n",
       "  </thead>\n",
       "  <tbody>\n",
       "    <tr>\n",
       "      <th>0</th>\n",
       "      <td>2018-05-25</td>\n",
       "      <td>1.4821</td>\n",
       "      <td>1.4821</td>\n",
       "      <td>8</td>\n",
       "      <td>16</td>\n",
       "    </tr>\n",
       "    <tr>\n",
       "      <th>1</th>\n",
       "      <td>2018-05-26</td>\n",
       "      <td>1.4864</td>\n",
       "      <td>1.4864</td>\n",
       "      <td>7</td>\n",
       "      <td>9</td>\n",
       "    </tr>\n",
       "    <tr>\n",
       "      <th>2</th>\n",
       "      <td>2018-05-27</td>\n",
       "      <td>1.4895</td>\n",
       "      <td>1.4895</td>\n",
       "      <td>7</td>\n",
       "      <td>17</td>\n",
       "    </tr>\n",
       "    <tr>\n",
       "      <th>3</th>\n",
       "      <td>2018-05-28</td>\n",
       "      <td>1.5483</td>\n",
       "      <td>1.5483</td>\n",
       "      <td>7</td>\n",
       "      <td>12</td>\n",
       "    </tr>\n",
       "    <tr>\n",
       "      <th>4</th>\n",
       "      <td>2018-05-29</td>\n",
       "      <td>1.5133</td>\n",
       "      <td>1.5133</td>\n",
       "      <td>11</td>\n",
       "      <td>13</td>\n",
       "    </tr>\n",
       "    <tr>\n",
       "      <th>5</th>\n",
       "      <td>2018-05-30</td>\n",
       "      <td>1.5303</td>\n",
       "      <td>1.5303</td>\n",
       "      <td>14</td>\n",
       "      <td>10</td>\n",
       "    </tr>\n",
       "    <tr>\n",
       "      <th>6</th>\n",
       "      <td>2018-05-31</td>\n",
       "      <td>1.5927</td>\n",
       "      <td>1.5927</td>\n",
       "      <td>13</td>\n",
       "      <td>11</td>\n",
       "    </tr>\n",
       "    <tr>\n",
       "      <th>7</th>\n",
       "      <td>2018-06-01</td>\n",
       "      <td>1.5794</td>\n",
       "      <td>1.5794</td>\n",
       "      <td>13</td>\n",
       "      <td>11</td>\n",
       "    </tr>\n",
       "  </tbody>\n",
       "</table>\n",
       "</div>"
      ],
      "text/plain": [
       "  Periodo por días  Precio Real  Precio Estimado Nº Fallos / Dia  \\\n",
       "0       2018-05-25       1.4821           1.4821               8   \n",
       "1       2018-05-26       1.4864           1.4864               7   \n",
       "2       2018-05-27       1.4895           1.4895               7   \n",
       "3       2018-05-28       1.5483           1.5483               7   \n",
       "4       2018-05-29       1.5133           1.5133              11   \n",
       "5       2018-05-30       1.5303           1.5303              14   \n",
       "6       2018-05-31       1.5927           1.5927              13   \n",
       "7       2018-06-01       1.5794           1.5794              13   \n",
       "\n",
       "  Max Duracion Ininterrumpida  \n",
       "0                          16  \n",
       "1                           9  \n",
       "2                          17  \n",
       "3                          12  \n",
       "4                          13  \n",
       "5                          10  \n",
       "6                          11  \n",
       "7                          11  "
      ]
     },
     "execution_count": 17,
     "metadata": {},
     "output_type": "execute_result"
    }
   ],
   "source": [
    "dfDays1 = pd.DataFrame(columns=['Precio Estimado'])\n",
    "\n",
    "ewma = pd.Series.ewm\n",
    "# com,span,halflife son el valor de landa, min_periods es el valor de n para mirar atrás\n",
    "dfReal = dfDays['Precio Real']\n",
    "Days = round(ewma(dfReal,alpha=landa,min_periods=retro,adjust=True).mean(),4)\n",
    "\n",
    "for i in Days:\n",
    "    dfDays1.loc[len(dfDays1)]=[i]\n",
    "\n",
    "dfDays = pd.concat([dfDays, dfDays1], axis=1)\n",
    "dfDays = dfDays.dropna() # eliminamos los valores nan anteriores que solo nos sirven para hacer el cálculo\n",
    "dfDays = dfDays.reset_index(drop=True)\n",
    "#dfDays\n",
    "\n",
    "dfAux = pd.DataFrame(columns=['Periodo por días','Precio Real','Precio Estimado'])\n",
    "\n",
    "# Pasamos los dataframe df (para capturar las horas) y dfDays (para capturar los dias) a listas\n",
    "dfList = df.values.tolist()\n",
    "dfDaysList = dfDays.values.tolist()\n",
    "\n",
    "contFail = 0 # Fallos en cada día\n",
    "contTotal = 0 # Fallos en total\n",
    "contDur = 0\n",
    "listDur = []\n",
    "MaxDur = []\n",
    "Fails = []\n",
    "\n",
    "dfDays2 = pd.DataFrame(columns=['Nº Fallos / Dia'])\n",
    "\n",
    "# Sacamos los fallos por cada dia y totales (real > estimado)\n",
    "for i in dfDaysList:\n",
    "    for e in dfList: \n",
    "        u = e[4]\n",
    "        if(i[0]==u[:10]):\n",
    "            if(e[3] > i[2]):\n",
    "                contFail = contFail + 1\n",
    "                contTotal = contTotal + 1\n",
    "                listDur.append(contDur)\n",
    "                contDur = 0\n",
    "            else:\n",
    "                contDur = contDur + 1\n",
    "                listDur.append(contDur)\n",
    "    if(listDur != []):\n",
    "        MaxDur.append(max(listDur))\n",
    "        #print(max(listDur))\n",
    "    else:\n",
    "        MaxDur.append(0)\n",
    "        #print(0)\n",
    "    listDur = []\n",
    "    contDur = 0\n",
    "    Fails.append(contFail)\n",
    "    contFail = 0\n",
    "    \n",
    "for i in Fails:\n",
    "    dfDays2.loc[len(dfDays2)]=[i]\n",
    "dfDays = pd.concat([dfDays, dfDays2], axis=1)\n",
    "\n",
    "dfDays3 = pd.DataFrame(columns=['Max Duracion Ininterrumpida'])\n",
    "\n",
    "for i in MaxDur:\n",
    "    dfDays3.loc[len(dfDays3)]=[i]\n",
    "dfDays = pd.concat([dfDays, dfDays3], axis=1)\n",
    "dfDays"
   ]
  },
  {
   "cell_type": "markdown",
   "metadata": {},
   "source": [
    "### Cálculo del precio mínimo"
   ]
  },
  {
   "cell_type": "code",
   "execution_count": 18,
   "metadata": {},
   "outputs": [
    {
     "name": "stdout",
     "output_type": "stream",
     "text": [
      "El precio mínimo estimado es: 1.4821\n"
     ]
    }
   ],
   "source": [
    "ListData = dfDays.values.tolist()\n",
    "listPrices = []\n",
    "\n",
    "for i in ListData:\n",
    "    if(i[4] >= duracion and i[2] >= alpha):\n",
    "        listPrices.append(i[2])\n",
    "print(\"El precio mínimo estimado es:\",min(listPrices))"
   ]
  },
  {
   "cell_type": "markdown",
   "metadata": {},
   "source": [
    "### Error Cuadrático Medio (MSE)"
   ]
  },
  {
   "cell_type": "code",
   "execution_count": 19,
   "metadata": {},
   "outputs": [
    {
     "data": {
      "text/plain": [
       "0.0"
      ]
     },
     "execution_count": 19,
     "metadata": {},
     "output_type": "execute_result"
    }
   ],
   "source": [
    "from sklearn.metrics import mean_squared_error\n",
    "mean_squared_error(dfDays['Precio Real'], dfDays['Precio Estimado'])"
   ]
  },
  {
   "cell_type": "markdown",
   "metadata": {},
   "source": [
    "### Error Absoluto Medio (MAE)"
   ]
  },
  {
   "cell_type": "code",
   "execution_count": 20,
   "metadata": {},
   "outputs": [
    {
     "data": {
      "text/plain": [
       "0.0"
      ]
     },
     "execution_count": 20,
     "metadata": {},
     "output_type": "execute_result"
    }
   ],
   "source": [
    "from sklearn.metrics import mean_absolute_error\n",
    "mean_absolute_error(dfDays['Precio Real'], dfDays['Precio Estimado'])"
   ]
  },
  {
   "cell_type": "markdown",
   "metadata": {},
   "source": [
    "### Error: Total de fallos"
   ]
  },
  {
   "cell_type": "code",
   "execution_count": 21,
   "metadata": {},
   "outputs": [
    {
     "name": "stdout",
     "output_type": "stream",
     "text": [
      "El total de fallos ha sido:  80\n"
     ]
    }
   ],
   "source": [
    "print(\"El total de fallos ha sido: \",contTotal)"
   ]
  },
  {
   "cell_type": "markdown",
   "metadata": {},
   "source": [
    "### Gráfica Precio Real - Precio Estimado"
   ]
  },
  {
   "cell_type": "code",
   "execution_count": 22,
   "metadata": {},
   "outputs": [
    {
     "data": {
      "image/png": "[encoded data removed]",
      "text/plain": [
       "<matplotlib.figure.Figure at 0x22a92216c18>"
      ]
     },
     "metadata": {},
     "output_type": "display_data"
    }
   ],
   "source": [
    "%matplotlib inline\n",
    "from pylab import *\n",
    "import matplotlib.pyplot as plt\n",
    "from pylab import *\n",
    "\n",
    "x = dfDays['Periodo por días']\n",
    "y1 = dfDays['Precio Real']\n",
    "y2 = dfDays['Precio Estimado']\n",
    "\n",
    "figure()\n",
    "plt.plot(x, y1, 'r', color='b')\n",
    "plt.plot(x, y2, 'r', color='r', linestyle='--')\n",
    "plt.axis([min(x),max(x),min(y1),max(y1)])\n",
    "plt.legend()\n",
    "xlabel('Período por días')\n",
    "ylabel('Precio')\n",
    "title('Precio Real - Precio Estimado')\n",
    "show()"
   ]
  },
  {
   "cell_type": "code",
   "execution_count": 23,
   "metadata": {
    "collapsed": true
   },
   "outputs": [],
   "source": [
    "dfDays.to_csv('output.csv', sep=',')"
   ]
  }
 ],
 "metadata": {
  "kernelspec": {
   "display_name": "Python 3",
   "language": "python",
   "name": "python3"
  },
  "language_info": {
   "codemirror_mode": {
    "name": "ipython",
    "version": 3
   },
   "file_extension": ".py",
   "mimetype": "text/x-python",
   "name": "python",
   "nbconvert_exporter": "python",
   "pygments_lexer": "ipython3",
   "version": "3.6.3"
  }
 },
 "nbformat": 4,
 "nbformat_minor": 1
}
