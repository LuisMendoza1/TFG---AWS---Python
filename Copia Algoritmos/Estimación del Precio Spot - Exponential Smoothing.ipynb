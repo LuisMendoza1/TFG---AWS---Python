{
 "cells": [
  {
   "cell_type": "markdown",
   "metadata": {},
   "source": [
    "# Estimación del Precio Spot (Bid)\n"
   ]
  },
  {
   "cell_type": "markdown",
   "metadata": {},
   "source": [
    "## Realizado por: Luis Mendoza Montero"
   ]
  },
  {
   "cell_type": "markdown",
   "metadata": {},
   "source": [
    "***Desarrollo del trabajo:***\n",
    "\n",
    "1. Cargar paquetes\n",
    "2. Selección de parámetros\n",
    "3. Preprocesado de datos\n",
    "4. Estimación del precio Spot (bid)\n",
    "\n"
   ]
  },
  {
   "cell_type": "markdown",
   "metadata": {},
   "source": [
    "# 1. Cargar paquetes"
   ]
  },
  {
   "cell_type": "code",
   "execution_count": 1,
   "metadata": {
    "collapsed": true
   },
   "outputs": [],
   "source": [
    "import sqlite3\n",
    "import csv\n",
    "import sys\n",
    "import numpy as np\n",
    "import random\n",
    "import pandas as pd\n",
    "import matplotlib.pyplot as plt\n",
    "from glob import glob; from os.path import expanduser\n",
    "from datetime import datetime, date, time, timedelta\n",
    "import calendar\n"
   ]
  },
  {
   "cell_type": "markdown",
   "metadata": {},
   "source": [
    "--------------------------------------------------------------------------------------------------------------------------------"
   ]
  },
  {
   "cell_type": "markdown",
   "metadata": {},
   "source": [
    "# 2. Selección de Parámetros"
   ]
  },
  {
   "cell_type": "markdown",
   "metadata": {},
   "source": [
    "### Seleccionar region y categoría (tabla de la BBDD)"
   ]
  },
  {
   "cell_type": "code",
   "execution_count": 2,
   "metadata": {
    "collapsed": true
   },
   "outputs": [],
   "source": [
    "region = \"'C5_eu_west_1'\""
   ]
  },
  {
   "cell_type": "markdown",
   "metadata": {},
   "source": [
    "### Seleccionar tipo de Sistema Operativo"
   ]
  },
  {
   "cell_type": "markdown",
   "metadata": {},
   "source": [
    "Existes 3 tipos de sistemas: ***Windows, Linux/UNIX o SUSE Linux***"
   ]
  },
  {
   "cell_type": "code",
   "execution_count": 3,
   "metadata": {
    "collapsed": true
   },
   "outputs": [],
   "source": [
    "sistema = \"SUSE Linux\""
   ]
  },
  {
   "cell_type": "markdown",
   "metadata": {},
   "source": [
    "Sacamos las zonas de disponibilidad, los sistemas operativos y las fechas de las instancias"
   ]
  },
  {
   "cell_type": "code",
   "execution_count": 4,
   "metadata": {},
   "outputs": [
    {
     "name": "stdout",
     "output_type": "stream",
     "text": [
      "c5.2xlarge\n"
     ]
    }
   ],
   "source": [
    "# Conectar con la base de datos\n",
    "with sqlite3.connect(\"BBDD.db\") as connection:\n",
    "    \n",
    "    # Sacamos el tipo de istancia (nombre + familia)\n",
    "    instances = pd.read_sql(\"SELECT DISTINCT InstanceType FROM \"+region+\";\", connection) \n",
    "    instances_list = instances.values.tolist()\n",
    "    del instances_list[0]\n",
    "    \n",
    "    for inst in instances_list:\n",
    "        instance=inst[0] # En la variable instance tenemos el tipo de instancia\n",
    "    print(instance)\n",
    "    \n",
    "    # Sacamos las zonas de disponibilidad\n",
    "    zones = pd.read_sql(\"SELECT DISTINCT AvailabilityZone FROM \"+region+\";\", connection) \n",
    "    zones_list = zones.values.tolist()\n",
    "    del zones_list[0]\n",
    "    \n",
    "    listaRegiones = []\n",
    "    for zone in zones_list:\n",
    "        for zo in zone:\n",
    "            listaRegiones.append(zo) # Lista de zonas en la región\n",
    "    \n",
    "    # Para cada zona y SO indicado sacamos el dia, el mes y el año\n",
    "    for zona in listaRegiones: \n",
    "        #for sistema in listaSistemas:\n",
    "        dates = pd.read_sql(\"SELECT DISTINCT SUBSTR(Timestamp, 1, 10) FROM \"+region+\"WHERE AvailabilityZone = '\"+zona+\"'AND Description = '\"+sistema+\"';\", connection)\n",
    "        dates_list = dates.values.tolist()\n",
    "    \n",
    "    listaFechas = []\n",
    "    for date in dates_list:\n",
    "        for da in date:\n",
    "            listaFechas.append(da) # Lista de fechas en cada zona y SO\n",
    "\n",
    "# Cerrar la conexión siempre\n",
    "connection.close()"
   ]
  },
  {
   "cell_type": "markdown",
   "metadata": {},
   "source": [
    "### Seleccionar Zona de Disponibilidad"
   ]
  },
  {
   "cell_type": "markdown",
   "metadata": {},
   "source": [
    "Elegir entre una de las siguientes zonas de disponibilidad:"
   ]
  },
  {
   "cell_type": "code",
   "execution_count": 5,
   "metadata": {},
   "outputs": [
    {
     "name": "stdout",
     "output_type": "stream",
     "text": [
      "['eu-west-1a', 'eu-west-1b', 'eu-west-1c']\n"
     ]
    }
   ],
   "source": [
    "print(listaRegiones)"
   ]
  },
  {
   "cell_type": "code",
   "execution_count": 6,
   "metadata": {
    "collapsed": true
   },
   "outputs": [],
   "source": [
    "zona = \"eu-west-1b\""
   ]
  },
  {
   "cell_type": "markdown",
   "metadata": {},
   "source": [
    "### Seleccionar fecha inicio y fin (desde 2018-01-24 hasta 2018-06-30 )"
   ]
  },
  {
   "cell_type": "code",
   "execution_count": 7,
   "metadata": {
    "collapsed": true
   },
   "outputs": [],
   "source": [
    "f_inicio = '2018-05-15'\n",
    "f_final = '2018-06-01'"
   ]
  },
  {
   "cell_type": "markdown",
   "metadata": {},
   "source": [
    "### Factor de olvido para Exponential Smoothing"
   ]
  },
  {
   "cell_type": "code",
   "execution_count": 8,
   "metadata": {
    "collapsed": true
   },
   "outputs": [],
   "source": [
    "landa = 0.8"
   ]
  },
  {
   "cell_type": "markdown",
   "metadata": {},
   "source": [
    "### Horas ininterrumpidas por el usuario"
   ]
  },
  {
   "cell_type": "code",
   "execution_count": 9,
   "metadata": {
    "collapsed": true
   },
   "outputs": [],
   "source": [
    "duracion = 1"
   ]
  },
  {
   "cell_type": "markdown",
   "metadata": {},
   "source": [
    "### Nivel de confianza (Probabilidad)"
   ]
  },
  {
   "cell_type": "code",
   "execution_count": 10,
   "metadata": {
    "collapsed": true
   },
   "outputs": [],
   "source": [
    "alpha = 0"
   ]
  },
  {
   "cell_type": "markdown",
   "metadata": {},
   "source": [
    "--------------------------------------------------------------------------------------------------------------------------------"
   ]
  },
  {
   "cell_type": "markdown",
   "metadata": {},
   "source": [
    "# 3. Preprocesado de datos"
   ]
  },
  {
   "cell_type": "code",
   "execution_count": 11,
   "metadata": {
    "collapsed": true
   },
   "outputs": [],
   "source": [
    "\n",
    "# Conectar con la base de datos, si no existe la crea automáticamente\n",
    "conexion = sqlite3.connect(\"BBDD.db\")\n",
    "    \n",
    "# Para poder ejecutar código SQL, tenemos que crear un cursor primero, el nombre de la tabla será la familia de las categorías\n",
    "cursor = conexion.cursor()\n",
    "cursor.execute(\"DROP TABLE IF EXISTS Preprocesados;\")\n",
    "cursor.execute(\"CREATE TABLE IF NOT EXISTS Preprocesados (AvailabilityZone VARCHAR(100), Description VARCHAR(100), InstanceType VARCHAR(100), SpotPrice FLOAT(8,4), Timestamp Datetime, PRIMARY KEY('AvailabilityZone','InstanceType','Timestamp','Description'))\")\n",
    "\n",
    "# Insertamos los nombre de los atributos para que se tenga en cuenta en formato csv\n",
    "cursor.execute(\"INSERT OR IGNORE INTO Preprocesados VALUES ('AvailabilityZone','Description','InstanceType','SpotPrice','Timestamp');\")      \n",
    "\n",
    "lista = [] # variable auxiliar por si no hay precios en algunas horas para meter el anterior más mayor\n",
    "lista.append(0.0)\n",
    "aux = '0'\n",
    "#for zona in listaRegiones:\n",
    "for fecha in listaFechas:\n",
    "            \n",
    "            # Para las 00:00:00\n",
    "            price = pd.read_sql(\"SELECT MAX(SpotPrice) FROM \"+region+\"WHERE SpotPrice<>'SpotPrice' AND AvailabilityZone='\"+zona+\"' AND Description = '\"+sistema+\"' AND Timestamp >='\"+fecha+\"T00:00:00.000z' AND Timestamp <='\"+fecha+\"T00:59:59.000z';\",conexion)\n",
    "            precios = price.values.tolist()\n",
    "            for prec in precios:\n",
    "                precio = str(prec[0])\n",
    "            if precio == 'None':\n",
    "                cursor.execute(\"INSERT OR IGNORE INTO Preprocesados VALUES (\"+\"'\"+zona+\"',\"+\"'\"+sistema+\"','\"+instance+\"','\"+aux+\"','\"+fecha+\"T00:00:00.000Z');\")\n",
    "            elif precio != 'None':\n",
    "                cursor.execute(\"INSERT OR IGNORE INTO Preprocesados VALUES (\"+\"'\"+zona+\"',\"+\"'\"+sistema+\"','\"+instance+\"','\"+precio+\"','\"+fecha+\"T00:00:00.000Z');\")\n",
    "                aux = str(precio)\n",
    "                \n",
    "            # Para las 01:00:00\n",
    "            price = pd.read_sql(\"SELECT MAX(SpotPrice) FROM \"+region+\"WHERE SpotPrice<>'SpotPrice' AND AvailabilityZone='\"+zona+\"' AND Description = '\"+sistema+\"' AND Timestamp >='\"+fecha+\"T01:00:00.000z' AND Timestamp <='\"+fecha+\"T01:59:59.000z';\",conexion)\n",
    "            precios = price.values.tolist()\n",
    "            for prec in precios:\n",
    "                precio = str(prec[0])\n",
    "            if precio == 'None':\n",
    "                cursor.execute(\"INSERT OR IGNORE INTO Preprocesados VALUES (\"+\"'\"+zona+\"',\"+\"'\"+sistema+\"','\"+instance+\"','\"+aux+\"','\"+fecha+\"T01:00:00.000Z');\")\n",
    "            elif precio != 'None':\n",
    "                cursor.execute(\"INSERT OR IGNORE INTO Preprocesados VALUES (\"+\"'\"+zona+\"',\"+\"'\"+sistema+\"','\"+instance+\"','\"+precio+\"','\"+fecha+\"T01:00:00.000Z');\")\n",
    "                aux = str(precio)\n",
    "           \n",
    "            # Para las 02:00:00\n",
    "            price = pd.read_sql(\"SELECT MAX(SpotPrice) FROM \"+region+\"WHERE SpotPrice<>'SpotPrice' AND AvailabilityZone='\"+zona+\"' AND Description = '\"+sistema+\"' AND Timestamp >='\"+fecha+\"T02:00:00.000z' AND Timestamp <='\"+fecha+\"T02:59:59.000z';\",conexion)\n",
    "            precios = price.values.tolist()\n",
    "            for prec in precios:\n",
    "                precio = str(prec[0])\n",
    "            if precio == 'None':\n",
    "                cursor.execute(\"INSERT OR IGNORE INTO Preprocesados VALUES (\"+\"'\"+zona+\"',\"+\"'\"+sistema+\"','\"+instance+\"','\"+aux+\"','\"+fecha+\"T02:00:00.000Z');\")\n",
    "            elif precio != 'None':\n",
    "                cursor.execute(\"INSERT OR IGNORE INTO Preprocesados VALUES (\"+\"'\"+zona+\"',\"+\"'\"+sistema+\"','\"+instance+\"','\"+precio+\"','\"+fecha+\"T02:00:00.000Z');\")\n",
    "                aux = str(precio)\n",
    "\n",
    "                \n",
    "            # Para las 03:00:00\n",
    "            price = pd.read_sql(\"SELECT MAX(SpotPrice) FROM \"+region+\"WHERE SpotPrice<>'SpotPrice' AND AvailabilityZone='\"+zona+\"' AND Description = '\"+sistema+\"' AND Timestamp >='\"+fecha+\"T03:00:00.000z' AND Timestamp <='\"+fecha+\"T03:59:59.000z';\",conexion)\n",
    "            precios = price.values.tolist()\n",
    "            for prec in precios:\n",
    "                precio = str(prec[0])\n",
    "            if precio == 'None':\n",
    "                cursor.execute(\"INSERT OR IGNORE INTO Preprocesados VALUES (\"+\"'\"+zona+\"',\"+\"'\"+sistema+\"','\"+instance+\"','\"+aux+\"','\"+fecha+\"T03:00:00.000Z');\")\n",
    "            elif precio != 'None':\n",
    "                cursor.execute(\"INSERT OR IGNORE INTO Preprocesados VALUES (\"+\"'\"+zona+\"',\"+\"'\"+sistema+\"','\"+instance+\"','\"+precio+\"','\"+fecha+\"T03:00:00.000Z');\")\n",
    "                aux = str(precio)\n",
    "    \n",
    "                \n",
    "            # Para las 04:00:00\n",
    "            price = pd.read_sql(\"SELECT MAX(SpotPrice) FROM \"+region+\"WHERE SpotPrice<>'SpotPrice' AND AvailabilityZone='\"+zona+\"' AND Description = '\"+sistema+\"' AND Timestamp >='\"+fecha+\"T04:00:00.000z' AND Timestamp <='\"+fecha+\"T04:59:59.000z';\",conexion)\n",
    "            precios = price.values.tolist()\n",
    "            for prec in precios:\n",
    "                precio = str(prec[0])\n",
    "            if precio == 'None':\n",
    "                cursor.execute(\"INSERT OR IGNORE INTO Preprocesados VALUES (\"+\"'\"+zona+\"',\"+\"'\"+sistema+\"','\"+instance+\"','\"+aux+\"','\"+fecha+\"T04:00:00.000Z');\")\n",
    "            elif precio != 'None':\n",
    "                cursor.execute(\"INSERT OR IGNORE INTO Preprocesados VALUES (\"+\"'\"+zona+\"',\"+\"'\"+sistema+\"','\"+instance+\"','\"+precio+\"','\"+fecha+\"T04:00:00.000Z');\")\n",
    "                aux = str(precio)\n",
    "                    \n",
    "            \n",
    "            # Para las 05:00:00\n",
    "            price = pd.read_sql(\"SELECT MAX(SpotPrice) FROM \"+region+\"WHERE SpotPrice<>'SpotPrice' AND AvailabilityZone='\"+zona+\"' AND Description = '\"+sistema+\"' AND Timestamp >='\"+fecha+\"T05:00:00.000z' AND Timestamp <='\"+fecha+\"T05:59:59.000z';\",conexion)\n",
    "            precios = price.values.tolist()\n",
    "            for prec in precios:\n",
    "                precio = str(prec[0])\n",
    "            if precio == 'None':\n",
    "                cursor.execute(\"INSERT OR IGNORE INTO Preprocesados VALUES (\"+\"'\"+zona+\"',\"+\"'\"+sistema+\"','\"+instance+\"','\"+aux+\"','\"+fecha+\"T05:00:00.000Z');\")\n",
    "            elif precio != 'None':\n",
    "                cursor.execute(\"INSERT OR IGNORE INTO Preprocesados VALUES (\"+\"'\"+zona+\"',\"+\"'\"+sistema+\"','\"+instance+\"','\"+precio+\"','\"+fecha+\"T05:00:00.000Z');\")\n",
    "                aux = str(precio)\n",
    "                    \n",
    "                \n",
    "            # Para las 06:00:00\n",
    "            price = pd.read_sql(\"SELECT MAX(SpotPrice) FROM \"+region+\"WHERE SpotPrice<>'SpotPrice' AND AvailabilityZone='\"+zona+\"' AND Description = '\"+sistema+\"' AND Timestamp >='\"+fecha+\"T06:00:00.000z' AND Timestamp <='\"+fecha+\"T06:59:59.000z';\",conexion)\n",
    "            precios = price.values.tolist()\n",
    "            for prec in precios:\n",
    "                precio = str(prec[0])\n",
    "            if precio == 'None':\n",
    "                cursor.execute(\"INSERT OR IGNORE INTO Preprocesados VALUES (\"+\"'\"+zona+\"',\"+\"'\"+sistema+\"','\"+instance+\"','\"+aux+\"','\"+fecha+\"T06:00:00.000Z');\")\n",
    "            elif precio != 'None':\n",
    "                cursor.execute(\"INSERT OR IGNORE INTO Preprocesados VALUES (\"+\"'\"+zona+\"',\"+\"'\"+sistema+\"','\"+instance+\"','\"+precio+\"','\"+fecha+\"T06:00:00.000Z');\")\n",
    "                aux = str(precio)\n",
    "                    \n",
    "                \n",
    "            # Para las 07:00:00\n",
    "            price = pd.read_sql(\"SELECT MAX(SpotPrice) FROM \"+region+\"WHERE SpotPrice<>'SpotPrice' AND AvailabilityZone='\"+zona+\"' AND Description = '\"+sistema+\"' AND Timestamp >='\"+fecha+\"T07:00:00.000z' AND Timestamp <='\"+fecha+\"T07:59:59.000z';\",conexion)\n",
    "            precios = price.values.tolist()\n",
    "            for prec in precios:\n",
    "                precio = str(prec[0])\n",
    "            if precio == 'None':\n",
    "                cursor.execute(\"INSERT OR IGNORE INTO Preprocesados VALUES (\"+\"'\"+zona+\"',\"+\"'\"+sistema+\"','\"+instance+\"','\"+aux+\"','\"+fecha+\"T07:00:00.000Z');\")\n",
    "            elif precio != 'None':\n",
    "                cursor.execute(\"INSERT OR IGNORE INTO Preprocesados VALUES (\"+\"'\"+zona+\"',\"+\"'\"+sistema+\"','\"+instance+\"','\"+precio+\"','\"+fecha+\"T07:00:00.000Z');\")\n",
    "                aux = str(precio)\n",
    "                    \n",
    "                \n",
    "            # Para las 08:00:00\n",
    "            price = pd.read_sql(\"SELECT MAX(SpotPrice) FROM \"+region+\"WHERE SpotPrice<>'SpotPrice' AND AvailabilityZone='\"+zona+\"' AND Description = '\"+sistema+\"' AND Timestamp >='\"+fecha+\"T08:00:00.000z' AND Timestamp <='\"+fecha+\"T08:59:59.000z';\",conexion)\n",
    "            precios = price.values.tolist()\n",
    "            for prec in precios:\n",
    "                precio = str(prec[0])\n",
    "            if precio == 'None':\n",
    "                cursor.execute(\"INSERT OR IGNORE INTO Preprocesados VALUES (\"+\"'\"+zona+\"',\"+\"'\"+sistema+\"','\"+instance+\"','\"+aux+\"','\"+fecha+\"T08:00:00.000Z');\")\n",
    "            elif precio != 'None':\n",
    "                cursor.execute(\"INSERT OR IGNORE INTO Preprocesados VALUES (\"+\"'\"+zona+\"',\"+\"'\"+sistema+\"','\"+instance+\"','\"+precio+\"','\"+fecha+\"T08:00:00.000Z');\")\n",
    "                aux = str(precio)\n",
    "                    \n",
    "                \n",
    "            # Para las 09:00:00\n",
    "            price = pd.read_sql(\"SELECT MAX(SpotPrice) FROM \"+region+\"WHERE SpotPrice<>'SpotPrice' AND AvailabilityZone='\"+zona+\"' AND Description = '\"+sistema+\"' AND Timestamp >='\"+fecha+\"T09:00:00.000z' AND Timestamp <='\"+fecha+\"T09:59:59.000z';\",conexion)\n",
    "            precios = price.values.tolist()\n",
    "            for prec in precios:\n",
    "                precio = str(prec[0])\n",
    "            if precio == 'None':\n",
    "                cursor.execute(\"INSERT OR IGNORE INTO Preprocesados VALUES (\"+\"'\"+zona+\"',\"+\"'\"+sistema+\"','\"+instance+\"','\"+aux+\"','\"+fecha+\"T09:00:00.000Z');\")\n",
    "            elif precio != 'None':\n",
    "                cursor.execute(\"INSERT OR IGNORE INTO Preprocesados VALUES (\"+\"'\"+zona+\"',\"+\"'\"+sistema+\"','\"+instance+\"','\"+precio+\"','\"+fecha+\"T09:00:00.000Z');\")\n",
    "                aux = str(precio)\n",
    "                    \n",
    "                \n",
    "            # Para las 10:00:00\n",
    "            price = pd.read_sql(\"SELECT MAX(SpotPrice) FROM \"+region+\"WHERE SpotPrice<>'SpotPrice' AND AvailabilityZone='\"+zona+\"' AND Description = '\"+sistema+\"' AND Timestamp >='\"+fecha+\"T10:00:00.000z' AND Timestamp <='\"+fecha+\"T10:59:59.000z';\",conexion)\n",
    "            precios = price.values.tolist()\n",
    "            for prec in precios:\n",
    "                precio = str(prec[0])\n",
    "            if precio == 'None':\n",
    "                cursor.execute(\"INSERT OR IGNORE INTO Preprocesados VALUES (\"+\"'\"+zona+\"',\"+\"'\"+sistema+\"','\"+instance+\"','\"+aux+\"','\"+fecha+\"T10:00:00.000Z');\")\n",
    "            elif precio != 'None':\n",
    "                cursor.execute(\"INSERT OR IGNORE INTO Preprocesados VALUES (\"+\"'\"+zona+\"',\"+\"'\"+sistema+\"','\"+instance+\"','\"+precio+\"','\"+fecha+\"T10:00:00.000Z');\")\n",
    "                aux = str(precio)\n",
    "                    \n",
    "                \n",
    "            # Para las 11:00:00\n",
    "            price = pd.read_sql(\"SELECT MAX(SpotPrice) FROM \"+region+\"WHERE SpotPrice<>'SpotPrice' AND AvailabilityZone='\"+zona+\"' AND Description = '\"+sistema+\"' AND Timestamp >='\"+fecha+\"T11:00:00.000z' AND Timestamp <='\"+fecha+\"T11:59:59.000z';\",conexion)\n",
    "            precios = price.values.tolist()\n",
    "            for prec in precios:\n",
    "                precio = str(prec[0])\n",
    "            if precio == 'None':\n",
    "                cursor.execute(\"INSERT OR IGNORE INTO Preprocesados VALUES (\"+\"'\"+zona+\"',\"+\"'\"+sistema+\"','\"+instance+\"','\"+aux+\"','\"+fecha+\"T11:00:00.000Z');\")\n",
    "            elif precio != 'None':\n",
    "                cursor.execute(\"INSERT OR IGNORE INTO Preprocesados VALUES (\"+\"'\"+zona+\"',\"+\"'\"+sistema+\"','\"+instance+\"','\"+precio+\"','\"+fecha+\"T11:00:00.000Z');\")\n",
    "                aux = str(precio)\n",
    "                    \n",
    "                \n",
    "            # Para las 12:00:00\n",
    "            price = pd.read_sql(\"SELECT MAX(SpotPrice) FROM \"+region+\"WHERE SpotPrice<>'SpotPrice' AND AvailabilityZone='\"+zona+\"' AND Description = '\"+sistema+\"' AND Timestamp >='\"+fecha+\"T12:00:00.000z' AND Timestamp <='\"+fecha+\"T12:59:59.000z';\",conexion)\n",
    "            precios = price.values.tolist()\n",
    "            for prec in precios:\n",
    "                precio = str(prec[0])\n",
    "            if precio == 'None':\n",
    "                cursor.execute(\"INSERT OR IGNORE INTO Preprocesados VALUES (\"+\"'\"+zona+\"',\"+\"'\"+sistema+\"','\"+instance+\"','\"+aux+\"','\"+fecha+\"T12:00:00.000Z');\")\n",
    "            elif precio != 'None':\n",
    "                cursor.execute(\"INSERT OR IGNORE INTO Preprocesados VALUES (\"+\"'\"+zona+\"',\"+\"'\"+sistema+\"','\"+instance+\"','\"+precio+\"','\"+fecha+\"T12:00:00.000Z');\")\n",
    "                aux = str(precio)\n",
    "                    \n",
    "                \n",
    "            # Para las 13:00:00\n",
    "            price = pd.read_sql(\"SELECT MAX(SpotPrice) FROM \"+region+\"WHERE SpotPrice<>'SpotPrice' AND AvailabilityZone='\"+zona+\"' AND Description = '\"+sistema+\"' AND Timestamp >='\"+fecha+\"T13:00:00.000z' AND Timestamp <='\"+fecha+\"T13:59:59.000z';\",conexion)\n",
    "            precios = price.values.tolist()\n",
    "            for prec in precios:\n",
    "                precio = str(prec[0])\n",
    "            if precio == 'None':\n",
    "                cursor.execute(\"INSERT OR IGNORE INTO Preprocesados VALUES (\"+\"'\"+zona+\"',\"+\"'\"+sistema+\"','\"+instance+\"','\"+aux+\"','\"+fecha+\"T13:00:00.000Z');\")\n",
    "            elif precio != 'None':\n",
    "                cursor.execute(\"INSERT OR IGNORE INTO Preprocesados VALUES (\"+\"'\"+zona+\"',\"+\"'\"+sistema+\"','\"+instance+\"','\"+precio+\"','\"+fecha+\"T13:00:00.000Z');\")\n",
    "                aux = str(precio)\n",
    "                    \n",
    "                \n",
    "            # Para las 14:00:00\n",
    "            price = pd.read_sql(\"SELECT MAX(SpotPrice) FROM \"+region+\"WHERE SpotPrice<>'SpotPrice' AND AvailabilityZone='\"+zona+\"' AND Description = '\"+sistema+\"' AND Timestamp >='\"+fecha+\"T14:00:00.000z' AND Timestamp <='\"+fecha+\"T14:59:59.000z';\",conexion)\n",
    "            precios = price.values.tolist()\n",
    "            for prec in precios:\n",
    "                precio = str(prec[0])\n",
    "            if precio == 'None':\n",
    "                cursor.execute(\"INSERT OR IGNORE INTO Preprocesados VALUES (\"+\"'\"+zona+\"',\"+\"'\"+sistema+\"','\"+instance+\"','\"+aux+\"','\"+fecha+\"T14:00:00.000Z');\")\n",
    "            elif precio != 'None':\n",
    "                cursor.execute(\"INSERT OR IGNORE INTO Preprocesados VALUES (\"+\"'\"+zona+\"',\"+\"'\"+sistema+\"','\"+instance+\"','\"+precio+\"','\"+fecha+\"T14:00:00.000Z');\")\n",
    "                aux = str(precio)\n",
    "                    \n",
    "                \n",
    "            # Para las 15:00:00\n",
    "            price = pd.read_sql(\"SELECT MAX(SpotPrice) FROM \"+region+\"WHERE SpotPrice<>'SpotPrice' AND AvailabilityZone='\"+zona+\"' AND Description = '\"+sistema+\"' AND Timestamp >='\"+fecha+\"T15:00:00.000z' AND Timestamp <='\"+fecha+\"T15:59:59.000z';\",conexion)\n",
    "            precios = price.values.tolist()\n",
    "            for prec in precios:\n",
    "                precio = str(prec[0])\n",
    "            if precio == 'None':\n",
    "                cursor.execute(\"INSERT OR IGNORE INTO Preprocesados VALUES (\"+\"'\"+zona+\"',\"+\"'\"+sistema+\"','\"+instance+\"','\"+aux+\"','\"+fecha+\"T15:00:00.000Z');\")\n",
    "            elif precio != 'None':\n",
    "                cursor.execute(\"INSERT OR IGNORE INTO Preprocesados VALUES (\"+\"'\"+zona+\"',\"+\"'\"+sistema+\"','\"+instance+\"','\"+precio+\"','\"+fecha+\"T15:00:00.000Z');\")\n",
    "                aux = str(precio)\n",
    "                    \n",
    "                \n",
    "            # Para las 16:00:00\n",
    "            price = pd.read_sql(\"SELECT MAX(SpotPrice) FROM \"+region+\"WHERE SpotPrice<>'SpotPrice' AND AvailabilityZone='\"+zona+\"' AND Description = '\"+sistema+\"' AND Timestamp >='\"+fecha+\"T16:00:00.000z' AND Timestamp <='\"+fecha+\"T16:59:59.000z';\",conexion)\n",
    "            precios = price.values.tolist()\n",
    "            for prec in precios:\n",
    "                precio = str(prec[0])\n",
    "            if precio == 'None':\n",
    "                cursor.execute(\"INSERT OR IGNORE INTO Preprocesados VALUES (\"+\"'\"+zona+\"',\"+\"'\"+sistema+\"','\"+instance+\"','\"+aux+\"','\"+fecha+\"T16:00:00.000Z');\")\n",
    "            elif precio != 'None':\n",
    "                cursor.execute(\"INSERT OR IGNORE INTO Preprocesados VALUES (\"+\"'\"+zona+\"',\"+\"'\"+sistema+\"','\"+instance+\"','\"+precio+\"','\"+fecha+\"T16:00:00.000Z');\")\n",
    "                aux = str(precio)\n",
    "                    \n",
    "                \n",
    "            # Para las 17:00:00\n",
    "            price = pd.read_sql(\"SELECT MAX(SpotPrice) FROM \"+region+\"WHERE SpotPrice<>'SpotPrice' AND AvailabilityZone='\"+zona+\"' AND Description = '\"+sistema+\"' AND Timestamp >='\"+fecha+\"T17:00:00.000z' AND Timestamp <='\"+fecha+\"T17:59:59.000z';\",conexion)\n",
    "            precios = price.values.tolist()\n",
    "            for prec in precios:\n",
    "                precio = str(prec[0])\n",
    "            if precio == 'None':\n",
    "                cursor.execute(\"INSERT OR IGNORE INTO Preprocesados VALUES (\"+\"'\"+zona+\"',\"+\"'\"+sistema+\"','\"+instance+\"','\"+aux+\"','\"+fecha+\"T17:00:00.000Z');\")\n",
    "            elif precio != 'None':\n",
    "                cursor.execute(\"INSERT OR IGNORE INTO Preprocesados VALUES (\"+\"'\"+zona+\"',\"+\"'\"+sistema+\"','\"+instance+\"','\"+precio+\"','\"+fecha+\"T17:00:00.000Z');\")\n",
    "                aux = str(precio)\n",
    "                    \n",
    "                \n",
    "            # Para las 18:00:00\n",
    "            price = pd.read_sql(\"SELECT MAX(SpotPrice) FROM \"+region+\"WHERE SpotPrice<>'SpotPrice' AND AvailabilityZone='\"+zona+\"' AND Description = '\"+sistema+\"' AND Timestamp >='\"+fecha+\"T18:00:00.000z' AND Timestamp <='\"+fecha+\"T18:59:59.000z';\",conexion)\n",
    "            precios = price.values.tolist()\n",
    "            for prec in precios:\n",
    "                precio = str(prec[0])\n",
    "            if precio == 'None':\n",
    "                cursor.execute(\"INSERT OR IGNORE INTO Preprocesados VALUES (\"+\"'\"+zona+\"',\"+\"'\"+sistema+\"','\"+instance+\"','\"+aux+\"','\"+fecha+\"T18:00:00.000Z');\")\n",
    "            elif precio != 'None':\n",
    "                cursor.execute(\"INSERT OR IGNORE INTO Preprocesados VALUES (\"+\"'\"+zona+\"',\"+\"'\"+sistema+\"','\"+instance+\"','\"+precio+\"','\"+fecha+\"T18:00:00.000Z');\")\n",
    "                aux = str(precio)\n",
    "                    \n",
    "                \n",
    "            # Para las 19:00:00\n",
    "            price = pd.read_sql(\"SELECT MAX(SpotPrice) FROM \"+region+\"WHERE SpotPrice<>'SpotPrice' AND AvailabilityZone='\"+zona+\"' AND Description = '\"+sistema+\"' AND Timestamp >='\"+fecha+\"T19:00:00.000z' AND Timestamp <='\"+fecha+\"T19:59:59.000z';\",conexion)\n",
    "            precios = price.values.tolist()\n",
    "            for prec in precios:\n",
    "                precio = str(prec[0])\n",
    "            if precio == 'None':\n",
    "                cursor.execute(\"INSERT OR IGNORE INTO Preprocesados VALUES (\"+\"'\"+zona+\"',\"+\"'\"+sistema+\"','\"+instance+\"','\"+aux+\"','\"+fecha+\"T19:00:00.000Z');\")\n",
    "            elif precio != 'None':\n",
    "                cursor.execute(\"INSERT OR IGNORE INTO Preprocesados VALUES (\"+\"'\"+zona+\"',\"+\"'\"+sistema+\"','\"+instance+\"','\"+precio+\"','\"+fecha+\"T19:00:00.000Z');\")\n",
    "                aux = str(precio)\n",
    "                    \n",
    "                \n",
    "            # Para las 20:00:00\n",
    "            price = pd.read_sql(\"SELECT MAX(SpotPrice) FROM \"+region+\"WHERE SpotPrice<>'SpotPrice' AND AvailabilityZone='\"+zona+\"' AND Description = '\"+sistema+\"' AND Timestamp >='\"+fecha+\"T20:00:00.000z' AND Timestamp <='\"+fecha+\"T20:59:59.000z';\",conexion)\n",
    "            precios = price.values.tolist()\n",
    "            for prec in precios:\n",
    "                precio = str(prec[0])\n",
    "            if precio == 'None':\n",
    "                cursor.execute(\"INSERT OR IGNORE INTO Preprocesados VALUES (\"+\"'\"+zona+\"',\"+\"'\"+sistema+\"','\"+instance+\"','\"+aux+\"','\"+fecha+\"T20:00:00.000Z');\")\n",
    "            elif precio != 'None':\n",
    "                cursor.execute(\"INSERT OR IGNORE INTO Preprocesados VALUES (\"+\"'\"+zona+\"',\"+\"'\"+sistema+\"','\"+instance+\"','\"+precio+\"','\"+fecha+\"T20:00:00.000Z');\")\n",
    "                aux = str(precio)\n",
    "                    \n",
    "                \n",
    "            # Para las 21:00:00\n",
    "            price = pd.read_sql(\"SELECT MAX(SpotPrice) FROM \"+region+\"WHERE SpotPrice<>'SpotPrice' AND AvailabilityZone='\"+zona+\"' AND Description = '\"+sistema+\"' AND Timestamp >='\"+fecha+\"T21:00:00.000z' AND Timestamp <='\"+fecha+\"T21:59:59.000z';\",conexion)\n",
    "            precios = price.values.tolist()\n",
    "            for prec in precios:\n",
    "                precio = str(prec[0])\n",
    "            if precio == 'None':\n",
    "                cursor.execute(\"INSERT OR IGNORE INTO Preprocesados VALUES (\"+\"'\"+zona+\"',\"+\"'\"+sistema+\"','\"+instance+\"','\"+aux+\"','\"+fecha+\"T21:00:00.000Z');\")\n",
    "            elif precio != 'None':\n",
    "                cursor.execute(\"INSERT OR IGNORE INTO Preprocesados VALUES (\"+\"'\"+zona+\"',\"+\"'\"+sistema+\"','\"+instance+\"','\"+precio+\"','\"+fecha+\"T21:00:00.000Z');\")\n",
    "                aux = str(precio)\n",
    "                    \n",
    "                \n",
    "            # Para las 22:00:00\n",
    "            price = pd.read_sql(\"SELECT MAX(SpotPrice) FROM \"+region+\"WHERE SpotPrice<>'SpotPrice' AND AvailabilityZone='\"+zona+\"' AND Description = '\"+sistema+\"' AND Timestamp >='\"+fecha+\"T22:00:00.000z' AND Timestamp <='\"+fecha+\"T22:59:59.000z';\",conexion)\n",
    "            precios = price.values.tolist()\n",
    "            for prec in precios:\n",
    "                precio = str(prec[0])\n",
    "            if precio == 'None':\n",
    "                cursor.execute(\"INSERT OR IGNORE INTO Preprocesados VALUES (\"+\"'\"+zona+\"',\"+\"'\"+sistema+\"','\"+instance+\"','\"+aux+\"','\"+fecha+\"T22:00:00.000Z');\")\n",
    "            elif precio != 'None':\n",
    "                cursor.execute(\"INSERT OR IGNORE INTO Preprocesados VALUES (\"+\"'\"+zona+\"',\"+\"'\"+sistema+\"','\"+instance+\"','\"+precio+\"','\"+fecha+\"T22:00:00.000Z');\")\n",
    "                aux = str(precio)\n",
    "                    \n",
    "                \n",
    "            # Para las 23:00:00\n",
    "            price = pd.read_sql(\"SELECT MAX(SpotPrice) FROM \"+region+\"WHERE SpotPrice<>'SpotPrice' AND AvailabilityZone='\"+zona+\"' AND Description = '\"+sistema+\"' AND Timestamp >='\"+fecha+\"T23:00:00.000z' AND Timestamp <='\"+fecha+\"T23:59:59.000z';\",conexion)\n",
    "            precios = price.values.tolist()\n",
    "            for prec in precios:\n",
    "                precio = str(prec[0])\n",
    "            if precio == 'None':\n",
    "                cursor.execute(\"INSERT OR IGNORE INTO Preprocesados VALUES (\"+\"'\"+zona+\"',\"+\"'\"+sistema+\"','\"+instance+\"','\"+aux+\"','\"+fecha+\"T23:00:00.000Z');\")\n",
    "            elif precio != 'None':\n",
    "                cursor.execute(\"INSERT OR IGNORE INTO Preprocesados VALUES (\"+\"'\"+zona+\"',\"+\"'\"+sistema+\"','\"+instance+\"','\"+precio+\"','\"+fecha+\"T23:00:00.000Z');\")\n",
    "                aux = str(precio)\n",
    "                   \n",
    "\n",
    "# Eliminamos los registros donde el precio sea 0\n",
    "cursor.execute(\"DELETE FROM Preprocesados WHERE SpotPrice = 0.0\")\n",
    "            \n",
    "#print(lista)\n",
    "\n",
    "# Guardamos los cambios haciendo un commit\n",
    "conexion.commit()\n",
    "    \n",
    "# Cerrar la conexión siempre\n",
    "connection.close()\n"
   ]
  },
  {
   "cell_type": "markdown",
   "metadata": {},
   "source": [
    "### Recorremos datos preprocesados"
   ]
  },
  {
   "cell_type": "code",
   "execution_count": 12,
   "metadata": {
    "collapsed": true
   },
   "outputs": [],
   "source": [
    "# Conectar con la base de datos\n",
    "with sqlite3.connect(\"BBDD.db\") as connection:\n",
    "    # Abrimos el csv a insertar los datos\n",
    "    csvWriter = csv.writer(open(\"datos.csv\", \"w\"))\n",
    "    # Creamos el cursor\n",
    "    c = connection.cursor()\n",
    "    # Hacemos la consulta\n",
    "    data = c.execute(\"SELECT * FROM Preprocesados ORDER BY Timestamp Desc\") # Ordenamos los datos desde el más reciente al menos\n",
    "    # Insertamos los datos en el dataset\n",
    "    rows = data.fetchall()\n",
    "    csvWriter.writerows(rows)\n",
    "\n",
    "# Cerrar la conexión siempre\n",
    "connection.close()"
   ]
  },
  {
   "cell_type": "markdown",
   "metadata": {},
   "source": [
    "### Cargamos datos preprocesados al dataframe"
   ]
  },
  {
   "cell_type": "code",
   "execution_count": 13,
   "metadata": {
    "collapsed": true
   },
   "outputs": [],
   "source": [
    "df = pd.read_csv(\"datos.csv\")\n",
    "#df.head(5)"
   ]
  },
  {
   "cell_type": "markdown",
   "metadata": {},
   "source": [
    "--------------------------------------------------------------------------------------------------------------------------------"
   ]
  },
  {
   "cell_type": "markdown",
   "metadata": {},
   "source": [
    "# 4. Estimación del Precio Spot (bid)"
   ]
  },
  {
   "cell_type": "code",
   "execution_count": 14,
   "metadata": {},
   "outputs": [],
   "source": [
    "def media(datos):\n",
    "    cont = 0\n",
    "    for d in datos:\n",
    "        cont = cont + d\n",
    "    return cont/len(datos)\n",
    "\n",
    "for i,date in enumerate(df['Timestamp']):\n",
    "    lista.append(date[:10])\n",
    "lista2=[]  # En lista2 tengo los días\n",
    "for e in lista:\n",
    "    if e not in lista2:\n",
    "        lista2.append(e)\n",
    "lista2.reverse()\n",
    "\n",
    "df2 = df.drop('AvailabilityZone', 1)\n",
    "df2 = df2.drop('Description', 1)\n",
    "df2 = df2.drop('InstanceType', 1)\n",
    "\n",
    "price = []\n",
    "lol = df2.values.tolist()\n",
    "lol.reverse()\n",
    "\n",
    "\n",
    "dfDays = pd.DataFrame(columns=['Periodo por días', 'Precio Real']) # Creamos el dataframe para los días\n",
    "\n",
    "for fecha in lista2:\n",
    "    for lista in lol:\n",
    "        #print(str(fecha)+\"T23:00:00.000Z\")\n",
    "        if (lista[1] == str(fecha)+\"T23:00:00.000Z\"):\n",
    "            price.append(lista[0])\n",
    "        if (lista[1] == str(fecha)+\"T22:00:00.000Z\"):\n",
    "            price.append(lista[0])\n",
    "        if (lista[1] == str(fecha)+\"T21:00:00.000Z\"):\n",
    "            price.append(lista[0])\n",
    "        if (lista[1] == str(fecha)+\"T20:00:00.000Z\"):\n",
    "            price.append(lista[0])\n",
    "        if (lista[1] == str(fecha)+\"T19:00:00.000Z\"):\n",
    "            price.append(lista[0])\n",
    "        if (lista[1] == str(fecha)+\"T18:00:00.000Z\"):\n",
    "            price.append(lista[0])\n",
    "        if (lista[1] == str(fecha)+\"T17:00:00.000Z\"):\n",
    "            price.append(lista[0])\n",
    "        if (lista[1] == str(fecha)+\"T16:00:00.000Z\"):\n",
    "            price.append(lista[0])\n",
    "        if (lista[1] == str(fecha)+\"T15:00:00.000Z\"):\n",
    "            price.append(lista[0])\n",
    "        if (lista[1] == str(fecha)+\"T14:00:00.000Z\"):\n",
    "            price.append(lista[0])\n",
    "        if (lista[1] == str(fecha)+\"T13:00:00.000Z\"):\n",
    "            price.append(lista[0])\n",
    "        if (lista[1] == str(fecha)+\"T12:00:00.000Z\"):\n",
    "            price.append(lista[0])\n",
    "        if (lista[1] == str(fecha)+\"T11:00:00.000Z\"):\n",
    "            price.append(lista[0])\n",
    "        if (lista[1] == str(fecha)+\"T10:00:00.000Z\"):\n",
    "            price.append(lista[0])\n",
    "        if (lista[1] == str(fecha)+\"T09:00:00.000Z\"):\n",
    "            price.append(lista[0])\n",
    "        if (lista[1] == str(fecha)+\"T08:00:00.000Z\"):\n",
    "            price.append(lista[0])\n",
    "        if (lista[1] == str(fecha)+\"T07:00:00.000Z\"):\n",
    "            price.append(lista[0])\n",
    "        if (lista[1] == str(fecha)+\"T06:00:00.000Z\"):\n",
    "            price.append(lista[0])\n",
    "        if (lista[1] == str(fecha)+\"T05:00:00.000Z\"):\n",
    "            price.append(lista[0])\n",
    "        if (lista[1] == str(fecha)+\"T04:00:00.000Z\"):\n",
    "            price.append(lista[0])\n",
    "        if (lista[1] == str(fecha)+\"T03:00:00.000Z\"):\n",
    "            price.append(lista[0])\n",
    "        if (lista[1] == str(fecha)+\"T02:00:00.000Z\"):\n",
    "            price.append(lista[0])\n",
    "        if (lista[1] == str(fecha)+\"T01:00:00.000Z\"):\n",
    "            price.append(lista[0])\n",
    "        if (lista[1] == str(fecha)+\"T00:00:00.000Z\"):\n",
    "            price.append(lista[0])\n",
    "    if price: # Si la lista no está vacía\n",
    "        dfDays.loc[len(dfDays)]=[fecha,round(media(price),4)]\n",
    "    price = []\n",
    "    \n",
    "#dfDays"
   ]
  },
  {
   "cell_type": "code",
   "execution_count": 15,
   "metadata": {},
   "outputs": [],
   "source": [
    "formatter_string = \"%Y-%m-%d\" \n",
    "datetime_object = datetime.strptime(f_inicio, formatter_string) # convertimos de string a fecha\n",
    "date_object = datetime_object.date()\n",
    "\n",
    "date = date_object - timedelta(days=1) # Le quitamos un día para calcular el expoenntial smoothing\n",
    "\n",
    "dfDaysAux = dfDays[ dfDays['Periodo por días'] <= f_final ]\n",
    "dfDays = dfDaysAux[ dfDaysAux['Periodo por días'] >= str(date) ]\n",
    "listaData = dfDays.values.tolist()\n",
    "dfDaysES = pd.DataFrame(listaData,columns=['Periodo por días', 'Precio Real'])\n",
    "\n",
    "\n",
    "#dfDaysAux = dfDays[ dfDays['Periodo por días'] <= f_final ]\n",
    "#dfDays = dfDaysAux[ dfDaysAux['Periodo por días'] >= f_inicio ]\n",
    "#listaData = dfDays.values.tolist()\n",
    "#dfDaysES = pd.DataFrame(listaData,columns=['Periodo por días', 'Precio Real'])\n",
    "\n"
   ]
  },
  {
   "cell_type": "markdown",
   "metadata": {},
   "source": [
    "### Exponential Smoothing"
   ]
  },
  {
   "cell_type": "code",
   "execution_count": 16,
   "metadata": {
    "collapsed": true
   },
   "outputs": [],
   "source": [
    "def exp_smoothing(Precios,alpha):\n",
    "    listaPrecios=Precios.values.tolist()\n",
    "    Auxlist = []\n",
    "    primero = True\n",
    "    for i in listaPrecios:\n",
    "        if (primero):\n",
    "            Auxlist.append(i)\n",
    "            primero = False\n",
    "        else:\n",
    "            estimado=round(i*alpha + Auxlist[listaPrecios.index(i)-1]*(1-alpha),4)\n",
    "            Auxlist.append(estimado)\n",
    "    Auxlist.pop()\n",
    "    dfPrecios = pd.DataFrame(Auxlist)\n",
    "    return Auxlist"
   ]
  },
  {
   "cell_type": "code",
   "execution_count": 17,
   "metadata": {},
   "outputs": [],
   "source": [
    "smoothing=exp_smoothing(dfDaysES['Precio Real'],landa)"
   ]
  },
  {
   "cell_type": "markdown",
   "metadata": {},
   "source": [
    "### Tabla Precio Real y Predicción"
   ]
  },
  {
   "cell_type": "code",
   "execution_count": 18,
   "metadata": {
    "scrolled": false
   },
   "outputs": [
    {
     "data": {
      "text/html": [
       "<div>\n",
       "<style>\n",
       "    .dataframe thead tr:only-child th {\n",
       "        text-align: right;\n",
       "    }\n",
       "\n",
       "    .dataframe thead th {\n",
       "        text-align: left;\n",
       "    }\n",
       "\n",
       "    .dataframe tbody tr th {\n",
       "        vertical-align: top;\n",
       "    }\n",
       "</style>\n",
       "<table border=\"1\" class=\"dataframe\">\n",
       "  <thead>\n",
       "    <tr style=\"text-align: right;\">\n",
       "      <th></th>\n",
       "      <th>Periodo por días</th>\n",
       "      <th>Precio Real</th>\n",
       "      <th>Precio Estimado</th>\n",
       "      <th>Nº Fallos / Dia</th>\n",
       "      <th>Max Duracion Ininterrumpida</th>\n",
       "    </tr>\n",
       "  </thead>\n",
       "  <tbody>\n",
       "  </tbody>\n",
       "</table>\n",
       "</div>"
      ],
      "text/plain": [
       "Empty DataFrame\n",
       "Columns: [Periodo por días, Precio Real, Precio Estimado, Nº Fallos / Dia, Max Duracion Ininterrumpida]\n",
       "Index: []"
      ]
     },
     "execution_count": 18,
     "metadata": {},
     "output_type": "execute_result"
    }
   ],
   "source": [
    "dfDays1 = pd.DataFrame(columns=['Precio Estimado'])\n",
    "\n",
    "ewma = pd.Series.ewm\n",
    "# com,span,halflife son el valor de landa, min_periods es el valor de n para mirar atrás\n",
    "dfReal = dfDays['Precio Real']\n",
    "\n",
    "# Exponential Smoothing\n",
    "Days = smoothing\n",
    "#EWMA\n",
    "#Days = round(ewma(dfReal,alpha=landa,min_periods=retro,adjust=True).mean(),4)\n",
    "\n",
    "for i in Days:\n",
    "    dfDays1.loc[len(dfDays1)]=[i]\n",
    "\n",
    "dfDays = pd.concat([dfDays, dfDays1], axis=1)\n",
    "dfDays = dfDays.dropna() # eliminamos los valores nan anteriores que solo nos sirven para hacer el cálculo\n",
    "dfDays = dfDays.reset_index(drop=True)\n",
    "#dfDays\n",
    "\n",
    "dfAux = pd.DataFrame(columns=['Periodo por días','Precio Real','Precio Estimado'])\n",
    "\n",
    "# Pasamos los dataframe df (para capturar las horas) y dfDays (para capturar los dias) a listas\n",
    "dfList = df.values.tolist()\n",
    "dfDaysList = dfDays.values.tolist()\n",
    "\n",
    "contFail = 0 # Fallos en cada día\n",
    "contTotal = 0 # Fallos en total\n",
    "contDur = 0\n",
    "listDur = []\n",
    "MaxDur = []\n",
    "Fails = []\n",
    "\n",
    "dfDays2 = pd.DataFrame(columns=['Nº Fallos / Dia'])\n",
    "\n",
    "# Sacamos los fallos por cada dia y totales (real > estimado)\n",
    "for i in dfDaysList:\n",
    "    for e in dfList: \n",
    "        u = e[4]\n",
    "        if(i[0]==u[:10]):\n",
    "            if(e[3] > i[2]):\n",
    "                contFail = contFail + 1\n",
    "                contTotal = contTotal + 1\n",
    "                listDur.append(contDur)\n",
    "                contDur = 0\n",
    "            else:\n",
    "                contDur = contDur + 1\n",
    "                listDur.append(contDur)\n",
    "    if(listDur != []):\n",
    "        MaxDur.append(max(listDur))\n",
    "        #print(max(listDur))\n",
    "    else:\n",
    "        MaxDur.append(0)\n",
    "        #print(0)\n",
    "    listDur = []\n",
    "    contDur = 0\n",
    "    Fails.append(contFail)\n",
    "    contFail = 0\n",
    "    \n",
    "for i in Fails:\n",
    "    dfDays2.loc[len(dfDays2)]=[i]\n",
    "dfDays = pd.concat([dfDays, dfDays2], axis=1)\n",
    "\n",
    "dfDays3 = pd.DataFrame(columns=['Max Duracion Ininterrumpida'])\n",
    "\n",
    "for i in MaxDur:\n",
    "    dfDays3.loc[len(dfDays3)]=[i]\n",
    "dfDays = pd.concat([dfDays, dfDays3], axis=1)\n",
    "dfDays"
   ]
  },
  {
   "cell_type": "markdown",
   "metadata": {},
   "source": [
    "### Cálculo del precio mínimo"
   ]
  },
  {
   "cell_type": "code",
   "execution_count": 19,
   "metadata": {},
   "outputs": [
    {
     "name": "stdout",
     "output_type": "stream",
     "text": [
      "Las restricciones del usuario no son válidas\n"
     ]
    }
   ],
   "source": [
    "ListData = dfDays.values.tolist()\n",
    "listPrices = []\n",
    "\n",
    "for i in ListData:\n",
    "    if(i[4] >= duracion and i[2] >= alpha):\n",
    "        listPrices.append(i[2])\n",
    "if(listPrices != []):\n",
    "    print(\"El precio mínimo estimado es:\",min(listPrices))\n",
    "else:\n",
    "    print(\"Las restricciones del usuario no son válidas\")"
   ]
  },
  {
   "cell_type": "markdown",
   "metadata": {},
   "source": [
    "### Error Cuadrático Medio (MSE)"
   ]
  },
  {
   "cell_type": "code",
   "execution_count": 20,
   "metadata": {},
   "outputs": [
    {
     "ename": "ValueError",
     "evalue": "Found array with 0 sample(s) (shape=(0,)) while a minimum of 1 is required.",
     "output_type": "error",
     "traceback": [
      "\u001b[1;31m---------------------------------------------------------------------------\u001b[0m",
      "\u001b[1;31mValueError\u001b[0m                                Traceback (most recent call last)",
      "\u001b[1;32m<ipython-input-20-9367abed691c>\u001b[0m in \u001b[0;36m<module>\u001b[1;34m()\u001b[0m\n\u001b[0;32m      1\u001b[0m \u001b[1;32mfrom\u001b[0m \u001b[0msklearn\u001b[0m\u001b[1;33m.\u001b[0m\u001b[0mmetrics\u001b[0m \u001b[1;32mimport\u001b[0m \u001b[0mmean_squared_error\u001b[0m\u001b[1;33m\u001b[0m\u001b[0m\n\u001b[1;32m----> 2\u001b[1;33m \u001b[0mmean_squared_error\u001b[0m\u001b[1;33m(\u001b[0m\u001b[0mdfDays\u001b[0m\u001b[1;33m[\u001b[0m\u001b[1;34m'Precio Real'\u001b[0m\u001b[1;33m]\u001b[0m\u001b[1;33m,\u001b[0m \u001b[0mdfDays\u001b[0m\u001b[1;33m[\u001b[0m\u001b[1;34m'Precio Estimado'\u001b[0m\u001b[1;33m]\u001b[0m\u001b[1;33m)\u001b[0m\u001b[1;33m\u001b[0m\u001b[0m\n\u001b[0m",
      "\u001b[1;32m~\\Anaconda3\\lib\\site-packages\\sklearn\\metrics\\regression.py\u001b[0m in \u001b[0;36mmean_squared_error\u001b[1;34m(y_true, y_pred, sample_weight, multioutput)\u001b[0m\n\u001b[0;32m    236\u001b[0m     \"\"\"\n\u001b[0;32m    237\u001b[0m     y_type, y_true, y_pred, multioutput = _check_reg_targets(\n\u001b[1;32m--> 238\u001b[1;33m         y_true, y_pred, multioutput)\n\u001b[0m\u001b[0;32m    239\u001b[0m     output_errors = np.average((y_true - y_pred) ** 2, axis=0,\n\u001b[0;32m    240\u001b[0m                                weights=sample_weight)\n",
      "\u001b[1;32m~\\Anaconda3\\lib\\site-packages\\sklearn\\metrics\\regression.py\u001b[0m in \u001b[0;36m_check_reg_targets\u001b[1;34m(y_true, y_pred, multioutput)\u001b[0m\n\u001b[0;32m     74\u001b[0m     \"\"\"\n\u001b[0;32m     75\u001b[0m     \u001b[0mcheck_consistent_length\u001b[0m\u001b[1;33m(\u001b[0m\u001b[0my_true\u001b[0m\u001b[1;33m,\u001b[0m \u001b[0my_pred\u001b[0m\u001b[1;33m)\u001b[0m\u001b[1;33m\u001b[0m\u001b[0m\n\u001b[1;32m---> 76\u001b[1;33m     \u001b[0my_true\u001b[0m \u001b[1;33m=\u001b[0m \u001b[0mcheck_array\u001b[0m\u001b[1;33m(\u001b[0m\u001b[0my_true\u001b[0m\u001b[1;33m,\u001b[0m \u001b[0mensure_2d\u001b[0m\u001b[1;33m=\u001b[0m\u001b[1;32mFalse\u001b[0m\u001b[1;33m)\u001b[0m\u001b[1;33m\u001b[0m\u001b[0m\n\u001b[0m\u001b[0;32m     77\u001b[0m     \u001b[0my_pred\u001b[0m \u001b[1;33m=\u001b[0m \u001b[0mcheck_array\u001b[0m\u001b[1;33m(\u001b[0m\u001b[0my_pred\u001b[0m\u001b[1;33m,\u001b[0m \u001b[0mensure_2d\u001b[0m\u001b[1;33m=\u001b[0m\u001b[1;32mFalse\u001b[0m\u001b[1;33m)\u001b[0m\u001b[1;33m\u001b[0m\u001b[0m\n\u001b[0;32m     78\u001b[0m \u001b[1;33m\u001b[0m\u001b[0m\n",
      "\u001b[1;32m~\\Anaconda3\\lib\\site-packages\\sklearn\\utils\\validation.py\u001b[0m in \u001b[0;36mcheck_array\u001b[1;34m(array, accept_sparse, dtype, order, copy, force_all_finite, ensure_2d, allow_nd, ensure_min_samples, ensure_min_features, warn_on_dtype, estimator)\u001b[0m\n\u001b[0;32m    460\u001b[0m                              \u001b[1;34m\" minimum of %d is required%s.\"\u001b[0m\u001b[1;33m\u001b[0m\u001b[0m\n\u001b[0;32m    461\u001b[0m                              % (n_samples, shape_repr, ensure_min_samples,\n\u001b[1;32m--> 462\u001b[1;33m                                 context))\n\u001b[0m\u001b[0;32m    463\u001b[0m \u001b[1;33m\u001b[0m\u001b[0m\n\u001b[0;32m    464\u001b[0m     \u001b[1;32mif\u001b[0m \u001b[0mensure_min_features\u001b[0m \u001b[1;33m>\u001b[0m \u001b[1;36m0\u001b[0m \u001b[1;32mand\u001b[0m \u001b[0marray\u001b[0m\u001b[1;33m.\u001b[0m\u001b[0mndim\u001b[0m \u001b[1;33m==\u001b[0m \u001b[1;36m2\u001b[0m\u001b[1;33m:\u001b[0m\u001b[1;33m\u001b[0m\u001b[0m\n",
      "\u001b[1;31mValueError\u001b[0m: Found array with 0 sample(s) (shape=(0,)) while a minimum of 1 is required."
     ]
    }
   ],
   "source": [
    "from sklearn.metrics import mean_squared_error\n",
    "mean_squared_error(dfDays['Precio Real'], dfDays['Precio Estimado'])"
   ]
  },
  {
   "cell_type": "markdown",
   "metadata": {},
   "source": [
    "### Error Absoluto Medio (MAE)"
   ]
  },
  {
   "cell_type": "code",
   "execution_count": null,
   "metadata": {},
   "outputs": [],
   "source": [
    "from sklearn.metrics import mean_absolute_error\n",
    "mean_absolute_error(dfDays['Precio Real'], dfDays['Precio Estimado'])"
   ]
  },
  {
   "cell_type": "markdown",
   "metadata": {},
   "source": [
    "### Error: Total de fallos"
   ]
  },
  {
   "cell_type": "code",
   "execution_count": null,
   "metadata": {},
   "outputs": [],
   "source": [
    "print(\"El total de fallos ha sido: \",contTotal)"
   ]
  },
  {
   "cell_type": "markdown",
   "metadata": {},
   "source": [
    "### Gráfica Precio Real - Precio Estimado"
   ]
  },
  {
   "cell_type": "code",
   "execution_count": null,
   "metadata": {},
   "outputs": [],
   "source": [
    "%matplotlib inline\n",
    "from pylab import *\n",
    "import matplotlib.pyplot as plt\n",
    "from pylab import *\n",
    "\n",
    "listafechas = []\n",
    "for e,i in enumerate (dfDays['Periodo por días']):\n",
    "    listafechas.append(i[5:7]+'/'+i[8:10])\n",
    "listafechas\n",
    "\n",
    "#x = dfDays['Periodo por días']\n",
    "x = listafechas\n",
    "y1 = dfDays['Precio Real']\n",
    "y2 = dfDays['Precio Estimado']\n",
    "\n",
    "figure()\n",
    "plt.plot(x, y1, 'r', color='b')\n",
    "plt.plot(x, y2, 'r', color='r', linestyle='--')\n",
    "plt.axis([min(x),max(x),min(y1),max(y1)])\n",
    "plt.legend()\n",
    "xlabel('Período por días')\n",
    "ylabel('Precio')\n",
    "title('Precio Real - Precio Estimado')\n",
    "show()"
   ]
  }
 ],
 "metadata": {
  "kernelspec": {
   "display_name": "Python 3",
   "language": "python",
   "name": "python3"
  },
  "language_info": {
   "codemirror_mode": {
    "name": "ipython",
    "version": 3
   },
   "file_extension": ".py",
   "mimetype": "text/x-python",
   "name": "python",
   "nbconvert_exporter": "python",
   "pygments_lexer": "ipython3",
   "version": "3.6.3"
  }
 },
 "nbformat": 4,
 "nbformat_minor": 1
}
