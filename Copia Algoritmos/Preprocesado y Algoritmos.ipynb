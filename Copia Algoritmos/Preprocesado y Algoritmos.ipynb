{
 "cells": [
  {
   "cell_type": "markdown",
   "metadata": {},
   "source": [
    "# Trabajo Fin de Grado. Predicción de precios de instancias “spot” en la nube de Amazon\n"
   ]
  },
  {
   "cell_type": "markdown",
   "metadata": {},
   "source": [
    "## Realizado por: Luis Mendoza Montero"
   ]
  },
  {
   "cell_type": "markdown",
   "metadata": {},
   "source": [
    "***Desarrollo del trabajo:***\n",
    "\n",
    "Preprocesamiento de los datos, coeficiente de Gini, Índice de Theil y Promedio Móvil Ponderado Exponencial\n",
    "\n"
   ]
  },
  {
   "cell_type": "markdown",
   "metadata": {},
   "source": [
    "# 1. Preprocesado de Datos"
   ]
  },
  {
   "cell_type": "markdown",
   "metadata": {},
   "source": [
    "### Seleccionar region y categoría (tabla de la BBDD)"
   ]
  },
  {
   "cell_type": "code",
   "execution_count": 1,
   "metadata": {
    "collapsed": true
   },
   "outputs": [],
   "source": [
    "region = \"'C4_ap_southeast_1'\""
   ]
  },
  {
   "cell_type": "markdown",
   "metadata": {},
   "source": [
    "### Seleccionar tipo de Sistema Operativo"
   ]
  },
  {
   "cell_type": "markdown",
   "metadata": {},
   "source": [
    "Existes 3 tipos de sistemas: ***Windows, Linux/UNIX o SUSE Linux***"
   ]
  },
  {
   "cell_type": "code",
   "execution_count": 2,
   "metadata": {
    "collapsed": true
   },
   "outputs": [],
   "source": [
    "sistema = \"SUSE Linux\""
   ]
  },
  {
   "cell_type": "markdown",
   "metadata": {},
   "source": [
    "### Cargando paquetes"
   ]
  },
  {
   "cell_type": "code",
   "execution_count": 2,
   "metadata": {
    "collapsed": true
   },
   "outputs": [],
   "source": [
    "import datetime\n",
    "import sqlite3\n",
    "import csv\n",
    "import sys\n",
    "import random\n",
    "import datetime, time\n",
    "import pandas as pd\n",
    "import matplotlib.pyplot as plt\n",
    "from glob import glob; from os.path import expanduser"
   ]
  },
  {
   "cell_type": "markdown",
   "metadata": {},
   "source": [
    "Sacamos las zonas de disponibilidad, los sistemas operativos y las fechas de las instancias"
   ]
  },
  {
   "cell_type": "code",
   "execution_count": 4,
   "metadata": {},
   "outputs": [
    {
     "name": "stdout",
     "output_type": "stream",
     "text": [
      "c4.2xlarge\n"
     ]
    }
   ],
   "source": [
    "# Conectar con la base de datos\n",
    "with sqlite3.connect(\"BBDD.db\") as connection:\n",
    "    \n",
    "    # Sacamos el tipo de istancia (nombre + familia)\n",
    "    instances = pd.read_sql(\"SELECT DISTINCT InstanceType FROM \"+region+\";\", connection) \n",
    "    instances_list = instances.values.tolist()\n",
    "    del instances_list[0]\n",
    "    \n",
    "    for inst in instances_list:\n",
    "        instance=inst[0] # En la variable instance tenemos el tipo de instancia\n",
    "    print(instance)\n",
    "    \n",
    "    # Sacamos las zonas de disponibilidad\n",
    "    zones = pd.read_sql(\"SELECT DISTINCT AvailabilityZone FROM \"+region+\";\", connection) \n",
    "    zones_list = zones.values.tolist()\n",
    "    del zones_list[0]\n",
    "    \n",
    "    listaRegiones = []\n",
    "    for zone in zones_list:\n",
    "        for zo in zone:\n",
    "            listaRegiones.append(zo) # Lista de zonas en la región\n",
    "    \n",
    "    # Para cada zona y SO indicado sacamos el dia, el mes y el año\n",
    "    for zona in listaRegiones: \n",
    "        #for sistema in listaSistemas:\n",
    "        dates = pd.read_sql(\"SELECT DISTINCT SUBSTR(Timestamp, 1, 10) FROM \"+region+\"WHERE AvailabilityZone = '\"+zona+\"'AND Description = '\"+sistema+\"';\", connection)\n",
    "        dates_list = dates.values.tolist()\n",
    "    \n",
    "    listaFechas = []\n",
    "    for date in dates_list:\n",
    "        for da in date:\n",
    "            listaFechas.append(da) # Lista de fechas en cada zona y SO\n",
    "\n",
    "# Cerrar la conexión siempre\n",
    "connection.close()"
   ]
  },
  {
   "cell_type": "markdown",
   "metadata": {},
   "source": [
    "### Seleccionar Zona de Disponibilidad"
   ]
  },
  {
   "cell_type": "markdown",
   "metadata": {},
   "source": [
    "Elegir entre una de las siguientes zonas de disponibilidad:"
   ]
  },
  {
   "cell_type": "code",
   "execution_count": 5,
   "metadata": {},
   "outputs": [
    {
     "name": "stdout",
     "output_type": "stream",
     "text": [
      "['ap-southeast-1a', 'ap-southeast-1b', 'ap-southeast-1c']\n"
     ]
    }
   ],
   "source": [
    "print(listaRegiones)"
   ]
  },
  {
   "cell_type": "code",
   "execution_count": 6,
   "metadata": {
    "collapsed": true
   },
   "outputs": [],
   "source": [
    "zona = \"ap-southeast-1a\""
   ]
  },
  {
   "cell_type": "markdown",
   "metadata": {},
   "source": [
    "### Completamos datos preprocesados"
   ]
  },
  {
   "cell_type": "code",
   "execution_count": 7,
   "metadata": {
    "collapsed": true
   },
   "outputs": [],
   "source": [
    "\n",
    "# Conectar con la base de datos, si no existe la crea automáticamente\n",
    "conexion = sqlite3.connect(\"BBDD.db\")\n",
    "    \n",
    "# Para poder ejecutar código SQL, tenemos que crear un cursor primero, el nombre de la tabla será la familia de las categorías\n",
    "cursor = conexion.cursor()\n",
    "cursor.execute(\"DROP TABLE IF EXISTS Preprocesados;\")\n",
    "cursor.execute(\"CREATE TABLE IF NOT EXISTS Preprocesados (AvailabilityZone VARCHAR(100), Description VARCHAR(100), InstanceType VARCHAR(100), SpotPrice FLOAT(8,4), Timestamp Datetime, PRIMARY KEY('AvailabilityZone','InstanceType','Timestamp','Description'))\")\n",
    "\n",
    "# Insertamos los nombre de los atributos para que se tenga en cuenta en formato csv\n",
    "cursor.execute(\"INSERT OR IGNORE INTO Preprocesados VALUES ('AvailabilityZone','Description','InstanceType','SpotPrice','Timestamp');\")      \n",
    "\n",
    "lista = [] # variable auxiliar por si no hay precios en algunas horas para meter el anterior más mayor\n",
    "lista.append(0.0)\n",
    "aux = '0'\n",
    "#for zona in listaRegiones:\n",
    "for fecha in listaFechas:\n",
    "            \n",
    "            # Para las 00:00:00\n",
    "            price = pd.read_sql(\"SELECT MAX(SpotPrice) FROM \"+region+\"WHERE SpotPrice<>'SpotPrice' AND AvailabilityZone='\"+zona+\"' AND Description = '\"+sistema+\"' AND Timestamp >='\"+fecha+\"T00:00:00.000z' AND Timestamp <='\"+fecha+\"T00:59:59.000z';\",conexion)\n",
    "            precios = price.values.tolist()\n",
    "            for prec in precios:\n",
    "                precio = str(prec[0])\n",
    "            if precio == 'None':\n",
    "                cursor.execute(\"INSERT OR IGNORE INTO Preprocesados VALUES (\"+\"'\"+zona+\"',\"+\"'\"+sistema+\"','\"+instance+\"','\"+aux+\"','\"+fecha+\"T00:00:00.000Z');\")\n",
    "            elif precio != 'None':\n",
    "                cursor.execute(\"INSERT OR IGNORE INTO Preprocesados VALUES (\"+\"'\"+zona+\"',\"+\"'\"+sistema+\"','\"+instance+\"','\"+precio+\"','\"+fecha+\"T00:00:00.000Z');\")\n",
    "                aux = str(precio)\n",
    "                \n",
    "            # Para las 01:00:00\n",
    "            price = pd.read_sql(\"SELECT MAX(SpotPrice) FROM \"+region+\"WHERE SpotPrice<>'SpotPrice' AND AvailabilityZone='\"+zona+\"' AND Description = '\"+sistema+\"' AND Timestamp >='\"+fecha+\"T01:00:00.000z' AND Timestamp <='\"+fecha+\"T01:59:59.000z';\",conexion)\n",
    "            precios = price.values.tolist()\n",
    "            for prec in precios:\n",
    "                precio = str(prec[0])\n",
    "            if precio == 'None':\n",
    "                cursor.execute(\"INSERT OR IGNORE INTO Preprocesados VALUES (\"+\"'\"+zona+\"',\"+\"'\"+sistema+\"','\"+instance+\"','\"+aux+\"','\"+fecha+\"T01:00:00.000Z');\")\n",
    "            elif precio != 'None':\n",
    "                cursor.execute(\"INSERT OR IGNORE INTO Preprocesados VALUES (\"+\"'\"+zona+\"',\"+\"'\"+sistema+\"','\"+instance+\"','\"+precio+\"','\"+fecha+\"T01:00:00.000Z');\")\n",
    "                aux = str(precio)\n",
    "           \n",
    "            # Para las 02:00:00\n",
    "            price = pd.read_sql(\"SELECT MAX(SpotPrice) FROM \"+region+\"WHERE SpotPrice<>'SpotPrice' AND AvailabilityZone='\"+zona+\"' AND Description = '\"+sistema+\"' AND Timestamp >='\"+fecha+\"T02:00:00.000z' AND Timestamp <='\"+fecha+\"T02:59:59.000z';\",conexion)\n",
    "            precios = price.values.tolist()\n",
    "            for prec in precios:\n",
    "                precio = str(prec[0])\n",
    "            if precio == 'None':\n",
    "                cursor.execute(\"INSERT OR IGNORE INTO Preprocesados VALUES (\"+\"'\"+zona+\"',\"+\"'\"+sistema+\"','\"+instance+\"','\"+aux+\"','\"+fecha+\"T02:00:00.000Z');\")\n",
    "            elif precio != 'None':\n",
    "                cursor.execute(\"INSERT OR IGNORE INTO Preprocesados VALUES (\"+\"'\"+zona+\"',\"+\"'\"+sistema+\"','\"+instance+\"','\"+precio+\"','\"+fecha+\"T02:00:00.000Z');\")\n",
    "                aux = str(precio)\n",
    "\n",
    "                \n",
    "            # Para las 03:00:00\n",
    "            price = pd.read_sql(\"SELECT MAX(SpotPrice) FROM \"+region+\"WHERE SpotPrice<>'SpotPrice' AND AvailabilityZone='\"+zona+\"' AND Description = '\"+sistema+\"' AND Timestamp >='\"+fecha+\"T03:00:00.000z' AND Timestamp <='\"+fecha+\"T03:59:59.000z';\",conexion)\n",
    "            precios = price.values.tolist()\n",
    "            for prec in precios:\n",
    "                precio = str(prec[0])\n",
    "            if precio == 'None':\n",
    "                cursor.execute(\"INSERT OR IGNORE INTO Preprocesados VALUES (\"+\"'\"+zona+\"',\"+\"'\"+sistema+\"','\"+instance+\"','\"+aux+\"','\"+fecha+\"T03:00:00.000Z');\")\n",
    "            elif precio != 'None':\n",
    "                cursor.execute(\"INSERT OR IGNORE INTO Preprocesados VALUES (\"+\"'\"+zona+\"',\"+\"'\"+sistema+\"','\"+instance+\"','\"+precio+\"','\"+fecha+\"T03:00:00.000Z');\")\n",
    "                aux = str(precio)\n",
    "    \n",
    "                \n",
    "            # Para las 04:00:00\n",
    "            price = pd.read_sql(\"SELECT MAX(SpotPrice) FROM \"+region+\"WHERE SpotPrice<>'SpotPrice' AND AvailabilityZone='\"+zona+\"' AND Description = '\"+sistema+\"' AND Timestamp >='\"+fecha+\"T04:00:00.000z' AND Timestamp <='\"+fecha+\"T04:59:59.000z';\",conexion)\n",
    "            precios = price.values.tolist()\n",
    "            for prec in precios:\n",
    "                precio = str(prec[0])\n",
    "            if precio == 'None':\n",
    "                cursor.execute(\"INSERT OR IGNORE INTO Preprocesados VALUES (\"+\"'\"+zona+\"',\"+\"'\"+sistema+\"','\"+instance+\"','\"+aux+\"','\"+fecha+\"T04:00:00.000Z');\")\n",
    "            elif precio != 'None':\n",
    "                cursor.execute(\"INSERT OR IGNORE INTO Preprocesados VALUES (\"+\"'\"+zona+\"',\"+\"'\"+sistema+\"','\"+instance+\"','\"+precio+\"','\"+fecha+\"T04:00:00.000Z');\")\n",
    "                aux = str(precio)\n",
    "                    \n",
    "            \n",
    "            # Para las 05:00:00\n",
    "            price = pd.read_sql(\"SELECT MAX(SpotPrice) FROM \"+region+\"WHERE SpotPrice<>'SpotPrice' AND AvailabilityZone='\"+zona+\"' AND Description = '\"+sistema+\"' AND Timestamp >='\"+fecha+\"T05:00:00.000z' AND Timestamp <='\"+fecha+\"T05:59:59.000z';\",conexion)\n",
    "            precios = price.values.tolist()\n",
    "            for prec in precios:\n",
    "                precio = str(prec[0])\n",
    "            if precio == 'None':\n",
    "                cursor.execute(\"INSERT OR IGNORE INTO Preprocesados VALUES (\"+\"'\"+zona+\"',\"+\"'\"+sistema+\"','\"+instance+\"','\"+aux+\"','\"+fecha+\"T05:00:00.000Z');\")\n",
    "            elif precio != 'None':\n",
    "                cursor.execute(\"INSERT OR IGNORE INTO Preprocesados VALUES (\"+\"'\"+zona+\"',\"+\"'\"+sistema+\"','\"+instance+\"','\"+precio+\"','\"+fecha+\"T05:00:00.000Z');\")\n",
    "                aux = str(precio)\n",
    "                    \n",
    "                \n",
    "            # Para las 06:00:00\n",
    "            price = pd.read_sql(\"SELECT MAX(SpotPrice) FROM \"+region+\"WHERE SpotPrice<>'SpotPrice' AND AvailabilityZone='\"+zona+\"' AND Description = '\"+sistema+\"' AND Timestamp >='\"+fecha+\"T06:00:00.000z' AND Timestamp <='\"+fecha+\"T06:59:59.000z';\",conexion)\n",
    "            precios = price.values.tolist()\n",
    "            for prec in precios:\n",
    "                precio = str(prec[0])\n",
    "            if precio == 'None':\n",
    "                cursor.execute(\"INSERT OR IGNORE INTO Preprocesados VALUES (\"+\"'\"+zona+\"',\"+\"'\"+sistema+\"','\"+instance+\"','\"+aux+\"','\"+fecha+\"T06:00:00.000Z');\")\n",
    "            elif precio != 'None':\n",
    "                cursor.execute(\"INSERT OR IGNORE INTO Preprocesados VALUES (\"+\"'\"+zona+\"',\"+\"'\"+sistema+\"','\"+instance+\"','\"+precio+\"','\"+fecha+\"T06:00:00.000Z');\")\n",
    "                aux = str(precio)\n",
    "                    \n",
    "                \n",
    "            # Para las 07:00:00\n",
    "            price = pd.read_sql(\"SELECT MAX(SpotPrice) FROM \"+region+\"WHERE SpotPrice<>'SpotPrice' AND AvailabilityZone='\"+zona+\"' AND Description = '\"+sistema+\"' AND Timestamp >='\"+fecha+\"T07:00:00.000z' AND Timestamp <='\"+fecha+\"T07:59:59.000z';\",conexion)\n",
    "            precios = price.values.tolist()\n",
    "            for prec in precios:\n",
    "                precio = str(prec[0])\n",
    "            if precio == 'None':\n",
    "                cursor.execute(\"INSERT OR IGNORE INTO Preprocesados VALUES (\"+\"'\"+zona+\"',\"+\"'\"+sistema+\"','\"+instance+\"','\"+aux+\"','\"+fecha+\"T07:00:00.000Z');\")\n",
    "            elif precio != 'None':\n",
    "                cursor.execute(\"INSERT OR IGNORE INTO Preprocesados VALUES (\"+\"'\"+zona+\"',\"+\"'\"+sistema+\"','\"+instance+\"','\"+precio+\"','\"+fecha+\"T07:00:00.000Z');\")\n",
    "                aux = str(precio)\n",
    "                    \n",
    "                \n",
    "            # Para las 08:00:00\n",
    "            price = pd.read_sql(\"SELECT MAX(SpotPrice) FROM \"+region+\"WHERE SpotPrice<>'SpotPrice' AND AvailabilityZone='\"+zona+\"' AND Description = '\"+sistema+\"' AND Timestamp >='\"+fecha+\"T08:00:00.000z' AND Timestamp <='\"+fecha+\"T08:59:59.000z';\",conexion)\n",
    "            precios = price.values.tolist()\n",
    "            for prec in precios:\n",
    "                precio = str(prec[0])\n",
    "            if precio == 'None':\n",
    "                cursor.execute(\"INSERT OR IGNORE INTO Preprocesados VALUES (\"+\"'\"+zona+\"',\"+\"'\"+sistema+\"','\"+instance+\"','\"+aux+\"','\"+fecha+\"T08:00:00.000Z');\")\n",
    "            elif precio != 'None':\n",
    "                cursor.execute(\"INSERT OR IGNORE INTO Preprocesados VALUES (\"+\"'\"+zona+\"',\"+\"'\"+sistema+\"','\"+instance+\"','\"+precio+\"','\"+fecha+\"T08:00:00.000Z');\")\n",
    "                aux = str(precio)\n",
    "                    \n",
    "                \n",
    "            # Para las 09:00:00\n",
    "            price = pd.read_sql(\"SELECT MAX(SpotPrice) FROM \"+region+\"WHERE SpotPrice<>'SpotPrice' AND AvailabilityZone='\"+zona+\"' AND Description = '\"+sistema+\"' AND Timestamp >='\"+fecha+\"T09:00:00.000z' AND Timestamp <='\"+fecha+\"T09:59:59.000z';\",conexion)\n",
    "            precios = price.values.tolist()\n",
    "            for prec in precios:\n",
    "                precio = str(prec[0])\n",
    "            if precio == 'None':\n",
    "                cursor.execute(\"INSERT OR IGNORE INTO Preprocesados VALUES (\"+\"'\"+zona+\"',\"+\"'\"+sistema+\"','\"+instance+\"','\"+aux+\"','\"+fecha+\"T09:00:00.000Z');\")\n",
    "            elif precio != 'None':\n",
    "                cursor.execute(\"INSERT OR IGNORE INTO Preprocesados VALUES (\"+\"'\"+zona+\"',\"+\"'\"+sistema+\"','\"+instance+\"','\"+precio+\"','\"+fecha+\"T09:00:00.000Z');\")\n",
    "                aux = str(precio)\n",
    "                    \n",
    "                \n",
    "            # Para las 10:00:00\n",
    "            price = pd.read_sql(\"SELECT MAX(SpotPrice) FROM \"+region+\"WHERE SpotPrice<>'SpotPrice' AND AvailabilityZone='\"+zona+\"' AND Description = '\"+sistema+\"' AND Timestamp >='\"+fecha+\"T10:00:00.000z' AND Timestamp <='\"+fecha+\"T10:59:59.000z';\",conexion)\n",
    "            precios = price.values.tolist()\n",
    "            for prec in precios:\n",
    "                precio = str(prec[0])\n",
    "            if precio == 'None':\n",
    "                cursor.execute(\"INSERT OR IGNORE INTO Preprocesados VALUES (\"+\"'\"+zona+\"',\"+\"'\"+sistema+\"','\"+instance+\"','\"+aux+\"','\"+fecha+\"T10:00:00.000Z');\")\n",
    "            elif precio != 'None':\n",
    "                cursor.execute(\"INSERT OR IGNORE INTO Preprocesados VALUES (\"+\"'\"+zona+\"',\"+\"'\"+sistema+\"','\"+instance+\"','\"+precio+\"','\"+fecha+\"T10:00:00.000Z');\")\n",
    "                aux = str(precio)\n",
    "                    \n",
    "                \n",
    "            # Para las 11:00:00\n",
    "            price = pd.read_sql(\"SELECT MAX(SpotPrice) FROM \"+region+\"WHERE SpotPrice<>'SpotPrice' AND AvailabilityZone='\"+zona+\"' AND Description = '\"+sistema+\"' AND Timestamp >='\"+fecha+\"T11:00:00.000z' AND Timestamp <='\"+fecha+\"T11:59:59.000z';\",conexion)\n",
    "            precios = price.values.tolist()\n",
    "            for prec in precios:\n",
    "                precio = str(prec[0])\n",
    "            if precio == 'None':\n",
    "                cursor.execute(\"INSERT OR IGNORE INTO Preprocesados VALUES (\"+\"'\"+zona+\"',\"+\"'\"+sistema+\"','\"+instance+\"','\"+aux+\"','\"+fecha+\"T11:00:00.000Z');\")\n",
    "            elif precio != 'None':\n",
    "                cursor.execute(\"INSERT OR IGNORE INTO Preprocesados VALUES (\"+\"'\"+zona+\"',\"+\"'\"+sistema+\"','\"+instance+\"','\"+precio+\"','\"+fecha+\"T11:00:00.000Z');\")\n",
    "                aux = str(precio)\n",
    "                    \n",
    "                \n",
    "            # Para las 12:00:00\n",
    "            price = pd.read_sql(\"SELECT MAX(SpotPrice) FROM \"+region+\"WHERE SpotPrice<>'SpotPrice' AND AvailabilityZone='\"+zona+\"' AND Description = '\"+sistema+\"' AND Timestamp >='\"+fecha+\"T12:00:00.000z' AND Timestamp <='\"+fecha+\"T12:59:59.000z';\",conexion)\n",
    "            precios = price.values.tolist()\n",
    "            for prec in precios:\n",
    "                precio = str(prec[0])\n",
    "            if precio == 'None':\n",
    "                cursor.execute(\"INSERT OR IGNORE INTO Preprocesados VALUES (\"+\"'\"+zona+\"',\"+\"'\"+sistema+\"','\"+instance+\"','\"+aux+\"','\"+fecha+\"T12:00:00.000Z');\")\n",
    "            elif precio != 'None':\n",
    "                cursor.execute(\"INSERT OR IGNORE INTO Preprocesados VALUES (\"+\"'\"+zona+\"',\"+\"'\"+sistema+\"','\"+instance+\"','\"+precio+\"','\"+fecha+\"T12:00:00.000Z');\")\n",
    "                aux = str(precio)\n",
    "                    \n",
    "                \n",
    "            # Para las 13:00:00\n",
    "            price = pd.read_sql(\"SELECT MAX(SpotPrice) FROM \"+region+\"WHERE SpotPrice<>'SpotPrice' AND AvailabilityZone='\"+zona+\"' AND Description = '\"+sistema+\"' AND Timestamp >='\"+fecha+\"T13:00:00.000z' AND Timestamp <='\"+fecha+\"T13:59:59.000z';\",conexion)\n",
    "            precios = price.values.tolist()\n",
    "            for prec in precios:\n",
    "                precio = str(prec[0])\n",
    "            if precio == 'None':\n",
    "                cursor.execute(\"INSERT OR IGNORE INTO Preprocesados VALUES (\"+\"'\"+zona+\"',\"+\"'\"+sistema+\"','\"+instance+\"','\"+aux+\"','\"+fecha+\"T13:00:00.000Z');\")\n",
    "            elif precio != 'None':\n",
    "                cursor.execute(\"INSERT OR IGNORE INTO Preprocesados VALUES (\"+\"'\"+zona+\"',\"+\"'\"+sistema+\"','\"+instance+\"','\"+precio+\"','\"+fecha+\"T13:00:00.000Z');\")\n",
    "                aux = str(precio)\n",
    "                    \n",
    "                \n",
    "            # Para las 14:00:00\n",
    "            price = pd.read_sql(\"SELECT MAX(SpotPrice) FROM \"+region+\"WHERE SpotPrice<>'SpotPrice' AND AvailabilityZone='\"+zona+\"' AND Description = '\"+sistema+\"' AND Timestamp >='\"+fecha+\"T14:00:00.000z' AND Timestamp <='\"+fecha+\"T14:59:59.000z';\",conexion)\n",
    "            precios = price.values.tolist()\n",
    "            for prec in precios:\n",
    "                precio = str(prec[0])\n",
    "            if precio == 'None':\n",
    "                cursor.execute(\"INSERT OR IGNORE INTO Preprocesados VALUES (\"+\"'\"+zona+\"',\"+\"'\"+sistema+\"','\"+instance+\"','\"+aux+\"','\"+fecha+\"T14:00:00.000Z');\")\n",
    "            elif precio != 'None':\n",
    "                cursor.execute(\"INSERT OR IGNORE INTO Preprocesados VALUES (\"+\"'\"+zona+\"',\"+\"'\"+sistema+\"','\"+instance+\"','\"+precio+\"','\"+fecha+\"T14:00:00.000Z');\")\n",
    "                aux = str(precio)\n",
    "                    \n",
    "                \n",
    "            # Para las 15:00:00\n",
    "            price = pd.read_sql(\"SELECT MAX(SpotPrice) FROM \"+region+\"WHERE SpotPrice<>'SpotPrice' AND AvailabilityZone='\"+zona+\"' AND Description = '\"+sistema+\"' AND Timestamp >='\"+fecha+\"T15:00:00.000z' AND Timestamp <='\"+fecha+\"T15:59:59.000z';\",conexion)\n",
    "            precios = price.values.tolist()\n",
    "            for prec in precios:\n",
    "                precio = str(prec[0])\n",
    "            if precio == 'None':\n",
    "                cursor.execute(\"INSERT OR IGNORE INTO Preprocesados VALUES (\"+\"'\"+zona+\"',\"+\"'\"+sistema+\"','\"+instance+\"','\"+aux+\"','\"+fecha+\"T15:00:00.000Z');\")\n",
    "            elif precio != 'None':\n",
    "                cursor.execute(\"INSERT OR IGNORE INTO Preprocesados VALUES (\"+\"'\"+zona+\"',\"+\"'\"+sistema+\"','\"+instance+\"','\"+precio+\"','\"+fecha+\"T15:00:00.000Z');\")\n",
    "                aux = str(precio)\n",
    "                    \n",
    "                \n",
    "            # Para las 16:00:00\n",
    "            price = pd.read_sql(\"SELECT MAX(SpotPrice) FROM \"+region+\"WHERE SpotPrice<>'SpotPrice' AND AvailabilityZone='\"+zona+\"' AND Description = '\"+sistema+\"' AND Timestamp >='\"+fecha+\"T16:00:00.000z' AND Timestamp <='\"+fecha+\"T16:59:59.000z';\",conexion)\n",
    "            precios = price.values.tolist()\n",
    "            for prec in precios:\n",
    "                precio = str(prec[0])\n",
    "            if precio == 'None':\n",
    "                cursor.execute(\"INSERT OR IGNORE INTO Preprocesados VALUES (\"+\"'\"+zona+\"',\"+\"'\"+sistema+\"','\"+instance+\"','\"+aux+\"','\"+fecha+\"T16:00:00.000Z');\")\n",
    "            elif precio != 'None':\n",
    "                cursor.execute(\"INSERT OR IGNORE INTO Preprocesados VALUES (\"+\"'\"+zona+\"',\"+\"'\"+sistema+\"','\"+instance+\"','\"+precio+\"','\"+fecha+\"T16:00:00.000Z');\")\n",
    "                aux = str(precio)\n",
    "                    \n",
    "                \n",
    "            # Para las 17:00:00\n",
    "            price = pd.read_sql(\"SELECT MAX(SpotPrice) FROM \"+region+\"WHERE SpotPrice<>'SpotPrice' AND AvailabilityZone='\"+zona+\"' AND Description = '\"+sistema+\"' AND Timestamp >='\"+fecha+\"T17:00:00.000z' AND Timestamp <='\"+fecha+\"T17:59:59.000z';\",conexion)\n",
    "            precios = price.values.tolist()\n",
    "            for prec in precios:\n",
    "                precio = str(prec[0])\n",
    "            if precio == 'None':\n",
    "                cursor.execute(\"INSERT OR IGNORE INTO Preprocesados VALUES (\"+\"'\"+zona+\"',\"+\"'\"+sistema+\"','\"+instance+\"','\"+aux+\"','\"+fecha+\"T17:00:00.000Z');\")\n",
    "            elif precio != 'None':\n",
    "                cursor.execute(\"INSERT OR IGNORE INTO Preprocesados VALUES (\"+\"'\"+zona+\"',\"+\"'\"+sistema+\"','\"+instance+\"','\"+precio+\"','\"+fecha+\"T17:00:00.000Z');\")\n",
    "                aux = str(precio)\n",
    "                    \n",
    "                \n",
    "            # Para las 18:00:00\n",
    "            price = pd.read_sql(\"SELECT MAX(SpotPrice) FROM \"+region+\"WHERE SpotPrice<>'SpotPrice' AND AvailabilityZone='\"+zona+\"' AND Description = '\"+sistema+\"' AND Timestamp >='\"+fecha+\"T18:00:00.000z' AND Timestamp <='\"+fecha+\"T18:59:59.000z';\",conexion)\n",
    "            precios = price.values.tolist()\n",
    "            for prec in precios:\n",
    "                precio = str(prec[0])\n",
    "            if precio == 'None':\n",
    "                cursor.execute(\"INSERT OR IGNORE INTO Preprocesados VALUES (\"+\"'\"+zona+\"',\"+\"'\"+sistema+\"','\"+instance+\"','\"+aux+\"','\"+fecha+\"T18:00:00.000Z');\")\n",
    "            elif precio != 'None':\n",
    "                cursor.execute(\"INSERT OR IGNORE INTO Preprocesados VALUES (\"+\"'\"+zona+\"',\"+\"'\"+sistema+\"','\"+instance+\"','\"+precio+\"','\"+fecha+\"T18:00:00.000Z');\")\n",
    "                aux = str(precio)\n",
    "                    \n",
    "                \n",
    "            # Para las 19:00:00\n",
    "            price = pd.read_sql(\"SELECT MAX(SpotPrice) FROM \"+region+\"WHERE SpotPrice<>'SpotPrice' AND AvailabilityZone='\"+zona+\"' AND Description = '\"+sistema+\"' AND Timestamp >='\"+fecha+\"T19:00:00.000z' AND Timestamp <='\"+fecha+\"T19:59:59.000z';\",conexion)\n",
    "            precios = price.values.tolist()\n",
    "            for prec in precios:\n",
    "                precio = str(prec[0])\n",
    "            if precio == 'None':\n",
    "                cursor.execute(\"INSERT OR IGNORE INTO Preprocesados VALUES (\"+\"'\"+zona+\"',\"+\"'\"+sistema+\"','\"+instance+\"','\"+aux+\"','\"+fecha+\"T19:00:00.000Z');\")\n",
    "            elif precio != 'None':\n",
    "                cursor.execute(\"INSERT OR IGNORE INTO Preprocesados VALUES (\"+\"'\"+zona+\"',\"+\"'\"+sistema+\"','\"+instance+\"','\"+precio+\"','\"+fecha+\"T19:00:00.000Z');\")\n",
    "                aux = str(precio)\n",
    "                    \n",
    "                \n",
    "            # Para las 20:00:00\n",
    "            price = pd.read_sql(\"SELECT MAX(SpotPrice) FROM \"+region+\"WHERE SpotPrice<>'SpotPrice' AND AvailabilityZone='\"+zona+\"' AND Description = '\"+sistema+\"' AND Timestamp >='\"+fecha+\"T20:00:00.000z' AND Timestamp <='\"+fecha+\"T20:59:59.000z';\",conexion)\n",
    "            precios = price.values.tolist()\n",
    "            for prec in precios:\n",
    "                precio = str(prec[0])\n",
    "            if precio == 'None':\n",
    "                cursor.execute(\"INSERT OR IGNORE INTO Preprocesados VALUES (\"+\"'\"+zona+\"',\"+\"'\"+sistema+\"','\"+instance+\"','\"+aux+\"','\"+fecha+\"T20:00:00.000Z');\")\n",
    "            elif precio != 'None':\n",
    "                cursor.execute(\"INSERT OR IGNORE INTO Preprocesados VALUES (\"+\"'\"+zona+\"',\"+\"'\"+sistema+\"','\"+instance+\"','\"+precio+\"','\"+fecha+\"T20:00:00.000Z');\")\n",
    "                aux = str(precio)\n",
    "                    \n",
    "                \n",
    "            # Para las 21:00:00\n",
    "            price = pd.read_sql(\"SELECT MAX(SpotPrice) FROM \"+region+\"WHERE SpotPrice<>'SpotPrice' AND AvailabilityZone='\"+zona+\"' AND Description = '\"+sistema+\"' AND Timestamp >='\"+fecha+\"T21:00:00.000z' AND Timestamp <='\"+fecha+\"T21:59:59.000z';\",conexion)\n",
    "            precios = price.values.tolist()\n",
    "            for prec in precios:\n",
    "                precio = str(prec[0])\n",
    "            if precio == 'None':\n",
    "                cursor.execute(\"INSERT OR IGNORE INTO Preprocesados VALUES (\"+\"'\"+zona+\"',\"+\"'\"+sistema+\"','\"+instance+\"','\"+aux+\"','\"+fecha+\"T21:00:00.000Z');\")\n",
    "            elif precio != 'None':\n",
    "                cursor.execute(\"INSERT OR IGNORE INTO Preprocesados VALUES (\"+\"'\"+zona+\"',\"+\"'\"+sistema+\"','\"+instance+\"','\"+precio+\"','\"+fecha+\"T21:00:00.000Z');\")\n",
    "                aux = str(precio)\n",
    "                    \n",
    "                \n",
    "            # Para las 22:00:00\n",
    "            price = pd.read_sql(\"SELECT MAX(SpotPrice) FROM \"+region+\"WHERE SpotPrice<>'SpotPrice' AND AvailabilityZone='\"+zona+\"' AND Description = '\"+sistema+\"' AND Timestamp >='\"+fecha+\"T22:00:00.000z' AND Timestamp <='\"+fecha+\"T22:59:59.000z';\",conexion)\n",
    "            precios = price.values.tolist()\n",
    "            for prec in precios:\n",
    "                precio = str(prec[0])\n",
    "            if precio == 'None':\n",
    "                cursor.execute(\"INSERT OR IGNORE INTO Preprocesados VALUES (\"+\"'\"+zona+\"',\"+\"'\"+sistema+\"','\"+instance+\"','\"+aux+\"','\"+fecha+\"T22:00:00.000Z');\")\n",
    "            elif precio != 'None':\n",
    "                cursor.execute(\"INSERT OR IGNORE INTO Preprocesados VALUES (\"+\"'\"+zona+\"',\"+\"'\"+sistema+\"','\"+instance+\"','\"+precio+\"','\"+fecha+\"T22:00:00.000Z');\")\n",
    "                aux = str(precio)\n",
    "                    \n",
    "                \n",
    "            # Para las 23:00:00\n",
    "            price = pd.read_sql(\"SELECT MAX(SpotPrice) FROM \"+region+\"WHERE SpotPrice<>'SpotPrice' AND AvailabilityZone='\"+zona+\"' AND Description = '\"+sistema+\"' AND Timestamp >='\"+fecha+\"T23:00:00.000z' AND Timestamp <='\"+fecha+\"T23:59:59.000z';\",conexion)\n",
    "            precios = price.values.tolist()\n",
    "            for prec in precios:\n",
    "                precio = str(prec[0])\n",
    "            if precio == 'None':\n",
    "                cursor.execute(\"INSERT OR IGNORE INTO Preprocesados VALUES (\"+\"'\"+zona+\"',\"+\"'\"+sistema+\"','\"+instance+\"','\"+aux+\"','\"+fecha+\"T23:00:00.000Z');\")\n",
    "            elif precio != 'None':\n",
    "                cursor.execute(\"INSERT OR IGNORE INTO Preprocesados VALUES (\"+\"'\"+zona+\"',\"+\"'\"+sistema+\"','\"+instance+\"','\"+precio+\"','\"+fecha+\"T23:00:00.000Z');\")\n",
    "                aux = str(precio)\n",
    "                   \n",
    "\n",
    "# Eliminamos los registros donde el precio sea 0\n",
    "cursor.execute(\"DELETE FROM Preprocesados WHERE SpotPrice = 0.0\")\n",
    "            \n",
    "#print(lista)\n",
    "\n",
    "# Guardamos los cambios haciendo un commit\n",
    "conexion.commit()\n",
    "    \n",
    "# Cerrar la conexión siempre\n",
    "connection.close()\n"
   ]
  },
  {
   "cell_type": "markdown",
   "metadata": {},
   "source": [
    "### Recoger datos preprocesados"
   ]
  },
  {
   "cell_type": "code",
   "execution_count": 8,
   "metadata": {
    "collapsed": true
   },
   "outputs": [],
   "source": [
    "# Conectar con la base de datos\n",
    "with sqlite3.connect(\"BBDD.db\") as connection:\n",
    "    # Abrimos el csv a insertar los datos\n",
    "    csvWriter = csv.writer(open(\"datos.csv\", \"w\"))\n",
    "    # Creamos el cursor\n",
    "    c = connection.cursor()\n",
    "    # Hacemos la consulta\n",
    "    data = c.execute(\"SELECT * FROM Preprocesados ORDER BY Timestamp Desc\") # Ordenamos los datos desde el más reciente al menos\n",
    "    # Insertamos los datos en el dataset\n",
    "    rows = data.fetchall()\n",
    "    csvWriter.writerows(rows)\n",
    "\n",
    "# Cerrar la conexión siempre\n",
    "connection.close()"
   ]
  },
  {
   "cell_type": "markdown",
   "metadata": {},
   "source": [
    "### Cargamos el dataframe"
   ]
  },
  {
   "cell_type": "markdown",
   "metadata": {},
   "source": [
    "Ahora recogemos los datos y los insertamos al dataframe además de hacer una muestra de los 15 primeros datos para verificar que todo ha salido bien"
   ]
  },
  {
   "cell_type": "code",
   "execution_count": 2,
   "metadata": {},
   "outputs": [
    {
     "ename": "NameError",
     "evalue": "name 'pd' is not defined",
     "output_type": "error",
     "traceback": [
      "\u001b[1;31m---------------------------------------------------------------------------\u001b[0m",
      "\u001b[1;31mNameError\u001b[0m                                 Traceback (most recent call last)",
      "\u001b[1;32m<ipython-input-2-5fcc7259f58e>\u001b[0m in \u001b[0;36m<module>\u001b[1;34m()\u001b[0m\n\u001b[1;32m----> 1\u001b[1;33m \u001b[0mdf\u001b[0m \u001b[1;33m=\u001b[0m \u001b[0mpd\u001b[0m\u001b[1;33m.\u001b[0m\u001b[0mread_csv\u001b[0m\u001b[1;33m(\u001b[0m\u001b[1;34m\"datos.csv\"\u001b[0m\u001b[1;33m)\u001b[0m\u001b[1;33m\u001b[0m\u001b[0m\n\u001b[0m\u001b[0;32m      2\u001b[0m \u001b[0mdf\u001b[0m\u001b[1;33m.\u001b[0m\u001b[0mhead\u001b[0m\u001b[1;33m(\u001b[0m\u001b[1;36m15\u001b[0m\u001b[1;33m)\u001b[0m\u001b[1;33m\u001b[0m\u001b[0m\n",
      "\u001b[1;31mNameError\u001b[0m: name 'pd' is not defined"
     ]
    }
   ],
   "source": [
    "df = pd.read_csv(\"datos.csv\")\n",
    "df.head(15)"
   ]
  },
  {
   "cell_type": "markdown",
   "metadata": {},
   "source": [
    "### Mostramos la gráfica correspondiente a la zona de disponibilidad"
   ]
  },
  {
   "cell_type": "code",
   "execution_count": 10,
   "metadata": {},
   "outputs": [
    {
     "data": {
      "image/png": "[encoded data removed]",
      "text/plain": [
       "<matplotlib.figure.Figure at 0x254c32524e0>"
      ]
     },
     "metadata": {},
     "output_type": "display_data"
    }
   ],
   "source": [
    "%matplotlib inline\n",
    "from pylab import *\n",
    "import matplotlib.pyplot as plt\n",
    "from pylab import *\n",
    "\n",
    "x = df['Timestamp']\n",
    "y = df['SpotPrice']\n",
    "\n",
    "figure()\n",
    "plt.plot(x, y, 'r')\n",
    "plt.axis([0,max(x),0,max(y)])\n",
    "xlabel('Timestamp')\n",
    "ylabel('SpotPrice')\n",
    "title('Gráfica para '+zona+ ' en '+ region)\n",
    "show()\n"
   ]
  },
  {
   "cell_type": "markdown",
   "metadata": {},
   "source": [
    "# 2. Coeficiente de Gini"
   ]
  },
  {
   "cell_type": "markdown",
   "metadata": {},
   "source": [
    "***El coeficiente de Gini*** es una medida estadística de la desigualdad entre los valores de una distribución de frecuencia, como el ingreso o la riqueza. El coeficiente de Gini devuelve un valor entre 0 y 1 donde:\n",
    "\n",
    "- Un coeficiente de Gini con valor 0, implica la igualdad absoluta, es decir, todos los valores en la distribución son iguales.\n",
    "- Un coeficiente de Gini con valor 1, implica la máxima desigualdad entre los valores.\n",
    "\n",
    "El coeficiente de Gini se puede calcular como una medida resumida de los datos del precio Spot para cada mercado Amazon EC2 Spot. Se puede usar para caracterizar la desigualdad general en los precios Spot:\n",
    "\n",
    "-\tUn Gini bajo (entre 0 y 0,2) indica que el mercado Spot es homogéneo, es decir, los precios Spot siguen aproximadamente una distribución normal con una desviación muy pequeña de la media.\n",
    "-\tUn Gini alto (entre 0.6 y 1.0) indica que el mercado Spot tiene picos infrecuentes pero muy altos del precio Spot promedio.\n",
    "-\tUn Gini de rango medio (entre 0.2 y 0.6) indica que hay varios picos altos (pero no extremos) del precio Spot promedio."
   ]
  },
  {
   "cell_type": "markdown",
   "metadata": {},
   "source": [
    "### Algoritmo Coeficiente de Gini"
   ]
  },
  {
   "cell_type": "code",
   "execution_count": 6,
   "metadata": {
    "collapsed": true
   },
   "outputs": [],
   "source": [
    "import statistics as stats\n",
    "import math\n",
    "\n",
    "def gini(list_of_values):\n",
    "    mean = (stats.mean(list_of_values)) # Calculamos la media de todos los valores de los precios\n",
    "    nvalues = len(list_of_values) # En nvalues tenemos el número de valores totales\n",
    "    sumvalues = 0\n",
    "    for value1 in list_of_values: # Para cada uno de los valores\n",
    "        for value2 in list_of_values: \n",
    "            sumvalues += math.fabs(value1 - value2) # Sumamos la diferencia de cada par\n",
    "    result = sumvalues/((2*(nvalues**2))*mean) # Como resultado final dividimos la suma entre 2 por el número de valores al cuadrado por la media\n",
    "    return result"
   ]
  },
  {
   "cell_type": "markdown",
   "metadata": {},
   "source": [
    "### Eliminación de variables para Gini"
   ]
  },
  {
   "cell_type": "markdown",
   "metadata": {},
   "source": [
    "Eliminamos las variables que no necesitemos para Gini"
   ]
  },
  {
   "cell_type": "code",
   "execution_count": 7,
   "metadata": {},
   "outputs": [
    {
     "ename": "ValueError",
     "evalue": "labels ['AvailabilityZone'] not contained in axis",
     "output_type": "error",
     "traceback": [
      "\u001b[1;31m---------------------------------------------------------------------------\u001b[0m",
      "\u001b[1;31mValueError\u001b[0m                                Traceback (most recent call last)",
      "\u001b[1;32m<ipython-input-7-de25a4c664b7>\u001b[0m in \u001b[0;36m<module>\u001b[1;34m()\u001b[0m\n\u001b[0;32m      2\u001b[0m \u001b[0mdfGini\u001b[0m \u001b[1;33m=\u001b[0m \u001b[0mdf\u001b[0m\u001b[1;33m\u001b[0m\u001b[0m\n\u001b[0;32m      3\u001b[0m \u001b[1;33m\u001b[0m\u001b[0m\n\u001b[1;32m----> 4\u001b[1;33m \u001b[0mdfGini\u001b[0m \u001b[1;33m=\u001b[0m \u001b[0mdfGini\u001b[0m\u001b[1;33m.\u001b[0m\u001b[0mdrop\u001b[0m\u001b[1;33m(\u001b[0m\u001b[1;34m'AvailabilityZone'\u001b[0m\u001b[1;33m,\u001b[0m \u001b[1;36m1\u001b[0m\u001b[1;33m)\u001b[0m\u001b[1;33m\u001b[0m\u001b[0m\n\u001b[0m\u001b[0;32m      5\u001b[0m \u001b[0mdfGini\u001b[0m \u001b[1;33m=\u001b[0m \u001b[0mdfGini\u001b[0m\u001b[1;33m.\u001b[0m\u001b[0mdrop\u001b[0m\u001b[1;33m(\u001b[0m\u001b[1;34m'InstanceType'\u001b[0m\u001b[1;33m,\u001b[0m \u001b[1;36m1\u001b[0m\u001b[1;33m)\u001b[0m\u001b[1;33m\u001b[0m\u001b[0m\n\u001b[0;32m      6\u001b[0m \u001b[0mdfGini\u001b[0m \u001b[1;33m=\u001b[0m \u001b[0mdfGini\u001b[0m\u001b[1;33m.\u001b[0m\u001b[0mdrop\u001b[0m\u001b[1;33m(\u001b[0m\u001b[1;34m'Description'\u001b[0m\u001b[1;33m,\u001b[0m \u001b[1;36m1\u001b[0m\u001b[1;33m)\u001b[0m\u001b[1;33m\u001b[0m\u001b[0m\n",
      "\u001b[1;32m~\\Anaconda3\\lib\\site-packages\\pandas\\core\\generic.py\u001b[0m in \u001b[0;36mdrop\u001b[1;34m(self, labels, axis, level, inplace, errors)\u001b[0m\n\u001b[0;32m   2159\u001b[0m                 \u001b[0mnew_axis\u001b[0m \u001b[1;33m=\u001b[0m \u001b[0maxis\u001b[0m\u001b[1;33m.\u001b[0m\u001b[0mdrop\u001b[0m\u001b[1;33m(\u001b[0m\u001b[0mlabels\u001b[0m\u001b[1;33m,\u001b[0m \u001b[0mlevel\u001b[0m\u001b[1;33m=\u001b[0m\u001b[0mlevel\u001b[0m\u001b[1;33m,\u001b[0m \u001b[0merrors\u001b[0m\u001b[1;33m=\u001b[0m\u001b[0merrors\u001b[0m\u001b[1;33m)\u001b[0m\u001b[1;33m\u001b[0m\u001b[0m\n\u001b[0;32m   2160\u001b[0m             \u001b[1;32melse\u001b[0m\u001b[1;33m:\u001b[0m\u001b[1;33m\u001b[0m\u001b[0m\n\u001b[1;32m-> 2161\u001b[1;33m                 \u001b[0mnew_axis\u001b[0m \u001b[1;33m=\u001b[0m \u001b[0maxis\u001b[0m\u001b[1;33m.\u001b[0m\u001b[0mdrop\u001b[0m\u001b[1;33m(\u001b[0m\u001b[0mlabels\u001b[0m\u001b[1;33m,\u001b[0m \u001b[0merrors\u001b[0m\u001b[1;33m=\u001b[0m\u001b[0merrors\u001b[0m\u001b[1;33m)\u001b[0m\u001b[1;33m\u001b[0m\u001b[0m\n\u001b[0m\u001b[0;32m   2162\u001b[0m             \u001b[0mdropped\u001b[0m \u001b[1;33m=\u001b[0m \u001b[0mself\u001b[0m\u001b[1;33m.\u001b[0m\u001b[0mreindex\u001b[0m\u001b[1;33m(\u001b[0m\u001b[1;33m**\u001b[0m\u001b[1;33m{\u001b[0m\u001b[0maxis_name\u001b[0m\u001b[1;33m:\u001b[0m \u001b[0mnew_axis\u001b[0m\u001b[1;33m}\u001b[0m\u001b[1;33m)\u001b[0m\u001b[1;33m\u001b[0m\u001b[0m\n\u001b[0;32m   2163\u001b[0m             \u001b[1;32mtry\u001b[0m\u001b[1;33m:\u001b[0m\u001b[1;33m\u001b[0m\u001b[0m\n",
      "\u001b[1;32m~\\Anaconda3\\lib\\site-packages\\pandas\\core\\indexes\\base.py\u001b[0m in \u001b[0;36mdrop\u001b[1;34m(self, labels, errors)\u001b[0m\n\u001b[0;32m   3622\u001b[0m             \u001b[1;32mif\u001b[0m \u001b[0merrors\u001b[0m \u001b[1;33m!=\u001b[0m \u001b[1;34m'ignore'\u001b[0m\u001b[1;33m:\u001b[0m\u001b[1;33m\u001b[0m\u001b[0m\n\u001b[0;32m   3623\u001b[0m                 raise ValueError('labels %s not contained in axis' %\n\u001b[1;32m-> 3624\u001b[1;33m                                  labels[mask])\n\u001b[0m\u001b[0;32m   3625\u001b[0m             \u001b[0mindexer\u001b[0m \u001b[1;33m=\u001b[0m \u001b[0mindexer\u001b[0m\u001b[1;33m[\u001b[0m\u001b[1;33m~\u001b[0m\u001b[0mmask\u001b[0m\u001b[1;33m]\u001b[0m\u001b[1;33m\u001b[0m\u001b[0m\n\u001b[0;32m   3626\u001b[0m         \u001b[1;32mreturn\u001b[0m \u001b[0mself\u001b[0m\u001b[1;33m.\u001b[0m\u001b[0mdelete\u001b[0m\u001b[1;33m(\u001b[0m\u001b[0mindexer\u001b[0m\u001b[1;33m)\u001b[0m\u001b[1;33m\u001b[0m\u001b[0m\n",
      "\u001b[1;31mValueError\u001b[0m: labels ['AvailabilityZone'] not contained in axis"
     ]
    }
   ],
   "source": [
    "# Solo me quedo con el SpotPrice y el Timestamp\n",
    "dfGini = df\n",
    "\n",
    "dfGini = dfGini.drop('AvailabilityZone', 1)\n",
    "dfGini = dfGini.drop('InstanceType', 1)\n",
    "dfGini = dfGini.drop('Description', 1)"
   ]
  },
  {
   "cell_type": "markdown",
   "metadata": {},
   "source": [
    "### Gini para último mes"
   ]
  },
  {
   "cell_type": "markdown",
   "metadata": {},
   "source": [
    "Me quedo con la última semana para test y las 4 anteriores para training"
   ]
  },
  {
   "cell_type": "code",
   "execution_count": 13,
   "metadata": {},
   "outputs": [
    {
     "data": {
      "image/png": "[encoded data removed]",
      "text/plain": [
       "<matplotlib.figure.Figure at 0x254c7a837f0>"
      ]
     },
     "metadata": {},
     "output_type": "display_data"
    },
    {
     "data": {
      "image/png": "[encoded data removed]",
      "text/plain": [
       "<matplotlib.figure.Figure at 0x254c78ae358>"
      ]
     },
     "metadata": {},
     "output_type": "display_data"
    }
   ],
   "source": [
    "Test_GiniMounth = dfGini.head(24*7) # 1 semana para Test\n",
    "Training_GiniMounth = dfGini.iloc[24*7:24*7*4] # 24 horas * 7 días (una semana) * 4 (4 semanas) para Training\n",
    "\n",
    "x1 = Test_GiniMounth['Timestamp']\n",
    "y1 = Test_GiniMounth['SpotPrice']\n",
    "\n",
    "figure()\n",
    "plt.plot(x1, y1, 'r')\n",
    "#plt.axis([0,max(x),0,max(y)])\n",
    "xlabel('Timestamp')\n",
    "ylabel('SpotPrice')\n",
    "title('Test (último mes)')\n",
    "show()\n",
    "\n",
    "x2 = Training_GiniMounth['Timestamp']\n",
    "y2 = Training_GiniMounth['SpotPrice']\n",
    "\n",
    "figure()\n",
    "plt.plot(x2, y2, 'r')\n",
    "#plt.axis([0,max(x),0,max(y)])\n",
    "xlabel('Timestamp')\n",
    "ylabel('SpotPrice')\n",
    "title('Entrenamiento (último mes)')\n",
    "show()"
   ]
  },
  {
   "cell_type": "markdown",
   "metadata": {},
   "source": [
    "### Ejecución algoritmo de Gini para último mes"
   ]
  },
  {
   "cell_type": "code",
   "execution_count": 14,
   "metadata": {},
   "outputs": [
    {
     "name": "stdout",
     "output_type": "stream",
     "text": [
      "El coeficiente de Gini para el último mes es de: 0.0116969519953\n"
     ]
    }
   ],
   "source": [
    "gini_coefficient = (gini(Training_GiniMounth['SpotPrice']))\n",
    "print(\"El coeficiente de Gini para el último mes es de:\",gini_coefficient)"
   ]
  },
  {
   "cell_type": "markdown",
   "metadata": {},
   "source": [
    "### Gini para última semana"
   ]
  },
  {
   "cell_type": "markdown",
   "metadata": {},
   "source": [
    "Me quedo con el último día para test y los 7 días anteriores para training"
   ]
  },
  {
   "cell_type": "code",
   "execution_count": 15,
   "metadata": {},
   "outputs": [
    {
     "data": {
      "image/png": "[encoded data removed]",
      "text/plain": [
       "<matplotlib.figure.Figure at 0x254c4d57128>"
      ]
     },
     "metadata": {},
     "output_type": "display_data"
    },
    {
     "data": {
      "image/png": "[encoded data removed]",
      "text/plain": [
       "<matplotlib.figure.Figure at 0x254c4ed1a58>"
      ]
     },
     "metadata": {},
     "output_type": "display_data"
    }
   ],
   "source": [
    "Test_GiniWeek = dfGini.head(24) # 1 día para Test\n",
    "Training_GiniWeek = dfGini.iloc[24:24*7] # 24 horas * 7 días (última semana) para Training\n",
    "\n",
    "x1 = Test_GiniWeek['Timestamp']\n",
    "y1 = Test_GiniWeek['SpotPrice']\n",
    "\n",
    "figure()\n",
    "plt.plot(x1, y1, 'r')\n",
    "#plt.axis([0,max(x),0,max(y)])\n",
    "xlabel('Timestamp')\n",
    "ylabel('SpotPrice')\n",
    "title('Test (última semana)')\n",
    "show()\n",
    "\n",
    "x2 = Training_GiniWeek['Timestamp']\n",
    "y2 = Training_GiniWeek['SpotPrice']\n",
    "\n",
    "figure()\n",
    "plt.plot(x2, y2, 'r')\n",
    "#plt.axis([0,max(x),0,max(y)])\n",
    "xlabel('Timestamp')\n",
    "ylabel('SpotPrice')\n",
    "title('Entrenamiento (última semana)')\n",
    "show()"
   ]
  },
  {
   "cell_type": "markdown",
   "metadata": {},
   "source": [
    "### Ejecución algoritmo de Gini para última semana"
   ]
  },
  {
   "cell_type": "code",
   "execution_count": 16,
   "metadata": {},
   "outputs": [
    {
     "name": "stdout",
     "output_type": "stream",
     "text": [
      "El coeficiente de Gini para la última semana es de: 0.00649627354674\n"
     ]
    }
   ],
   "source": [
    "gini_coefficient = (gini(Training_GiniWeek['SpotPrice']))\n",
    "print(\"El coeficiente de Gini para la última semana es de:\",gini_coefficient)"
   ]
  },
  {
   "cell_type": "markdown",
   "metadata": {},
   "source": [
    "# 3. Índice de Theil"
   ]
  },
  {
   "cell_type": "markdown",
   "metadata": {
    "collapsed": true
   },
   "source": [
    "El índice de Theil también medirá la desigualdad entre los valores pero en lugar de tener en cuenta un solo grupo de datos, tendremos en cuenta más de uno."
   ]
  },
  {
   "cell_type": "markdown",
   "metadata": {},
   "source": [
    "### Eliminación de variables para Theil"
   ]
  },
  {
   "cell_type": "code",
   "execution_count": 17,
   "metadata": {
    "collapsed": true
   },
   "outputs": [],
   "source": [
    "# Solo me quedo con el SpotPrice y el Timestamp\n",
    "dfTheil = df\n",
    "\n",
    "dfTheil = dfTheil.drop('AvailabilityZone', 1)\n",
    "dfTheil = dfTheil.drop('InstanceType', 1)\n",
    "dfTheil = dfTheil.drop('Description', 1)\n"
   ]
  },
  {
   "cell_type": "markdown",
   "metadata": {},
   "source": [
    "### Particiones"
   ]
  },
  {
   "cell_type": "code",
   "execution_count": 18,
   "metadata": {
    "collapsed": true
   },
   "outputs": [],
   "source": [
    "# Importaremos una librería de Python para hacer expresiones regulares y parsear la fecha del Timestamp para dividir los datos\n",
    "\n",
    "from datetime import datetime, date, time, timedelta\n",
    "import calendar\n",
    "import re\n",
    "\n",
    "patron0 = re.compile('[0-9]+-[0-9]+-[0-9]+T00:00:00.000Z')\n",
    "patron1 = re.compile('[0-9]+-[0-9]+-[0-9]+T01:00:00.000Z')\n",
    "patron2 = re.compile('[0-9]+-[0-9]+-[0-9]+T02:00:00.000Z')\n",
    "patron3 = re.compile('[0-9]+-[0-9]+-[0-9]+T03:00:00.000Z')\n",
    "patron4 = re.compile('[0-9]+-[0-9]+-[0-9]+T04:00:00.000Z')\n",
    "patron5 = re.compile('[0-9]+-[0-9]+-[0-9]+T05:00:00.000Z')\n",
    "patron6 = re.compile('[0-9]+-[0-9]+-[0-9]+T06:00:00.000Z')\n",
    "patron7 = re.compile('[0-9]+-[0-9]+-[0-9]+T07:00:00.000Z')\n",
    "patron8 = re.compile('[0-9]+-[0-9]+-[0-9]+T08:00:00.000Z')\n",
    "patron9 = re.compile('[0-9]+-[0-9]+-[0-9]+T09:00:00.000Z')\n",
    "patron10 = re.compile('[0-9]+-[0-9]+-[0-9]+T10:00:00.000Z')\n",
    "patron11 = re.compile('[0-9]+-[0-9]+-[0-9]+T11:00:00.000Z')\n",
    "patron12 = re.compile('[0-9]+-[0-9]+-[0-9]+T12:00:00.000Z')\n",
    "patron13 = re.compile('[0-9]+-[0-9]+-[0-9]+T13:00:00.000Z')\n",
    "patron14 = re.compile('[0-9]+-[0-9]+-[0-9]+T14:00:00.000Z')\n",
    "patron15 = re.compile('[0-9]+-[0-9]+-[0-9]+T15:00:00.000Z')\n",
    "patron16 = re.compile('[0-9]+-[0-9]+-[0-9]+T16:00:00.000Z')\n",
    "patron17 = re.compile('[0-9]+-[0-9]+-[0-9]+T17:00:00.000Z')\n",
    "patron18 = re.compile('[0-9]+-[0-9]+-[0-9]+T18:00:00.000Z')\n",
    "patron19 = re.compile('[0-9]+-[0-9]+-[0-9]+T19:00:00.000Z')\n",
    "patron20 = re.compile('[0-9]+-[0-9]+-[0-9]+T20:00:00.000Z')\n",
    "patron21 = re.compile('[0-9]+-[0-9]+-[0-9]+T21:00:00.000Z')\n",
    "patron22 = re.compile('[0-9]+-[0-9]+-[0-9]+T22:00:00.000Z')\n",
    "patron23 = re.compile('[0-9]+-[0-9]+-[0-9]+T23:00:00.000Z')\n",
    "\n",
    "listaG = []\n",
    "lista0 = []\n",
    "\n",
    "list_dfTheil = dfTheil.values.tolist()\n",
    "\n",
    "# dfTheil0: PARTICIÓN PARA LAS 00:00\n",
    "for list1 in list_dfTheil:\n",
    "    if(patron0.search(list1[1])):\n",
    "        lista0.append(list1[0])\n",
    "        lista0.append(list1[1])\n",
    "        listaG.append(lista0)\n",
    "        lista0 = []     \n",
    "mycolumns = ['SpotPrice', 'Timestamp']\n",
    "dfTheil0 = pd.DataFrame(columns=mycolumns)\n",
    "rows = listaG\n",
    "for row in rows:\n",
    "    dfTheil0.loc[len(dfTheil0)] = row\n",
    "listaG = []\n",
    "\n",
    "# dfTheil1: PARTICIÓN PARA LAS 01:00\n",
    "for list1 in list_dfTheil:\n",
    "    if(patron1.search(list1[1])):\n",
    "        lista0.append(list1[0])\n",
    "        lista0.append(list1[1])\n",
    "        listaG.append(lista0)\n",
    "        lista0 = []     \n",
    "mycolumns = ['SpotPrice', 'Timestamp']\n",
    "dfTheil1 = pd.DataFrame(columns=mycolumns)\n",
    "rows = listaG\n",
    "for row in rows:\n",
    "    dfTheil1.loc[len(dfTheil1)] = row\n",
    "listaG = []\n",
    "\n",
    "# dfTheil2: PARTICIÓN PARA LAS 02:00\n",
    "for list1 in list_dfTheil:\n",
    "    if(patron2.search(list1[1])):\n",
    "        lista0.append(list1[0])\n",
    "        lista0.append(list1[1])\n",
    "        listaG.append(lista0)\n",
    "        lista0 = []     \n",
    "mycolumns = ['SpotPrice', 'Timestamp']\n",
    "dfTheil2 = pd.DataFrame(columns=mycolumns)\n",
    "rows = listaG\n",
    "for row in rows:\n",
    "    dfTheil2.loc[len(dfTheil2)] = row\n",
    "listaG = []  \n",
    "\n",
    "# dfTheil3: PARTICIÓN PARA LAS 03:00\n",
    "for list1 in list_dfTheil:\n",
    "    if(patron3.search(list1[1])):\n",
    "        lista0.append(list1[0])\n",
    "        lista0.append(list1[1])\n",
    "        listaG.append(lista0)\n",
    "        lista0 = []     \n",
    "mycolumns = ['SpotPrice', 'Timestamp']\n",
    "dfTheil3 = pd.DataFrame(columns=mycolumns)\n",
    "rows = listaG\n",
    "for row in rows:\n",
    "    dfTheil3.loc[len(dfTheil3)] = row\n",
    "listaG = []   \n",
    "\n",
    "# dfTheil4 PARTICIÓN PARA LAS 04:00\n",
    "for list1 in list_dfTheil:\n",
    "    if(patron4.search(list1[1])):\n",
    "        lista0.append(list1[0])\n",
    "        lista0.append(list1[1])\n",
    "        listaG.append(lista0)\n",
    "        lista0 = []     \n",
    "mycolumns = ['SpotPrice', 'Timestamp']\n",
    "dfTheil4 = pd.DataFrame(columns=mycolumns)\n",
    "rows = listaG\n",
    "for row in rows:\n",
    "    dfTheil4.loc[len(dfTheil4)] = row\n",
    "listaG = [] \n",
    "\n",
    "# dfTheil5: PARTICIÓN PARA LAS 05:00\n",
    "for list1 in list_dfTheil:\n",
    "    if(patron5.search(list1[1])):\n",
    "        lista0.append(list1[0])\n",
    "        lista0.append(list1[1])\n",
    "        listaG.append(lista0)\n",
    "        lista0 = []     \n",
    "mycolumns = ['SpotPrice', 'Timestamp']\n",
    "dfTheil5 = pd.DataFrame(columns=mycolumns)\n",
    "rows = listaG\n",
    "for row in rows:\n",
    "    dfTheil5.loc[len(dfTheil5)] = row\n",
    "listaG = [] \n",
    "\n",
    "# dfTheil6: PARTICIÓN PARA LAS 06:00\n",
    "for list1 in list_dfTheil:\n",
    "    if(patron6.search(list1[1])):\n",
    "        lista0.append(list1[0])\n",
    "        lista0.append(list1[1])\n",
    "        listaG.append(lista0)\n",
    "        lista0 = []     \n",
    "mycolumns = ['SpotPrice', 'Timestamp']\n",
    "dfTheil6 = pd.DataFrame(columns=mycolumns)\n",
    "rows = listaG\n",
    "for row in rows:\n",
    "    dfTheil6.loc[len(dfTheil6)] = row\n",
    "listaG = [] \n",
    "\n",
    "# dfTheil7: PARTICIÓN PARA LAS 07:00\n",
    "for list1 in list_dfTheil:\n",
    "    if(patron7.search(list1[1])):\n",
    "        lista0.append(list1[0])\n",
    "        lista0.append(list1[1])\n",
    "        listaG.append(lista0)\n",
    "        lista0 = []     \n",
    "mycolumns = ['SpotPrice', 'Timestamp']\n",
    "dfTheil7 = pd.DataFrame(columns=mycolumns)\n",
    "rows = listaG\n",
    "for row in rows:\n",
    "    dfTheil7.loc[len(dfTheil7)] = row\n",
    "listaG = [] \n",
    "\n",
    "# dfTheil8: PARTICIÓN PARA LAS 08:00\n",
    "for list1 in list_dfTheil:\n",
    "    if(patron8.search(list1[1])):\n",
    "        lista0.append(list1[0])\n",
    "        lista0.append(list1[1])\n",
    "        listaG.append(lista0)\n",
    "        lista0 = []     \n",
    "mycolumns = ['SpotPrice', 'Timestamp']\n",
    "dfTheil8 = pd.DataFrame(columns=mycolumns)\n",
    "rows = listaG\n",
    "for row in rows:\n",
    "    dfTheil8.loc[len(dfTheil8)] = row\n",
    "listaG = [] \n",
    "\n",
    "# dfTheil9: PARTICIÓN PARA LAS 09:00\n",
    "for list1 in list_dfTheil:\n",
    "    if(patron9.search(list1[1])):\n",
    "        lista0.append(list1[0])\n",
    "        lista0.append(list1[1])\n",
    "        listaG.append(lista0)\n",
    "        lista0 = []     \n",
    "mycolumns = ['SpotPrice', 'Timestamp']\n",
    "dfTheil9 = pd.DataFrame(columns=mycolumns)\n",
    "rows = listaG\n",
    "for row in rows:\n",
    "    dfTheil9.loc[len(dfTheil9)] = row\n",
    "listaG = [] \n",
    "\n",
    "# dfTheil10: PARTICIÓN PARA LAS 10:00\n",
    "for list1 in list_dfTheil:\n",
    "    if(patron10.search(list1[1])):\n",
    "        lista0.append(list1[0])\n",
    "        lista0.append(list1[1])\n",
    "        listaG.append(lista0)\n",
    "        lista0 = []     \n",
    "mycolumns = ['SpotPrice', 'Timestamp']\n",
    "dfTheil10 = pd.DataFrame(columns=mycolumns)\n",
    "rows = listaG\n",
    "for row in rows:\n",
    "    dfTheil10.loc[len(dfTheil10)] = row\n",
    "listaG = [] \n",
    "\n",
    "# dfTheil11: PARTICIÓN PARA LAS 11:00\n",
    "for list1 in list_dfTheil:\n",
    "    if(patron11.search(list1[1])):\n",
    "        lista0.append(list1[0])\n",
    "        lista0.append(list1[1])\n",
    "        listaG.append(lista0)\n",
    "        lista0 = []     \n",
    "mycolumns = ['SpotPrice', 'Timestamp']\n",
    "dfTheil11 = pd.DataFrame(columns=mycolumns)\n",
    "rows = listaG\n",
    "for row in rows:\n",
    "    dfTheil11.loc[len(dfTheil11)] = row\n",
    "listaG = [] \n",
    "\n",
    "# dfTheil12: PARTICIÓN PARA LAS 12:00\n",
    "for list1 in list_dfTheil:\n",
    "    if(patron12.search(list1[1])):\n",
    "        lista0.append(list1[0])\n",
    "        lista0.append(list1[1])\n",
    "        listaG.append(lista0)\n",
    "        lista0 = []     \n",
    "mycolumns = ['SpotPrice', 'Timestamp']\n",
    "dfTheil12 = pd.DataFrame(columns=mycolumns)\n",
    "rows = listaG\n",
    "for row in rows:\n",
    "    dfTheil12.loc[len(dfTheil12)] = row\n",
    "listaG = [] \n",
    "\n",
    "# dfTheil13: PARTICIÓN PARA LAS 13:00\n",
    "for list1 in list_dfTheil:\n",
    "    if(patron13.search(list1[1])):\n",
    "        lista0.append(list1[0])\n",
    "        lista0.append(list1[1])\n",
    "        listaG.append(lista0)\n",
    "        lista0 = []     \n",
    "mycolumns = ['SpotPrice', 'Timestamp']\n",
    "dfTheil13 = pd.DataFrame(columns=mycolumns)\n",
    "rows = listaG\n",
    "for row in rows:\n",
    "    dfTheil13.loc[len(dfTheil13)] = row\n",
    "listaG = [] \n",
    "\n",
    "# dfTheil14: PARTICIÓN PARA LAS 14:00\n",
    "for list1 in list_dfTheil:\n",
    "    if(patron14.search(list1[1])):\n",
    "        lista0.append(list1[0])\n",
    "        lista0.append(list1[1])\n",
    "        listaG.append(lista0)\n",
    "        lista0 = []     \n",
    "mycolumns = ['SpotPrice', 'Timestamp']\n",
    "dfTheil14 = pd.DataFrame(columns=mycolumns)\n",
    "rows = listaG\n",
    "for row in rows:\n",
    "    dfTheil14.loc[len(dfTheil14)] = row\n",
    "listaG = [] \n",
    "\n",
    "# dfTheil15: PARTICIÓN PARA LAS 15:00\n",
    "for list1 in list_dfTheil:\n",
    "    if(patron15.search(list1[1])):\n",
    "        lista0.append(list1[0])\n",
    "        lista0.append(list1[1])\n",
    "        listaG.append(lista0)\n",
    "        lista0 = []     \n",
    "mycolumns = ['SpotPrice', 'Timestamp']\n",
    "dfTheil15 = pd.DataFrame(columns=mycolumns)\n",
    "rows = listaG\n",
    "for row in rows:\n",
    "    dfTheil15.loc[len(dfTheil15)] = row\n",
    "listaG = [] \n",
    "\n",
    "# dfTheil16: PARTICIÓN PARA LAS 16:00\n",
    "for list1 in list_dfTheil:\n",
    "    if(patron16.search(list1[1])):\n",
    "        lista0.append(list1[0])\n",
    "        lista0.append(list1[1])\n",
    "        listaG.append(lista0)\n",
    "        lista0 = []     \n",
    "mycolumns = ['SpotPrice', 'Timestamp']\n",
    "dfTheil16 = pd.DataFrame(columns=mycolumns)\n",
    "rows = listaG\n",
    "for row in rows:\n",
    "    dfTheil16.loc[len(dfTheil16)] = row\n",
    "listaG = [] \n",
    "\n",
    "# dfTheil17: PARTICIÓN PARA LAS 17:00\n",
    "for list1 in list_dfTheil:\n",
    "    if(patron17.search(list1[1])):\n",
    "        lista0.append(list1[0])\n",
    "        lista0.append(list1[1])\n",
    "        listaG.append(lista0)\n",
    "        lista0 = []     \n",
    "mycolumns = ['SpotPrice', 'Timestamp']\n",
    "dfTheil17 = pd.DataFrame(columns=mycolumns)\n",
    "rows = listaG\n",
    "for row in rows:\n",
    "    dfTheil17.loc[len(dfTheil17)] = row\n",
    "listaG = [] \n",
    "\n",
    "# dfTheil18: PARTICIÓN PARA LAS 18:00\n",
    "for list1 in list_dfTheil:\n",
    "    if(patron18.search(list1[1])):\n",
    "        lista0.append(list1[0])\n",
    "        lista0.append(list1[1])\n",
    "        listaG.append(lista0)\n",
    "        lista0 = []     \n",
    "mycolumns = ['SpotPrice', 'Timestamp']\n",
    "dfTheil18 = pd.DataFrame(columns=mycolumns)\n",
    "rows = listaG\n",
    "for row in rows:\n",
    "    dfTheil18.loc[len(dfTheil18)] = row\n",
    "listaG = [] \n",
    "\n",
    "# dfTheil19: PARTICIÓN PARA LAS 19:00\n",
    "for list1 in list_dfTheil:\n",
    "    if(patron19.search(list1[1])):\n",
    "        lista0.append(list1[0])\n",
    "        lista0.append(list1[1])\n",
    "        listaG.append(lista0)\n",
    "        lista0 = []     \n",
    "mycolumns = ['SpotPrice', 'Timestamp']\n",
    "dfTheil19 = pd.DataFrame(columns=mycolumns)\n",
    "rows = listaG\n",
    "for row in rows:\n",
    "    dfTheil19.loc[len(dfTheil19)] = row\n",
    "listaG = [] \n",
    "\n",
    "# dfTheil20: PARTICIÓN PARA LAS 20:00\n",
    "for list1 in list_dfTheil:\n",
    "    if(patron20.search(list1[1])):\n",
    "        lista0.append(list1[0])\n",
    "        lista0.append(list1[1])\n",
    "        listaG.append(lista0)\n",
    "        lista0 = []     \n",
    "mycolumns = ['SpotPrice', 'Timestamp']\n",
    "dfTheil20 = pd.DataFrame(columns=mycolumns)\n",
    "rows = listaG\n",
    "for row in rows:\n",
    "    dfTheil20.loc[len(dfTheil20)] = row\n",
    "listaG = [] \n",
    "\n",
    "# dfTheil21: PARTICIÓN PARA LAS 21:00\n",
    "for list1 in list_dfTheil:\n",
    "    if(patron21.search(list1[1])):\n",
    "        lista0.append(list1[0])\n",
    "        lista0.append(list1[1])\n",
    "        listaG.append(lista0)\n",
    "        lista0 = []     \n",
    "mycolumns = ['SpotPrice', 'Timestamp']\n",
    "dfTheil21 = pd.DataFrame(columns=mycolumns)\n",
    "rows = listaG\n",
    "for row in rows:\n",
    "    dfTheil21.loc[len(dfTheil21)] = row\n",
    "listaG = [] \n",
    "\n",
    "# dfTheil22: PARTICIÓN PARA LAS 22:00\n",
    "for list1 in list_dfTheil:\n",
    "    if(patron22.search(list1[1])):\n",
    "        lista0.append(list1[0])\n",
    "        lista0.append(list1[1])\n",
    "        listaG.append(lista0)\n",
    "        lista0 = []     \n",
    "mycolumns = ['SpotPrice', 'Timestamp']\n",
    "dfTheil22 = pd.DataFrame(columns=mycolumns)\n",
    "rows = listaG\n",
    "for row in rows:\n",
    "    dfTheil22.loc[len(dfTheil22)] = row\n",
    "listaG = [] \n",
    "\n",
    "# dfTheil23: PARTICIÓN PARA LAS 23:00\n",
    "for list1 in list_dfTheil:\n",
    "    if(patron23.search(list1[1])):\n",
    "        lista0.append(list1[0])\n",
    "        lista0.append(list1[1])\n",
    "        listaG.append(lista0)\n",
    "        lista0 = []     \n",
    "mycolumns = ['SpotPrice', 'Timestamp']\n",
    "dfTheil23 = pd.DataFrame(columns=mycolumns)\n",
    "rows = listaG\n",
    "for row in rows:\n",
    "    dfTheil23.loc[len(dfTheil23)] = row\n",
    "listaG = [] \n",
    "\n"
   ]
  },
  {
   "cell_type": "code",
   "execution_count": 19,
   "metadata": {},
   "outputs": [
    {
     "name": "stdout",
     "output_type": "stream",
     "text": [
      "El valor de Ib es de: 2.11979930176e-08\n",
      "El valor de Iw es de: 0.00191014178597\n",
      "El valor de I es de: 0.00191016298396\n",
      "El valor de Rb es de: 1.10974786946e-05\n"
     ]
    }
   ],
   "source": [
    "# Algoritmo Índice de Theil\n",
    "\n",
    "list_dfTheil0 = dfTheil0.values.tolist()\n",
    "list_dfTheil1 = dfTheil1.values.tolist()\n",
    "list_dfTheil2 = dfTheil2.values.tolist()\n",
    "list_dfTheil3 = dfTheil3.values.tolist()\n",
    "list_dfTheil4 = dfTheil4.values.tolist()\n",
    "list_dfTheil5 = dfTheil5.values.tolist()\n",
    "list_dfTheil6 = dfTheil6.values.tolist()\n",
    "list_dfTheil7 = dfTheil7.values.tolist()\n",
    "list_dfTheil8 = dfTheil8.values.tolist()\n",
    "list_dfTheil9 = dfTheil9.values.tolist()\n",
    "list_dfTheil10 = dfTheil10.values.tolist()\n",
    "list_dfTheil11 = dfTheil11.values.tolist()\n",
    "list_dfTheil12 = dfTheil12.values.tolist()\n",
    "list_dfTheil13 = dfTheil13.values.tolist()\n",
    "list_dfTheil14 = dfTheil14.values.tolist()\n",
    "list_dfTheil15 = dfTheil15.values.tolist()\n",
    "list_dfTheil16 = dfTheil16.values.tolist()\n",
    "list_dfTheil17 = dfTheil17.values.tolist()\n",
    "list_dfTheil18 = dfTheil18.values.tolist()\n",
    "list_dfTheil19 = dfTheil19.values.tolist()\n",
    "list_dfTheil20 = dfTheil20.values.tolist()\n",
    "list_dfTheil21 = dfTheil21.values.tolist()\n",
    "list_dfTheil22 = dfTheil22.values.tolist()\n",
    "list_dfTheil23 = dfTheil23.values.tolist()\n",
    "list_dfTheil = dfTheil.values.tolist() # Lista con los elementos del dataframe completo\n",
    "\n",
    "X = float(sum(dfTheil['SpotPrice'])) # Conjunto X\n",
    "n = float(len(dfTheil)) # n valores totales de todo el conjunto\n",
    "\n",
    "Partition = [] # Particionamiento\n",
    "Partition.append(list_dfTheil0)\n",
    "Partition.append(list_dfTheil1)\n",
    "Partition.append(list_dfTheil2)\n",
    "Partition.append(list_dfTheil3)\n",
    "Partition.append(list_dfTheil4)\n",
    "Partition.append(list_dfTheil5)\n",
    "Partition.append(list_dfTheil6)\n",
    "Partition.append(list_dfTheil7)\n",
    "Partition.append(list_dfTheil8)\n",
    "Partition.append(list_dfTheil9)\n",
    "Partition.append(list_dfTheil10)\n",
    "Partition.append(list_dfTheil11)\n",
    "Partition.append(list_dfTheil12)\n",
    "Partition.append(list_dfTheil13)\n",
    "Partition.append(list_dfTheil14)\n",
    "Partition.append(list_dfTheil15)\n",
    "Partition.append(list_dfTheil16)\n",
    "Partition.append(list_dfTheil17)\n",
    "Partition.append(list_dfTheil18)\n",
    "Partition.append(list_dfTheil19)\n",
    "Partition.append(list_dfTheil20)\n",
    "Partition.append(list_dfTheil21)\n",
    "Partition.append(list_dfTheil22)\n",
    "Partition.append(list_dfTheil23)\n",
    "\n",
    "Xg = 0.0\n",
    "lenXg = 0.0\n",
    "Ib = 0.0\n",
    "\n",
    "# Calculamos Ib\n",
    "for grupo in range(0,len(Partition)):\n",
    "    for i in Partition[grupo]:\n",
    "        lenXg += 1.0\n",
    "        Xg += float(i[0])\n",
    "    Ib += ((Xg/X) * log((Xg/X)/(lenXg/n)))\n",
    "    Xg = 0.0\n",
    "    lenXg = 0.0\n",
    "print(\"El valor de Ib es de:\",Ib)\n",
    "\n",
    "# Calculamos Iw\n",
    "Iw2 = 0.0\n",
    "Iw = 0.0\n",
    "for grupo in range(0,len(Partition)):\n",
    "    for i in Partition[grupo]:\n",
    "        lenXg += 1.0\n",
    "        Xg += float(i[0])\n",
    "    for i in Partition[grupo]:\n",
    "        xgi = i[0]\n",
    "        Iw2 += (xgi/Xg * log((xgi/Xg)/(1/lenXg)))\n",
    "    Iw += (Xg/X)*Iw2\n",
    "    Iw2 = 0.0\n",
    "print(\"El valor de Iw es de:\",Iw)\n",
    "\n",
    "# Calculamos I\n",
    "I = Ib + Iw\n",
    "print(\"El valor de I es de:\",I)\n",
    "\n",
    "# Calculamos Rb\n",
    "Rb = Ib/I\n",
    "print(\"El valor de Rb es de:\",Rb)\n"
   ]
  },
  {
   "cell_type": "markdown",
   "metadata": {},
   "source": [
    "# 4. Promedio Móvil Ponderado Exponencial (Weighted Average)"
   ]
  },
  {
   "cell_type": "markdown",
   "metadata": {},
   "source": [
    "Para llevar a cabo el promedio móvil ponderado (Weighted Average) consideraremos al igual que con Gini una ejecución para la última semana y otra para el último mes aproximadamente"
   ]
  },
  {
   "cell_type": "markdown",
   "metadata": {},
   "source": [
    "### Eliminación de variables para Weighted Average"
   ]
  },
  {
   "cell_type": "code",
   "execution_count": 20,
   "metadata": {
    "collapsed": true
   },
   "outputs": [],
   "source": [
    "# Solo me quedo con el SpotPrice y con el Timestamp\n",
    "dfProm = df\n",
    "\n",
    "dfProm = dfProm.drop('AvailabilityZone', 1)\n",
    "dfProm = dfProm.drop('InstanceType', 1)\n",
    "dfProm = dfProm.drop('Description', 1)\n",
    "dfProm = dfProm.drop('Timestamp', 1)"
   ]
  },
  {
   "cell_type": "markdown",
   "metadata": {},
   "source": [
    "### Ejecución algoritmo Promedio Móvil Ponderado para último mes"
   ]
  },
  {
   "cell_type": "markdown",
   "metadata": {},
   "source": [
    "### Algoritmo Promedio Móvil Ponderado Exponencial (Weighted Average)"
   ]
  },
  {
   "cell_type": "code",
   "execution_count": 21,
   "metadata": {
    "collapsed": true
   },
   "outputs": [],
   "source": [
    "def weighted_average(series, weights):\n",
    "    result = 0.0\n",
    "    weights.reverse()\n",
    "    k = 0\n",
    "    lista1 = []\n",
    "    lista2 = []\n",
    "    lista3 = []\n",
    "    \n",
    "    for m in range(len(weights)):\n",
    "        lista1 = (series.iloc[k:k+int(len(series)/len(weights))])\n",
    "        lista2.append(lista1)\n",
    "        k = k + int(len(series)/len(weights))\n",
    "        \n",
    "    for n in range(len(lista2)):\n",
    "        suma = 0\n",
    "        mean = 0\n",
    "        for l,i in enumerate(lista2[n]):\n",
    "            suma += i\n",
    "        mean = suma / len(lista2[n])\n",
    "        lista3.append(mean)\n",
    "        \n",
    "    for n in range(len(weights)):\n",
    "        result += lista3[n] * weights[n]\n",
    "    return result\n"
   ]
  },
  {
   "cell_type": "markdown",
   "metadata": {},
   "source": [
    "### Ejecución algoritmo Weighted Average para último mes"
   ]
  },
  {
   "cell_type": "code",
   "execution_count": 22,
   "metadata": {},
   "outputs": [
    {
     "name": "stdout",
     "output_type": "stream",
     "text": [
      "El algoritmo ponderado exponencial para el último mes es de 0.238174880952\n"
     ]
    }
   ],
   "source": [
    "# Añadimos la lista de forma incremental\n",
    "weights = [0.1, 0.2, 0.3, 0.4] # lista de pesos, uno por semana\n",
    "\n",
    "Test_PromMonth = dfProm.head(24*7) # 1 semana para Test\n",
    "Training_PromMonth = dfProm.iloc[24*7:24*35] # 4 semanas para Training\n",
    "\n",
    "wa = weighted_average(Training_PromMonth['SpotPrice'],weights)\n",
    "print(\"El algoritmo ponderado exponencial para el último mes es de\",wa)"
   ]
  },
  {
   "cell_type": "markdown",
   "metadata": {},
   "source": [
    "### Ejecución algoritmo Weighted Average para última semana"
   ]
  },
  {
   "cell_type": "code",
   "execution_count": 23,
   "metadata": {},
   "outputs": [
    {
     "name": "stdout",
     "output_type": "stream",
     "text": [
      "El algoritmo ponderado exponencial para la última semana es de 0.224737\n"
     ]
    }
   ],
   "source": [
    "# Añadimos la lista de forma incremental\n",
    "weights = [0.01, 0.03, 0.06, 0.15, 0.20, 0.25, 0.30] # lista de pesos, uno por día de la semana\n",
    "\n",
    "Test_PromWeek = dfProm.head(24) # 1 día para Test\n",
    "Training_PromWeek = dfProm.iloc[24*2:24*8] # 7 días para Training\n",
    "\n",
    "wa = weighted_average(Training_PromWeek['SpotPrice'],weights)\n",
    "print(\"El algoritmo ponderado exponencial para la última semana es de\",wa)"
   ]
  }
 ],
 "metadata": {
  "kernelspec": {
   "display_name": "Python 3",
   "language": "python",
   "name": "python3"
  },
  "language_info": {
   "codemirror_mode": {
    "name": "ipython",
    "version": 3
   },
   "file_extension": ".py",
   "mimetype": "text/x-python",
   "name": "python",
   "nbconvert_exporter": "python",
   "pygments_lexer": "ipython3",
   "version": "3.6.3"
  }
 },
 "nbformat": 4,
 "nbformat_minor": 1
}
