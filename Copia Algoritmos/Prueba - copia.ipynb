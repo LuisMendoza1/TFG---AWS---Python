{
 "cells": [
  {
   "cell_type": "markdown",
   "metadata": {},
   "source": [
    "# Trabajo Fin de Grado. Predicción de precios de instancias “spot” en la nube de Amazon\n"
   ]
  },
  {
   "cell_type": "markdown",
   "metadata": {},
   "source": [
    "## Prueba con todos los datos"
   ]
  },
  {
   "cell_type": "code",
   "execution_count": 1,
   "metadata": {
    "collapsed": true
   },
   "outputs": [],
   "source": [
    "import datetime\n",
    "import sqlite3\n",
    "import csv\n",
    "import sys\n",
    "import random\n",
    "import datetime, time\n",
    "import pandas as pd\n",
    "import matplotlib.pyplot as plt\n",
    "from glob import glob; from os.path import expanduser"
   ]
  },
  {
   "cell_type": "code",
   "execution_count": null,
   "metadata": {
    "collapsed": true
   },
   "outputs": [],
   "source": [
    "# Conectar con la base de datos\n",
    "with sqlite3.connect(\"BBDD.db\") as connection:\n",
    "    # Abrimos el csv a insertar los datos\n",
    "    csvWriter = csv.writer(open(\"datos.csv\", \"w\"))\n",
    "    # Creamos el cursor\n",
    "    c = connection.cursor()\n",
    "    # Hacemos la consulta\n",
    "    data = c.execute(\"SELECT C4_ap_south_1.SpotPrice,C4_ap_northeast_1.SpotPrice FROM C4_ap_northeast_2 WHERE C4_ap_south_1.Description = 'Windows' AND C4_ap_northeast_1.Description = 'Windows'\") # Ordenamos los datos desde el más reciente al menos\n",
    "    # Insertamos los datos en el dataset\n",
    "    rows = data.fetchall()\n",
    "    csvWriter.writerows(rows)\n",
    "\n",
    "# Cerrar la conexión siempre\n",
    "connection.close()"
   ]
  },
  {
   "cell_type": "code",
   "execution_count": 6,
   "metadata": {},
   "outputs": [
    {
     "name": "stderr",
     "output_type": "stream",
     "text": [
      "C:\\Users\\Luis\\Anaconda3\\lib\\site-packages\\IPython\\core\\interactiveshell.py:2698: DtypeWarning: Columns (1) have mixed types. Specify dtype option on import or set low_memory=False.\n",
      "  interactivity=interactivity, compiler=compiler, result=result)\n"
     ]
    },
    {
     "data": {
      "text/html": [
       "<div>\n",
       "<style>\n",
       "    .dataframe thead tr:only-child th {\n",
       "        text-align: right;\n",
       "    }\n",
       "\n",
       "    .dataframe thead th {\n",
       "        text-align: left;\n",
       "    }\n",
       "\n",
       "    .dataframe tbody tr th {\n",
       "        vertical-align: top;\n",
       "    }\n",
       "</style>\n",
       "<table border=\"1\" class=\"dataframe\">\n",
       "  <thead>\n",
       "    <tr style=\"text-align: right;\">\n",
       "      <th></th>\n",
       "      <th>0.4712</th>\n",
       "      <th>SpotPrice</th>\n",
       "    </tr>\n",
       "  </thead>\n",
       "  <tbody>\n",
       "    <tr>\n",
       "      <th>0</th>\n",
       "      <td>0.4712</td>\n",
       "      <td>SpotPrice</td>\n",
       "    </tr>\n",
       "    <tr>\n",
       "      <th>1</th>\n",
       "      <td>0.4712</td>\n",
       "      <td>SpotPrice</td>\n",
       "    </tr>\n",
       "    <tr>\n",
       "      <th>2</th>\n",
       "      <td>0.4712</td>\n",
       "      <td>SpotPrice</td>\n",
       "    </tr>\n",
       "    <tr>\n",
       "      <th>3</th>\n",
       "      <td>0.4712</td>\n",
       "      <td>SpotPrice</td>\n",
       "    </tr>\n",
       "    <tr>\n",
       "      <th>4</th>\n",
       "      <td>0.4712</td>\n",
       "      <td>SpotPrice</td>\n",
       "    </tr>\n",
       "  </tbody>\n",
       "</table>\n",
       "</div>"
      ],
      "text/plain": [
       "   0.4712  SpotPrice\n",
       "0  0.4712  SpotPrice\n",
       "1  0.4712  SpotPrice\n",
       "2  0.4712  SpotPrice\n",
       "3  0.4712  SpotPrice\n",
       "4  0.4712  SpotPrice"
      ]
     },
     "execution_count": 6,
     "metadata": {},
     "output_type": "execute_result"
    }
   ],
   "source": [
    "df = pd.read_csv(\"datos.csv\")\n",
    "df.head(5)"
   ]
  },
  {
   "cell_type": "code",
   "execution_count": 50,
   "metadata": {
    "collapsed": true
   },
   "outputs": [],
   "source": [
    "import statistics as stats\n",
    "import math\n",
    "\n",
    "def gini(list_of_values):\n",
    "    mean = (stats.mean(list_of_values)) # Calculamos la media de todos los valores de los precios\n",
    "    nvalues = len(list_of_values) # En nvalues tenemos el número de valores totales\n",
    "    sumvalues = 0\n",
    "    for value1 in list_of_values: # Para cada uno de los valores\n",
    "        for value2 in list_of_values: \n",
    "            sumvalues += math.fabs(value1 - value2) # Sumamos la diferencia de cada par\n",
    "    result = sumvalues/((2*(nvalues**2))*mean) # Como resultado final dividimos la suma entre 2 por el número de valores al cuadrado por la media\n",
    "    return result"
   ]
  },
  {
   "cell_type": "code",
   "execution_count": 141,
   "metadata": {},
   "outputs": [
    {
     "name": "stdout",
     "output_type": "stream",
     "text": [
      "El coeficiente de Gini para el último mes es de: 0.291159840893\n"
     ]
    }
   ],
   "source": [
    "gini_coefficient = (gini(df['0.1285']))\n",
    "print(\"El coeficiente de Gini para el último mes es de:\",gini_coefficient)"
   ]
  }
 ],
 "metadata": {
  "kernelspec": {
   "display_name": "Python 3",
   "language": "python",
   "name": "python3"
  },
  "language_info": {
   "codemirror_mode": {
    "name": "ipython",
    "version": 3
   },
   "file_extension": ".py",
   "mimetype": "text/x-python",
   "name": "python",
   "nbconvert_exporter": "python",
   "pygments_lexer": "ipython3",
   "version": "3.6.3"
  }
 },
 "nbformat": 4,
 "nbformat_minor": 1
}
