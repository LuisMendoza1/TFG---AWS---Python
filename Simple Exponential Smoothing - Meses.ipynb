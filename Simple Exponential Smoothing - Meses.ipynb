{
 "cells": [
  {
   "cell_type": "markdown",
   "metadata": {},
   "source": [
    "# Simple Exponential Smoothing - Meses\n"
   ]
  },
  {
   "cell_type": "markdown",
   "metadata": {},
   "source": [
    "## Realizado por: Luis Mendoza Montero"
   ]
  },
  {
   "cell_type": "markdown",
   "metadata": {},
   "source": [
    "1. **Cargar paquetes**\n",
    "2. **Selección de Parámetros**\n",
    "3. **Preprocesado de datos para los Meses**\n",
    "4. **Simple Exponential Smoothing - Entrenamiento para Meses**\n",
    "    - 4.1 ***Conjunto de Entrenamiento***\n",
    "    - 4.2 ***Error Cuadrático Medio (MSE) para Entrenamiento***\n",
    "    ---    \n",
    "5. **Simple Exponential Smoothing - Evaluación del modelo**\n",
    "    - 5.1 ***Conjunto de Test***\n",
    "    - 5.2 ***Pronóstico***\n",
    "    - 5.3 ***Error Cuadrático Medio (MSE) para Test***\n",
    "\n"
   ]
  },
  {
   "cell_type": "markdown",
   "metadata": {},
   "source": [
    "# 1. Cargar paquetes"
   ]
  },
  {
   "cell_type": "code",
   "execution_count": 1,
   "metadata": {
    "collapsed": true
   },
   "outputs": [],
   "source": [
    "import sqlite3\n",
    "import csv\n",
    "import sys\n",
    "import numpy as np\n",
    "import random\n",
    "import pandas as pd\n",
    "from glob import glob; from os.path import expanduser\n",
    "from datetime import datetime, date, time, timedelta\n",
    "from dateutil.relativedelta import relativedelta\n",
    "import calendar\n",
    "%matplotlib inline\n",
    "from pylab import *\n",
    "import matplotlib.pyplot as plt\n",
    "from sklearn.metrics import mean_squared_error\n",
    "from sklearn.metrics import mean_absolute_error"
   ]
  },
  {
   "cell_type": "markdown",
   "metadata": {},
   "source": [
    "--------------------------------------------------------------------------------------------------------------------------------"
   ]
  },
  {
   "cell_type": "markdown",
   "metadata": {},
   "source": [
    "# 2. Selección de Parámetros"
   ]
  },
  {
   "cell_type": "markdown",
   "metadata": {},
   "source": [
    "### Seleccionar region y categoría (tabla de la BBDD)"
   ]
  },
  {
   "cell_type": "code",
   "execution_count": 2,
   "metadata": {
    "collapsed": true
   },
   "outputs": [],
   "source": [
    "region = \"'I3_ap_northeast_1'\""
   ]
  },
  {
   "cell_type": "markdown",
   "metadata": {},
   "source": [
    "### Seleccionar tipo de Sistema Operativo"
   ]
  },
  {
   "cell_type": "markdown",
   "metadata": {},
   "source": [
    "Existes 3 tipos de sistemas: ***Windows, Linux/UNIX o SUSE Linux***"
   ]
  },
  {
   "cell_type": "code",
   "execution_count": 3,
   "metadata": {
    "collapsed": true
   },
   "outputs": [],
   "source": [
    "sistema = \"SUSE Linux\""
   ]
  },
  {
   "cell_type": "markdown",
   "metadata": {},
   "source": [
    "Sacamos las zonas de disponibilidad, los sistemas operativos y las fechas de las instancias"
   ]
  },
  {
   "cell_type": "code",
   "execution_count": 4,
   "metadata": {
    "collapsed": true
   },
   "outputs": [],
   "source": [
    "# Conectar con la base de datos\n",
    "with sqlite3.connect(\"BBDD.db\") as connection:\n",
    "    \n",
    "    # Sacamos el tipo de istancia (nombre + familia)\n",
    "    instances = pd.read_sql(\"SELECT DISTINCT InstanceType FROM \"+region+\";\", connection) \n",
    "    instances_list = instances.values.tolist()\n",
    "    del instances_list[0]\n",
    "    \n",
    "    for inst in instances_list:\n",
    "        instance=inst[0] # En la variable instance tenemos el tipo de instancia\n",
    "    \n",
    "    # Sacamos las zonas de disponibilidad\n",
    "    zones = pd.read_sql(\"SELECT DISTINCT AvailabilityZone FROM \"+region+\";\", connection) \n",
    "    zones_list = zones.values.tolist()\n",
    "    del zones_list[0]\n",
    "    \n",
    "    listaRegiones = []\n",
    "    for zone in zones_list:\n",
    "        for zo in zone:\n",
    "            listaRegiones.append(zo) # Lista de zonas en la región\n",
    "    \n",
    "    # Para cada zona y SO indicado sacamos el dia, el mes y el año\n",
    "    for zona in listaRegiones: \n",
    "        #for sistema in listaSistemas:\n",
    "        dates = pd.read_sql(\"SELECT DISTINCT SUBSTR(Timestamp, 1, 10) FROM \"+region+\"WHERE AvailabilityZone = '\"+zona+\"'AND Description = '\"+sistema+\"';\", connection)\n",
    "        dates_list = dates.values.tolist()\n",
    "    \n",
    "    listaFechas = []\n",
    "    for date in dates_list:\n",
    "        for da in date:\n",
    "            listaFechas.append(da) # Lista de fechas en cada zona y SO\n",
    "\n",
    "# Cerrar la conexión siempre\n",
    "connection.close()"
   ]
  },
  {
   "cell_type": "markdown",
   "metadata": {},
   "source": [
    "### Seleccionar Zona de Disponibilidad"
   ]
  },
  {
   "cell_type": "markdown",
   "metadata": {},
   "source": [
    "Elegir entre una de las siguientes zonas de disponibilidad:"
   ]
  },
  {
   "cell_type": "code",
   "execution_count": 5,
   "metadata": {},
   "outputs": [
    {
     "name": "stdout",
     "output_type": "stream",
     "text": [
      "['ap-northeast-1a', 'ap-northeast-1c', 'ap-northeast-1d']\n"
     ]
    }
   ],
   "source": [
    "print(listaRegiones)"
   ]
  },
  {
   "cell_type": "code",
   "execution_count": 6,
   "metadata": {
    "collapsed": true
   },
   "outputs": [],
   "source": [
    "zona = \"ap-northeast-1a\""
   ]
  },
  {
   "cell_type": "markdown",
   "metadata": {},
   "source": [
    "### Seleccionar Fecha Inicio (Primer día del primer mes) y Fin (Último día del úlltimo mes)"
   ]
  },
  {
   "cell_type": "code",
   "execution_count": 7,
   "metadata": {
    "collapsed": true
   },
   "outputs": [],
   "source": [
    "f_inicio = '2018-02-01'\n",
    "f_final = '2018-07-31'"
   ]
  },
  {
   "cell_type": "markdown",
   "metadata": {},
   "source": [
    "### Alpha"
   ]
  },
  {
   "cell_type": "code",
   "execution_count": 8,
   "metadata": {
    "collapsed": true
   },
   "outputs": [],
   "source": [
    "alpha = 0.65521022"
   ]
  },
  {
   "cell_type": "markdown",
   "metadata": {},
   "source": [
    "### Meses posteriores a predecir"
   ]
  },
  {
   "cell_type": "code",
   "execution_count": 9,
   "metadata": {
    "collapsed": true
   },
   "outputs": [],
   "source": [
    "posteriores = 2"
   ]
  },
  {
   "cell_type": "markdown",
   "metadata": {},
   "source": [
    "--------------------------------------------------------------------------------------------------------------------------------"
   ]
  },
  {
   "cell_type": "markdown",
   "metadata": {},
   "source": [
    "# 3. Preprocesado de datos para los Meses"
   ]
  },
  {
   "cell_type": "code",
   "execution_count": 10,
   "metadata": {
    "collapsed": true
   },
   "outputs": [],
   "source": [
    "# Preprocesado por horas\n",
    "\n",
    "# Conectar con la base de datos, si no existe la crea automáticamente\n",
    "conexion = sqlite3.connect(\"BBDD.db\")\n",
    "    \n",
    "# Para poder ejecutar código SQL, tenemos que crear un cursor primero, el nombre de la tabla será la familia de las categorías\n",
    "cursor = conexion.cursor()\n",
    "cursor.execute(\"DROP TABLE IF EXISTS Preprocesados;\")\n",
    "cursor.execute(\"CREATE TABLE IF NOT EXISTS Preprocesados (AvailabilityZone VARCHAR(100), Description VARCHAR(100), InstanceType VARCHAR(100), SpotPrice FLOAT(8,4), Timestamp Datetime, PRIMARY KEY('AvailabilityZone','InstanceType','Timestamp','Description'))\")\n",
    "\n",
    "# Insertamos los nombre de los atributos para que se tenga en cuenta en formato csv\n",
    "cursor.execute(\"INSERT OR IGNORE INTO Preprocesados VALUES ('AvailabilityZone','Description','InstanceType','SpotPrice','Timestamp');\")      \n",
    "\n",
    "lista = [] # variable auxiliar por si no hay precios en algunas horas para meter el anterior más mayor\n",
    "lista.append(0.0)\n",
    "aux = '0'\n",
    "#for zona in listaRegiones:\n",
    "for fecha in listaFechas:\n",
    "            \n",
    "            # Para las 00:00:00\n",
    "            price = pd.read_sql(\"SELECT MAX(SpotPrice) FROM \"+region+\"WHERE SpotPrice<>'SpotPrice' AND AvailabilityZone='\"+zona+\"' AND Description = '\"+sistema+\"' AND Timestamp >='\"+fecha+\"T00:00:00.000z' AND Timestamp <='\"+fecha+\"T00:59:59.000z';\",conexion)\n",
    "            precios = price.values.tolist()\n",
    "            for prec in precios:\n",
    "                precio = str(prec[0])\n",
    "            if precio == 'None':\n",
    "                cursor.execute(\"INSERT OR IGNORE INTO Preprocesados VALUES (\"+\"'\"+zona+\"',\"+\"'\"+sistema+\"','\"+instance+\"','\"+aux+\"','\"+fecha+\"T00:00:00.000Z');\")\n",
    "            elif precio != 'None':\n",
    "                cursor.execute(\"INSERT OR IGNORE INTO Preprocesados VALUES (\"+\"'\"+zona+\"',\"+\"'\"+sistema+\"','\"+instance+\"','\"+precio+\"','\"+fecha+\"T00:00:00.000Z');\")\n",
    "                aux = str(precio)\n",
    "                \n",
    "            # Para las 01:00:00\n",
    "            price = pd.read_sql(\"SELECT MAX(SpotPrice) FROM \"+region+\"WHERE SpotPrice<>'SpotPrice' AND AvailabilityZone='\"+zona+\"' AND Description = '\"+sistema+\"' AND Timestamp >='\"+fecha+\"T01:00:00.000z' AND Timestamp <='\"+fecha+\"T01:59:59.000z';\",conexion)\n",
    "            precios = price.values.tolist()\n",
    "            for prec in precios:\n",
    "                precio = str(prec[0])\n",
    "            if precio == 'None':\n",
    "                cursor.execute(\"INSERT OR IGNORE INTO Preprocesados VALUES (\"+\"'\"+zona+\"',\"+\"'\"+sistema+\"','\"+instance+\"','\"+aux+\"','\"+fecha+\"T01:00:00.000Z');\")\n",
    "            elif precio != 'None':\n",
    "                cursor.execute(\"INSERT OR IGNORE INTO Preprocesados VALUES (\"+\"'\"+zona+\"',\"+\"'\"+sistema+\"','\"+instance+\"','\"+precio+\"','\"+fecha+\"T01:00:00.000Z');\")\n",
    "                aux = str(precio)\n",
    "           \n",
    "            # Para las 02:00:00\n",
    "            price = pd.read_sql(\"SELECT MAX(SpotPrice) FROM \"+region+\"WHERE SpotPrice<>'SpotPrice' AND AvailabilityZone='\"+zona+\"' AND Description = '\"+sistema+\"' AND Timestamp >='\"+fecha+\"T02:00:00.000z' AND Timestamp <='\"+fecha+\"T02:59:59.000z';\",conexion)\n",
    "            precios = price.values.tolist()\n",
    "            for prec in precios:\n",
    "                precio = str(prec[0])\n",
    "            if precio == 'None':\n",
    "                cursor.execute(\"INSERT OR IGNORE INTO Preprocesados VALUES (\"+\"'\"+zona+\"',\"+\"'\"+sistema+\"','\"+instance+\"','\"+aux+\"','\"+fecha+\"T02:00:00.000Z');\")\n",
    "            elif precio != 'None':\n",
    "                cursor.execute(\"INSERT OR IGNORE INTO Preprocesados VALUES (\"+\"'\"+zona+\"',\"+\"'\"+sistema+\"','\"+instance+\"','\"+precio+\"','\"+fecha+\"T02:00:00.000Z');\")\n",
    "                aux = str(precio)\n",
    "\n",
    "                \n",
    "            # Para las 03:00:00\n",
    "            price = pd.read_sql(\"SELECT MAX(SpotPrice) FROM \"+region+\"WHERE SpotPrice<>'SpotPrice' AND AvailabilityZone='\"+zona+\"' AND Description = '\"+sistema+\"' AND Timestamp >='\"+fecha+\"T03:00:00.000z' AND Timestamp <='\"+fecha+\"T03:59:59.000z';\",conexion)\n",
    "            precios = price.values.tolist()\n",
    "            for prec in precios:\n",
    "                precio = str(prec[0])\n",
    "            if precio == 'None':\n",
    "                cursor.execute(\"INSERT OR IGNORE INTO Preprocesados VALUES (\"+\"'\"+zona+\"',\"+\"'\"+sistema+\"','\"+instance+\"','\"+aux+\"','\"+fecha+\"T03:00:00.000Z');\")\n",
    "            elif precio != 'None':\n",
    "                cursor.execute(\"INSERT OR IGNORE INTO Preprocesados VALUES (\"+\"'\"+zona+\"',\"+\"'\"+sistema+\"','\"+instance+\"','\"+precio+\"','\"+fecha+\"T03:00:00.000Z');\")\n",
    "                aux = str(precio)\n",
    "    \n",
    "                \n",
    "            # Para las 04:00:00\n",
    "            price = pd.read_sql(\"SELECT MAX(SpotPrice) FROM \"+region+\"WHERE SpotPrice<>'SpotPrice' AND AvailabilityZone='\"+zona+\"' AND Description = '\"+sistema+\"' AND Timestamp >='\"+fecha+\"T04:00:00.000z' AND Timestamp <='\"+fecha+\"T04:59:59.000z';\",conexion)\n",
    "            precios = price.values.tolist()\n",
    "            for prec in precios:\n",
    "                precio = str(prec[0])\n",
    "            if precio == 'None':\n",
    "                cursor.execute(\"INSERT OR IGNORE INTO Preprocesados VALUES (\"+\"'\"+zona+\"',\"+\"'\"+sistema+\"','\"+instance+\"','\"+aux+\"','\"+fecha+\"T04:00:00.000Z');\")\n",
    "            elif precio != 'None':\n",
    "                cursor.execute(\"INSERT OR IGNORE INTO Preprocesados VALUES (\"+\"'\"+zona+\"',\"+\"'\"+sistema+\"','\"+instance+\"','\"+precio+\"','\"+fecha+\"T04:00:00.000Z');\")\n",
    "                aux = str(precio)\n",
    "                    \n",
    "            \n",
    "            # Para las 05:00:00\n",
    "            price = pd.read_sql(\"SELECT MAX(SpotPrice) FROM \"+region+\"WHERE SpotPrice<>'SpotPrice' AND AvailabilityZone='\"+zona+\"' AND Description = '\"+sistema+\"' AND Timestamp >='\"+fecha+\"T05:00:00.000z' AND Timestamp <='\"+fecha+\"T05:59:59.000z';\",conexion)\n",
    "            precios = price.values.tolist()\n",
    "            for prec in precios:\n",
    "                precio = str(prec[0])\n",
    "            if precio == 'None':\n",
    "                cursor.execute(\"INSERT OR IGNORE INTO Preprocesados VALUES (\"+\"'\"+zona+\"',\"+\"'\"+sistema+\"','\"+instance+\"','\"+aux+\"','\"+fecha+\"T05:00:00.000Z');\")\n",
    "            elif precio != 'None':\n",
    "                cursor.execute(\"INSERT OR IGNORE INTO Preprocesados VALUES (\"+\"'\"+zona+\"',\"+\"'\"+sistema+\"','\"+instance+\"','\"+precio+\"','\"+fecha+\"T05:00:00.000Z');\")\n",
    "                aux = str(precio)\n",
    "                    \n",
    "                \n",
    "            # Para las 06:00:00\n",
    "            price = pd.read_sql(\"SELECT MAX(SpotPrice) FROM \"+region+\"WHERE SpotPrice<>'SpotPrice' AND AvailabilityZone='\"+zona+\"' AND Description = '\"+sistema+\"' AND Timestamp >='\"+fecha+\"T06:00:00.000z' AND Timestamp <='\"+fecha+\"T06:59:59.000z';\",conexion)\n",
    "            precios = price.values.tolist()\n",
    "            for prec in precios:\n",
    "                precio = str(prec[0])\n",
    "            if precio == 'None':\n",
    "                cursor.execute(\"INSERT OR IGNORE INTO Preprocesados VALUES (\"+\"'\"+zona+\"',\"+\"'\"+sistema+\"','\"+instance+\"','\"+aux+\"','\"+fecha+\"T06:00:00.000Z');\")\n",
    "            elif precio != 'None':\n",
    "                cursor.execute(\"INSERT OR IGNORE INTO Preprocesados VALUES (\"+\"'\"+zona+\"',\"+\"'\"+sistema+\"','\"+instance+\"','\"+precio+\"','\"+fecha+\"T06:00:00.000Z');\")\n",
    "                aux = str(precio)\n",
    "                    \n",
    "                \n",
    "            # Para las 07:00:00\n",
    "            price = pd.read_sql(\"SELECT MAX(SpotPrice) FROM \"+region+\"WHERE SpotPrice<>'SpotPrice' AND AvailabilityZone='\"+zona+\"' AND Description = '\"+sistema+\"' AND Timestamp >='\"+fecha+\"T07:00:00.000z' AND Timestamp <='\"+fecha+\"T07:59:59.000z';\",conexion)\n",
    "            precios = price.values.tolist()\n",
    "            for prec in precios:\n",
    "                precio = str(prec[0])\n",
    "            if precio == 'None':\n",
    "                cursor.execute(\"INSERT OR IGNORE INTO Preprocesados VALUES (\"+\"'\"+zona+\"',\"+\"'\"+sistema+\"','\"+instance+\"','\"+aux+\"','\"+fecha+\"T07:00:00.000Z');\")\n",
    "            elif precio != 'None':\n",
    "                cursor.execute(\"INSERT OR IGNORE INTO Preprocesados VALUES (\"+\"'\"+zona+\"',\"+\"'\"+sistema+\"','\"+instance+\"','\"+precio+\"','\"+fecha+\"T07:00:00.000Z');\")\n",
    "                aux = str(precio)\n",
    "                    \n",
    "                \n",
    "            # Para las 08:00:00\n",
    "            price = pd.read_sql(\"SELECT MAX(SpotPrice) FROM \"+region+\"WHERE SpotPrice<>'SpotPrice' AND AvailabilityZone='\"+zona+\"' AND Description = '\"+sistema+\"' AND Timestamp >='\"+fecha+\"T08:00:00.000z' AND Timestamp <='\"+fecha+\"T08:59:59.000z';\",conexion)\n",
    "            precios = price.values.tolist()\n",
    "            for prec in precios:\n",
    "                precio = str(prec[0])\n",
    "            if precio == 'None':\n",
    "                cursor.execute(\"INSERT OR IGNORE INTO Preprocesados VALUES (\"+\"'\"+zona+\"',\"+\"'\"+sistema+\"','\"+instance+\"','\"+aux+\"','\"+fecha+\"T08:00:00.000Z');\")\n",
    "            elif precio != 'None':\n",
    "                cursor.execute(\"INSERT OR IGNORE INTO Preprocesados VALUES (\"+\"'\"+zona+\"',\"+\"'\"+sistema+\"','\"+instance+\"','\"+precio+\"','\"+fecha+\"T08:00:00.000Z');\")\n",
    "                aux = str(precio)\n",
    "                    \n",
    "                \n",
    "            # Para las 09:00:00\n",
    "            price = pd.read_sql(\"SELECT MAX(SpotPrice) FROM \"+region+\"WHERE SpotPrice<>'SpotPrice' AND AvailabilityZone='\"+zona+\"' AND Description = '\"+sistema+\"' AND Timestamp >='\"+fecha+\"T09:00:00.000z' AND Timestamp <='\"+fecha+\"T09:59:59.000z';\",conexion)\n",
    "            precios = price.values.tolist()\n",
    "            for prec in precios:\n",
    "                precio = str(prec[0])\n",
    "            if precio == 'None':\n",
    "                cursor.execute(\"INSERT OR IGNORE INTO Preprocesados VALUES (\"+\"'\"+zona+\"',\"+\"'\"+sistema+\"','\"+instance+\"','\"+aux+\"','\"+fecha+\"T09:00:00.000Z');\")\n",
    "            elif precio != 'None':\n",
    "                cursor.execute(\"INSERT OR IGNORE INTO Preprocesados VALUES (\"+\"'\"+zona+\"',\"+\"'\"+sistema+\"','\"+instance+\"','\"+precio+\"','\"+fecha+\"T09:00:00.000Z');\")\n",
    "                aux = str(precio)\n",
    "                    \n",
    "                \n",
    "            # Para las 10:00:00\n",
    "            price = pd.read_sql(\"SELECT MAX(SpotPrice) FROM \"+region+\"WHERE SpotPrice<>'SpotPrice' AND AvailabilityZone='\"+zona+\"' AND Description = '\"+sistema+\"' AND Timestamp >='\"+fecha+\"T10:00:00.000z' AND Timestamp <='\"+fecha+\"T10:59:59.000z';\",conexion)\n",
    "            precios = price.values.tolist()\n",
    "            for prec in precios:\n",
    "                precio = str(prec[0])\n",
    "            if precio == 'None':\n",
    "                cursor.execute(\"INSERT OR IGNORE INTO Preprocesados VALUES (\"+\"'\"+zona+\"',\"+\"'\"+sistema+\"','\"+instance+\"','\"+aux+\"','\"+fecha+\"T10:00:00.000Z');\")\n",
    "            elif precio != 'None':\n",
    "                cursor.execute(\"INSERT OR IGNORE INTO Preprocesados VALUES (\"+\"'\"+zona+\"',\"+\"'\"+sistema+\"','\"+instance+\"','\"+precio+\"','\"+fecha+\"T10:00:00.000Z');\")\n",
    "                aux = str(precio)\n",
    "                    \n",
    "                \n",
    "            # Para las 11:00:00\n",
    "            price = pd.read_sql(\"SELECT MAX(SpotPrice) FROM \"+region+\"WHERE SpotPrice<>'SpotPrice' AND AvailabilityZone='\"+zona+\"' AND Description = '\"+sistema+\"' AND Timestamp >='\"+fecha+\"T11:00:00.000z' AND Timestamp <='\"+fecha+\"T11:59:59.000z';\",conexion)\n",
    "            precios = price.values.tolist()\n",
    "            for prec in precios:\n",
    "                precio = str(prec[0])\n",
    "            if precio == 'None':\n",
    "                cursor.execute(\"INSERT OR IGNORE INTO Preprocesados VALUES (\"+\"'\"+zona+\"',\"+\"'\"+sistema+\"','\"+instance+\"','\"+aux+\"','\"+fecha+\"T11:00:00.000Z');\")\n",
    "            elif precio != 'None':\n",
    "                cursor.execute(\"INSERT OR IGNORE INTO Preprocesados VALUES (\"+\"'\"+zona+\"',\"+\"'\"+sistema+\"','\"+instance+\"','\"+precio+\"','\"+fecha+\"T11:00:00.000Z');\")\n",
    "                aux = str(precio)\n",
    "                    \n",
    "                \n",
    "            # Para las 12:00:00\n",
    "            price = pd.read_sql(\"SELECT MAX(SpotPrice) FROM \"+region+\"WHERE SpotPrice<>'SpotPrice' AND AvailabilityZone='\"+zona+\"' AND Description = '\"+sistema+\"' AND Timestamp >='\"+fecha+\"T12:00:00.000z' AND Timestamp <='\"+fecha+\"T12:59:59.000z';\",conexion)\n",
    "            precios = price.values.tolist()\n",
    "            for prec in precios:\n",
    "                precio = str(prec[0])\n",
    "            if precio == 'None':\n",
    "                cursor.execute(\"INSERT OR IGNORE INTO Preprocesados VALUES (\"+\"'\"+zona+\"',\"+\"'\"+sistema+\"','\"+instance+\"','\"+aux+\"','\"+fecha+\"T12:00:00.000Z');\")\n",
    "            elif precio != 'None':\n",
    "                cursor.execute(\"INSERT OR IGNORE INTO Preprocesados VALUES (\"+\"'\"+zona+\"',\"+\"'\"+sistema+\"','\"+instance+\"','\"+precio+\"','\"+fecha+\"T12:00:00.000Z');\")\n",
    "                aux = str(precio)\n",
    "                    \n",
    "                \n",
    "            # Para las 13:00:00\n",
    "            price = pd.read_sql(\"SELECT MAX(SpotPrice) FROM \"+region+\"WHERE SpotPrice<>'SpotPrice' AND AvailabilityZone='\"+zona+\"' AND Description = '\"+sistema+\"' AND Timestamp >='\"+fecha+\"T13:00:00.000z' AND Timestamp <='\"+fecha+\"T13:59:59.000z';\",conexion)\n",
    "            precios = price.values.tolist()\n",
    "            for prec in precios:\n",
    "                precio = str(prec[0])\n",
    "            if precio == 'None':\n",
    "                cursor.execute(\"INSERT OR IGNORE INTO Preprocesados VALUES (\"+\"'\"+zona+\"',\"+\"'\"+sistema+\"','\"+instance+\"','\"+aux+\"','\"+fecha+\"T13:00:00.000Z');\")\n",
    "            elif precio != 'None':\n",
    "                cursor.execute(\"INSERT OR IGNORE INTO Preprocesados VALUES (\"+\"'\"+zona+\"',\"+\"'\"+sistema+\"','\"+instance+\"','\"+precio+\"','\"+fecha+\"T13:00:00.000Z');\")\n",
    "                aux = str(precio)\n",
    "                    \n",
    "                \n",
    "            # Para las 14:00:00\n",
    "            price = pd.read_sql(\"SELECT MAX(SpotPrice) FROM \"+region+\"WHERE SpotPrice<>'SpotPrice' AND AvailabilityZone='\"+zona+\"' AND Description = '\"+sistema+\"' AND Timestamp >='\"+fecha+\"T14:00:00.000z' AND Timestamp <='\"+fecha+\"T14:59:59.000z';\",conexion)\n",
    "            precios = price.values.tolist()\n",
    "            for prec in precios:\n",
    "                precio = str(prec[0])\n",
    "            if precio == 'None':\n",
    "                cursor.execute(\"INSERT OR IGNORE INTO Preprocesados VALUES (\"+\"'\"+zona+\"',\"+\"'\"+sistema+\"','\"+instance+\"','\"+aux+\"','\"+fecha+\"T14:00:00.000Z');\")\n",
    "            elif precio != 'None':\n",
    "                cursor.execute(\"INSERT OR IGNORE INTO Preprocesados VALUES (\"+\"'\"+zona+\"',\"+\"'\"+sistema+\"','\"+instance+\"','\"+precio+\"','\"+fecha+\"T14:00:00.000Z');\")\n",
    "                aux = str(precio)\n",
    "                    \n",
    "                \n",
    "            # Para las 15:00:00\n",
    "            price = pd.read_sql(\"SELECT MAX(SpotPrice) FROM \"+region+\"WHERE SpotPrice<>'SpotPrice' AND AvailabilityZone='\"+zona+\"' AND Description = '\"+sistema+\"' AND Timestamp >='\"+fecha+\"T15:00:00.000z' AND Timestamp <='\"+fecha+\"T15:59:59.000z';\",conexion)\n",
    "            precios = price.values.tolist()\n",
    "            for prec in precios:\n",
    "                precio = str(prec[0])\n",
    "            if precio == 'None':\n",
    "                cursor.execute(\"INSERT OR IGNORE INTO Preprocesados VALUES (\"+\"'\"+zona+\"',\"+\"'\"+sistema+\"','\"+instance+\"','\"+aux+\"','\"+fecha+\"T15:00:00.000Z');\")\n",
    "            elif precio != 'None':\n",
    "                cursor.execute(\"INSERT OR IGNORE INTO Preprocesados VALUES (\"+\"'\"+zona+\"',\"+\"'\"+sistema+\"','\"+instance+\"','\"+precio+\"','\"+fecha+\"T15:00:00.000Z');\")\n",
    "                aux = str(precio)\n",
    "                    \n",
    "                \n",
    "            # Para las 16:00:00\n",
    "            price = pd.read_sql(\"SELECT MAX(SpotPrice) FROM \"+region+\"WHERE SpotPrice<>'SpotPrice' AND AvailabilityZone='\"+zona+\"' AND Description = '\"+sistema+\"' AND Timestamp >='\"+fecha+\"T16:00:00.000z' AND Timestamp <='\"+fecha+\"T16:59:59.000z';\",conexion)\n",
    "            precios = price.values.tolist()\n",
    "            for prec in precios:\n",
    "                precio = str(prec[0])\n",
    "            if precio == 'None':\n",
    "                cursor.execute(\"INSERT OR IGNORE INTO Preprocesados VALUES (\"+\"'\"+zona+\"',\"+\"'\"+sistema+\"','\"+instance+\"','\"+aux+\"','\"+fecha+\"T16:00:00.000Z');\")\n",
    "            elif precio != 'None':\n",
    "                cursor.execute(\"INSERT OR IGNORE INTO Preprocesados VALUES (\"+\"'\"+zona+\"',\"+\"'\"+sistema+\"','\"+instance+\"','\"+precio+\"','\"+fecha+\"T16:00:00.000Z');\")\n",
    "                aux = str(precio)\n",
    "                    \n",
    "                \n",
    "            # Para las 17:00:00\n",
    "            price = pd.read_sql(\"SELECT MAX(SpotPrice) FROM \"+region+\"WHERE SpotPrice<>'SpotPrice' AND AvailabilityZone='\"+zona+\"' AND Description = '\"+sistema+\"' AND Timestamp >='\"+fecha+\"T17:00:00.000z' AND Timestamp <='\"+fecha+\"T17:59:59.000z';\",conexion)\n",
    "            precios = price.values.tolist()\n",
    "            for prec in precios:\n",
    "                precio = str(prec[0])\n",
    "            if precio == 'None':\n",
    "                cursor.execute(\"INSERT OR IGNORE INTO Preprocesados VALUES (\"+\"'\"+zona+\"',\"+\"'\"+sistema+\"','\"+instance+\"','\"+aux+\"','\"+fecha+\"T17:00:00.000Z');\")\n",
    "            elif precio != 'None':\n",
    "                cursor.execute(\"INSERT OR IGNORE INTO Preprocesados VALUES (\"+\"'\"+zona+\"',\"+\"'\"+sistema+\"','\"+instance+\"','\"+precio+\"','\"+fecha+\"T17:00:00.000Z');\")\n",
    "                aux = str(precio)\n",
    "                    \n",
    "                \n",
    "            # Para las 18:00:00\n",
    "            price = pd.read_sql(\"SELECT MAX(SpotPrice) FROM \"+region+\"WHERE SpotPrice<>'SpotPrice' AND AvailabilityZone='\"+zona+\"' AND Description = '\"+sistema+\"' AND Timestamp >='\"+fecha+\"T18:00:00.000z' AND Timestamp <='\"+fecha+\"T18:59:59.000z';\",conexion)\n",
    "            precios = price.values.tolist()\n",
    "            for prec in precios:\n",
    "                precio = str(prec[0])\n",
    "            if precio == 'None':\n",
    "                cursor.execute(\"INSERT OR IGNORE INTO Preprocesados VALUES (\"+\"'\"+zona+\"',\"+\"'\"+sistema+\"','\"+instance+\"','\"+aux+\"','\"+fecha+\"T18:00:00.000Z');\")\n",
    "            elif precio != 'None':\n",
    "                cursor.execute(\"INSERT OR IGNORE INTO Preprocesados VALUES (\"+\"'\"+zona+\"',\"+\"'\"+sistema+\"','\"+instance+\"','\"+precio+\"','\"+fecha+\"T18:00:00.000Z');\")\n",
    "                aux = str(precio)\n",
    "                    \n",
    "                \n",
    "            # Para las 19:00:00\n",
    "            price = pd.read_sql(\"SELECT MAX(SpotPrice) FROM \"+region+\"WHERE SpotPrice<>'SpotPrice' AND AvailabilityZone='\"+zona+\"' AND Description = '\"+sistema+\"' AND Timestamp >='\"+fecha+\"T19:00:00.000z' AND Timestamp <='\"+fecha+\"T19:59:59.000z';\",conexion)\n",
    "            precios = price.values.tolist()\n",
    "            for prec in precios:\n",
    "                precio = str(prec[0])\n",
    "            if precio == 'None':\n",
    "                cursor.execute(\"INSERT OR IGNORE INTO Preprocesados VALUES (\"+\"'\"+zona+\"',\"+\"'\"+sistema+\"','\"+instance+\"','\"+aux+\"','\"+fecha+\"T19:00:00.000Z');\")\n",
    "            elif precio != 'None':\n",
    "                cursor.execute(\"INSERT OR IGNORE INTO Preprocesados VALUES (\"+\"'\"+zona+\"',\"+\"'\"+sistema+\"','\"+instance+\"','\"+precio+\"','\"+fecha+\"T19:00:00.000Z');\")\n",
    "                aux = str(precio)\n",
    "                    \n",
    "                \n",
    "            # Para las 20:00:00\n",
    "            price = pd.read_sql(\"SELECT MAX(SpotPrice) FROM \"+region+\"WHERE SpotPrice<>'SpotPrice' AND AvailabilityZone='\"+zona+\"' AND Description = '\"+sistema+\"' AND Timestamp >='\"+fecha+\"T20:00:00.000z' AND Timestamp <='\"+fecha+\"T20:59:59.000z';\",conexion)\n",
    "            precios = price.values.tolist()\n",
    "            for prec in precios:\n",
    "                precio = str(prec[0])\n",
    "            if precio == 'None':\n",
    "                cursor.execute(\"INSERT OR IGNORE INTO Preprocesados VALUES (\"+\"'\"+zona+\"',\"+\"'\"+sistema+\"','\"+instance+\"','\"+aux+\"','\"+fecha+\"T20:00:00.000Z');\")\n",
    "            elif precio != 'None':\n",
    "                cursor.execute(\"INSERT OR IGNORE INTO Preprocesados VALUES (\"+\"'\"+zona+\"',\"+\"'\"+sistema+\"','\"+instance+\"','\"+precio+\"','\"+fecha+\"T20:00:00.000Z');\")\n",
    "                aux = str(precio)\n",
    "                    \n",
    "                \n",
    "            # Para las 21:00:00\n",
    "            price = pd.read_sql(\"SELECT MAX(SpotPrice) FROM \"+region+\"WHERE SpotPrice<>'SpotPrice' AND AvailabilityZone='\"+zona+\"' AND Description = '\"+sistema+\"' AND Timestamp >='\"+fecha+\"T21:00:00.000z' AND Timestamp <='\"+fecha+\"T21:59:59.000z';\",conexion)\n",
    "            precios = price.values.tolist()\n",
    "            for prec in precios:\n",
    "                precio = str(prec[0])\n",
    "            if precio == 'None':\n",
    "                cursor.execute(\"INSERT OR IGNORE INTO Preprocesados VALUES (\"+\"'\"+zona+\"',\"+\"'\"+sistema+\"','\"+instance+\"','\"+aux+\"','\"+fecha+\"T21:00:00.000Z');\")\n",
    "            elif precio != 'None':\n",
    "                cursor.execute(\"INSERT OR IGNORE INTO Preprocesados VALUES (\"+\"'\"+zona+\"',\"+\"'\"+sistema+\"','\"+instance+\"','\"+precio+\"','\"+fecha+\"T21:00:00.000Z');\")\n",
    "                aux = str(precio)\n",
    "                    \n",
    "                \n",
    "            # Para las 22:00:00\n",
    "            price = pd.read_sql(\"SELECT MAX(SpotPrice) FROM \"+region+\"WHERE SpotPrice<>'SpotPrice' AND AvailabilityZone='\"+zona+\"' AND Description = '\"+sistema+\"' AND Timestamp >='\"+fecha+\"T22:00:00.000z' AND Timestamp <='\"+fecha+\"T22:59:59.000z';\",conexion)\n",
    "            precios = price.values.tolist()\n",
    "            for prec in precios:\n",
    "                precio = str(prec[0])\n",
    "            if precio == 'None':\n",
    "                cursor.execute(\"INSERT OR IGNORE INTO Preprocesados VALUES (\"+\"'\"+zona+\"',\"+\"'\"+sistema+\"','\"+instance+\"','\"+aux+\"','\"+fecha+\"T22:00:00.000Z');\")\n",
    "            elif precio != 'None':\n",
    "                cursor.execute(\"INSERT OR IGNORE INTO Preprocesados VALUES (\"+\"'\"+zona+\"',\"+\"'\"+sistema+\"','\"+instance+\"','\"+precio+\"','\"+fecha+\"T22:00:00.000Z');\")\n",
    "                aux = str(precio)\n",
    "                    \n",
    "                \n",
    "            # Para las 23:00:00\n",
    "            price = pd.read_sql(\"SELECT MAX(SpotPrice) FROM \"+region+\"WHERE SpotPrice<>'SpotPrice' AND AvailabilityZone='\"+zona+\"' AND Description = '\"+sistema+\"' AND Timestamp >='\"+fecha+\"T23:00:00.000z' AND Timestamp <='\"+fecha+\"T23:59:59.000z';\",conexion)\n",
    "            precios = price.values.tolist()\n",
    "            for prec in precios:\n",
    "                precio = str(prec[0])\n",
    "            if precio == 'None':\n",
    "                cursor.execute(\"INSERT OR IGNORE INTO Preprocesados VALUES (\"+\"'\"+zona+\"',\"+\"'\"+sistema+\"','\"+instance+\"','\"+aux+\"','\"+fecha+\"T23:00:00.000Z');\")\n",
    "            elif precio != 'None':\n",
    "                cursor.execute(\"INSERT OR IGNORE INTO Preprocesados VALUES (\"+\"'\"+zona+\"',\"+\"'\"+sistema+\"','\"+instance+\"','\"+precio+\"','\"+fecha+\"T23:00:00.000Z');\")\n",
    "                aux = str(precio)\n",
    "                   \n",
    "\n",
    "# Eliminamos los registros donde el precio sea 0\n",
    "cursor.execute(\"DELETE FROM Preprocesados WHERE SpotPrice = 0.0\")\n",
    "\n",
    "# Guardamos los cambios haciendo un commit\n",
    "conexion.commit()\n",
    "    \n",
    "# Cerrar la conexión siempre\n",
    "connection.close()\n",
    "\n",
    "# Conectar con la base de datos\n",
    "with sqlite3.connect(\"BBDD.db\") as connection:\n",
    "    # Abrimos el csv a insertar los datos\n",
    "    csvWriter = csv.writer(open(\"datos.csv\", \"w\"))\n",
    "    # Creamos el cursor\n",
    "    c = connection.cursor()\n",
    "    # Hacemos la consulta\n",
    "    data = c.execute(\"SELECT * FROM Preprocesados ORDER BY Timestamp Desc\") # Ordenamos los datos desde el más reciente al menos\n",
    "    # Insertamos los datos en el dataset\n",
    "    rows = data.fetchall()\n",
    "    csvWriter.writerows(rows)\n",
    "\n",
    "# Cerrar la conexión siempre\n",
    "connection.close()\n",
    "\n",
    "df = pd.read_csv(\"datos.csv\")\n"
   ]
  },
  {
   "cell_type": "code",
   "execution_count": 11,
   "metadata": {
    "collapsed": true
   },
   "outputs": [],
   "source": [
    "# Preprocesado por días\n",
    "\n",
    "for i,date in enumerate(df['Timestamp']):\n",
    "    lista.append(date[:10])\n",
    "lista2=[]  # En lista2 tengo los días\n",
    "for e in lista:\n",
    "    if e not in lista2:\n",
    "        lista2.append(e)\n",
    "lista2.reverse()\n",
    "\n",
    "df2 = df.drop('AvailabilityZone', 1)\n",
    "df2 = df2.drop('Description', 1)\n",
    "df2 = df2.drop('InstanceType', 1)\n",
    "\n",
    "price = []\n",
    "lol = df2.values.tolist()\n",
    "lol.reverse()\n",
    "\n",
    "\n",
    "dfDays = pd.DataFrame(columns=['Periodo por días', 'Precio Real Max']) # Creamos el dataframe para los días\n",
    "\n",
    "for fecha in lista2:\n",
    "    for lista in lol:\n",
    "        if (lista[1] == str(fecha)+\"T23:00:00.000Z\"):\n",
    "            price.append(lista[0])\n",
    "        if (lista[1] == str(fecha)+\"T22:00:00.000Z\"):\n",
    "            price.append(lista[0])\n",
    "        if (lista[1] == str(fecha)+\"T21:00:00.000Z\"):\n",
    "            price.append(lista[0])\n",
    "        if (lista[1] == str(fecha)+\"T20:00:00.000Z\"):\n",
    "            price.append(lista[0])\n",
    "        if (lista[1] == str(fecha)+\"T19:00:00.000Z\"):\n",
    "            price.append(lista[0])\n",
    "        if (lista[1] == str(fecha)+\"T18:00:00.000Z\"):\n",
    "            price.append(lista[0])\n",
    "        if (lista[1] == str(fecha)+\"T17:00:00.000Z\"):\n",
    "            price.append(lista[0])\n",
    "        if (lista[1] == str(fecha)+\"T16:00:00.000Z\"):\n",
    "            price.append(lista[0])\n",
    "        if (lista[1] == str(fecha)+\"T15:00:00.000Z\"):\n",
    "            price.append(lista[0])\n",
    "        if (lista[1] == str(fecha)+\"T14:00:00.000Z\"):\n",
    "            price.append(lista[0])\n",
    "        if (lista[1] == str(fecha)+\"T13:00:00.000Z\"):\n",
    "            price.append(lista[0])\n",
    "        if (lista[1] == str(fecha)+\"T12:00:00.000Z\"):\n",
    "            price.append(lista[0])\n",
    "        if (lista[1] == str(fecha)+\"T11:00:00.000Z\"):\n",
    "            price.append(lista[0])\n",
    "        if (lista[1] == str(fecha)+\"T10:00:00.000Z\"):\n",
    "            price.append(lista[0])\n",
    "        if (lista[1] == str(fecha)+\"T09:00:00.000Z\"):\n",
    "            price.append(lista[0])\n",
    "        if (lista[1] == str(fecha)+\"T08:00:00.000Z\"):\n",
    "            price.append(lista[0])\n",
    "        if (lista[1] == str(fecha)+\"T07:00:00.000Z\"):\n",
    "            price.append(lista[0])\n",
    "        if (lista[1] == str(fecha)+\"T06:00:00.000Z\"):\n",
    "            price.append(lista[0])\n",
    "        if (lista[1] == str(fecha)+\"T05:00:00.000Z\"):\n",
    "            price.append(lista[0])\n",
    "        if (lista[1] == str(fecha)+\"T04:00:00.000Z\"):\n",
    "            price.append(lista[0])\n",
    "        if (lista[1] == str(fecha)+\"T03:00:00.000Z\"):\n",
    "            price.append(lista[0])\n",
    "        if (lista[1] == str(fecha)+\"T02:00:00.000Z\"):\n",
    "            price.append(lista[0])\n",
    "        if (lista[1] == str(fecha)+\"T01:00:00.000Z\"):\n",
    "            price.append(lista[0])\n",
    "        if (lista[1] == str(fecha)+\"T00:00:00.000Z\"):\n",
    "            price.append(lista[0])\n",
    "    if price: # Si la lista no está vacía\n",
    "        dfDays.loc[len(dfDays)]=[fecha,round(max(price),4)]\n",
    "    price = []"
   ]
  },
  {
   "cell_type": "code",
   "execution_count": 12,
   "metadata": {
    "collapsed": true
   },
   "outputs": [],
   "source": [
    "# Seleccionamos el rango de días para entrenar\n",
    "\n",
    "formatter_string = \"%Y-%m-%d\" \n",
    "datetime_object = datetime.datetime.strptime(f_final, formatter_string) # convertimos de string a fecha\n",
    "date_object = datetime_object.date()\n",
    "date = date_object + relativedelta(months=1)\n",
    "\n",
    "dfDaysFor = dfDays\n",
    "\n",
    "dfDaysAux = dfDays[dfDays['Periodo por días'] <= str(date)]\n",
    "dfDays = dfDaysAux[dfDaysAux['Periodo por días'] >= f_inicio ]\n",
    "listaData = dfDays.values.tolist()\n",
    "dfDays = pd.DataFrame(listaData,columns=['Periodo por días', 'Precio Real Max'])\n",
    "\n",
    "# Seleccionamos el rango de días para predecir en la evaluación\n",
    "\n",
    "datetime_object = datetime.datetime.strptime(f_final, formatter_string) # convertimos de string a fecha\n",
    "date_object = datetime_object.date()\n",
    "date = date_object + relativedelta(months=posteriores)\n",
    "\n",
    "dfDaysAux = dfDaysFor[dfDaysFor['Periodo por días'] <= str(date)]\n",
    "dfDaysFor = dfDaysAux[dfDaysAux['Periodo por días'] > f_final ]\n",
    "listaData = dfDaysFor.values.tolist()\n",
    "dfDaysFor = pd.DataFrame(listaData,columns=['Periodo por días', 'Precio Real Max'])"
   ]
  },
  {
   "cell_type": "code",
   "execution_count": 13,
   "metadata": {
    "collapsed": true
   },
   "outputs": [],
   "source": [
    "# Preprocesado por meses para Entrenamiento\n",
    "\n",
    "listDays = dfDays.values.tolist() \n",
    "\n",
    "listMonths = []\n",
    "\n",
    "listJan = []\n",
    "listFeb = []\n",
    "listMar = []\n",
    "listApr = []\n",
    "listMay = []\n",
    "listJun = []\n",
    "listJul = []\n",
    "listAug = []\n",
    "listSep = []\n",
    "listOct = []\n",
    "listNov = []\n",
    "listDec = []\n",
    "for d in listDays:\n",
    "    day = d[0]\n",
    "    if(day[5:7] == \"01\"):\n",
    "        listJan.append(d[1])\n",
    "    if(day[5:7] == \"02\"):\n",
    "        listFeb.append(d[1])\n",
    "    if(day[5:7] == \"03\"):\n",
    "        listMar.append(d[1])\n",
    "    if(day[5:7] == \"04\"):\n",
    "        listApr.append(d[1])\n",
    "    if(day[5:7] == \"05\"):\n",
    "        listMay.append(d[1])\n",
    "    if(day[5:7] == \"06\"):\n",
    "        listJun.append(d[1])\n",
    "    if(day[5:7] == \"07\"):\n",
    "        listJul.append(d[1])\n",
    "    if(day[5:7] == \"08\"):\n",
    "        listAug.append(d[1])\n",
    "    if(day[5:7] == \"09\"):\n",
    "        listSep.append(d[1])\n",
    "    if(day[5:7] == \"10\"):\n",
    "        listOct.append(d[1])\n",
    "    if(day[5:7] == \"11\"):\n",
    "        listNov.append(d[1])\n",
    "    if(day[5:7] == \"12\"):\n",
    "        listDec.append(d[1])\n",
    "\n",
    "if(listJan != []):\n",
    "    listAux = []\n",
    "    listAux.append(\"Enero\")\n",
    "    listAux.append(round(max(listJan),4))\n",
    "    listMonths.append(listAux)\n",
    "if(listFeb != []):\n",
    "    listAux = []\n",
    "    listAux.append(\"Febrero\")\n",
    "    listAux.append(round(max(listFeb),4))\n",
    "    listMonths.append(listAux)\n",
    "if(listMar != []):\n",
    "    listAux = []\n",
    "    listAux.append(\"Marzo\")\n",
    "    listAux.append(round(max(listMar),4))\n",
    "    listMonths.append(listAux)\n",
    "if(listApr != []):\n",
    "    listAux = []\n",
    "    listAux.append(\"Abril\")\n",
    "    listAux.append(round(max(listApr),4))\n",
    "    listMonths.append(listAux)\n",
    "if(listMay != []):\n",
    "    listAux = []\n",
    "    listAux.append(\"Mayo\")\n",
    "    listAux.append(round(max(listMay),4))\n",
    "    listMonths.append(listAux)\n",
    "if(listJun != []):\n",
    "    listAux = []\n",
    "    listAux.append(\"Junio\")\n",
    "    listAux.append(round(max(listJun),4))\n",
    "    listMonths.append(listAux)\n",
    "if(listJul != []):\n",
    "    listAux = []\n",
    "    listAux.append(\"Julio\")\n",
    "    listAux.append(round(max(listJul),4))\n",
    "    listMonths.append(listAux)\n",
    "if(listAug != []):\n",
    "    listAux = []\n",
    "    listAux.append(\"Agosto\")\n",
    "    listAux.append(round(max(listAug),4))\n",
    "    listMonths.append(listAux)\n",
    "if(listSep != []):\n",
    "    listAux = []\n",
    "    listAux.append(\"Septiembre\")\n",
    "    listAux.append(round(max(listSep),4))\n",
    "    listMonths.append(listAux)\n",
    "if(listOct != []):\n",
    "    listAux = []\n",
    "    listAux.append(\"Octubre\")\n",
    "    listAux.append(round(max(listOct),4))\n",
    "    listMonths.append(listAux)\n",
    "if(listNov != []):\n",
    "    listAux = []\n",
    "    listAux.append(\"Noviembre\")\n",
    "    listAux.append(round(max(listNov),4))\n",
    "    listMonths.append(listAux)\n",
    "if(listDec != []):\n",
    "    listAux = []\n",
    "    listAux.append(\"Diciembre\")\n",
    "    listAux.append(round(max(listDec),4))\n",
    "    listMonths.append(listAux)\n",
    "      \n",
    "dfMonths = pd.DataFrame(columns=['Periodo por meses', 'Precio Real Max'])\n",
    "\n",
    "i = 0\n",
    "for p in listMonths:\n",
    "    dfMonths.loc[i]=[p[0],p[1]]\n",
    "    i = i + 1"
   ]
  },
  {
   "cell_type": "code",
   "execution_count": 14,
   "metadata": {
    "collapsed": true
   },
   "outputs": [],
   "source": [
    "# Preprocesado por meses para Evaluación\n",
    "\n",
    "listDaysFor = dfDaysFor.values.tolist() \n",
    "\n",
    "listMonths = []\n",
    "\n",
    "listJan = []\n",
    "listFeb = []\n",
    "listMar = []\n",
    "listApr = []\n",
    "listMay = []\n",
    "listJun = []\n",
    "listJul = []\n",
    "listAug = []\n",
    "listSep = []\n",
    "listOct = []\n",
    "listNov = []\n",
    "listDec = []\n",
    "for d in listDaysFor:\n",
    "    day = d[0]\n",
    "    if(day[5:7] == \"01\"):\n",
    "        listJan.append(d[1])\n",
    "    if(day[5:7] == \"02\"):\n",
    "        listFeb.append(d[1])\n",
    "    if(day[5:7] == \"03\"):\n",
    "        listMar.append(d[1])\n",
    "    if(day[5:7] == \"04\"):\n",
    "        listApr.append(d[1])\n",
    "    if(day[5:7] == \"05\"):\n",
    "        listMay.append(d[1])\n",
    "    if(day[5:7] == \"06\"):\n",
    "        listJun.append(d[1])\n",
    "    if(day[5:7] == \"07\"):\n",
    "        listJul.append(d[1])\n",
    "    if(day[5:7] == \"08\"):\n",
    "        listAug.append(d[1])\n",
    "    if(day[5:7] == \"09\"):\n",
    "        listSep.append(d[1])\n",
    "    if(day[5:7] == \"10\"):\n",
    "        listOct.append(d[1])\n",
    "    if(day[5:7] == \"11\"):\n",
    "        listNov.append(d[1])\n",
    "    if(day[5:7] == \"12\"):\n",
    "        listDec.append(d[1])\n",
    "\n",
    "if(listJan != []):\n",
    "    listAux = []\n",
    "    listAux.append(\"Enero\")\n",
    "    listAux.append(round(max(listJan),4))\n",
    "    listMonths.append(listAux)\n",
    "if(listFeb != []):\n",
    "    listAux = []\n",
    "    listAux.append(\"Febrero\")\n",
    "    listAux.append(round(max(listFeb),4))\n",
    "    listMonths.append(listAux)\n",
    "if(listMar != []):\n",
    "    listAux = []\n",
    "    listAux.append(\"Marzo\")\n",
    "    listAux.append(round(max(listMar),4))\n",
    "    listMonths.append(listAux)\n",
    "if(listApr != []):\n",
    "    listAux = []\n",
    "    listAux.append(\"Abril\")\n",
    "    listAux.append(round(max(listApr),4))\n",
    "    listMonths.append(listAux)\n",
    "if(listMay != []):\n",
    "    listAux = []\n",
    "    listAux.append(\"Mayo\")\n",
    "    listAux.append(round(max(listMay),4))\n",
    "    listMonths.append(listAux)\n",
    "if(listJun != []):\n",
    "    listAux = []\n",
    "    listAux.append(\"Junio\")\n",
    "    listAux.append(round(max(listJun),4))\n",
    "    listMonths.append(listAux)\n",
    "if(listJul != []):\n",
    "    listAux = []\n",
    "    listAux.append(\"Julio\")\n",
    "    listAux.append(round(max(listJul),4))\n",
    "    listMonths.append(listAux)\n",
    "if(listAug != []):\n",
    "    listAux = []\n",
    "    listAux.append(\"Agosto\")\n",
    "    listAux.append(round(max(listAug),4))\n",
    "    listMonths.append(listAux)\n",
    "if(listSep != []):\n",
    "    listAux = []\n",
    "    listAux.append(\"Septiembre\")\n",
    "    listAux.append(round(max(listSep),4))\n",
    "    listMonths.append(listAux)\n",
    "if(listOct != []):\n",
    "    listAux = []\n",
    "    listAux.append(\"Octubre\")\n",
    "    listAux.append(round(max(listOct),4))\n",
    "    listMonths.append(listAux)\n",
    "if(listNov != []):\n",
    "    listAux = []\n",
    "    listAux.append(\"Noviembre\")\n",
    "    listAux.append(round(max(listNov),4))\n",
    "    listMonths.append(listAux)\n",
    "if(listDec != []):\n",
    "    listAux = []\n",
    "    listAux.append(\"Diciembre\")\n",
    "    listAux.append(round(max(listDec),4))\n",
    "    listMonths.append(listAux)\n",
    "      \n",
    "dfMonthsFor = pd.DataFrame(columns=['Periodo por meses', 'Precio Real Max'])\n",
    "\n",
    "i = 0\n",
    "\n",
    "for p in listMonths:\n",
    "    dfMonthsFor.loc[i]=[p[0],p[1]]\n",
    "    i = i + 1"
   ]
  },
  {
   "cell_type": "markdown",
   "metadata": {},
   "source": [
    "-------------------------------------------------------------------------------------------------------------------------------"
   ]
  },
  {
   "cell_type": "markdown",
   "metadata": {},
   "source": [
    "# 4. Simple Exponential Smoothing - Entrenamiento para Meses"
   ]
  },
  {
   "cell_type": "code",
   "execution_count": 15,
   "metadata": {
    "collapsed": true
   },
   "outputs": [],
   "source": [
    "# Algoritmo Simple Exponential Smoothing\n",
    "\n",
    "def exp_smoothing(Precios,alpha):\n",
    "    listaPrecios=Precios.values.tolist()\n",
    "    Auxlist = []\n",
    "    first = True\n",
    "    index = 0\n",
    "    for i in listaPrecios:\n",
    "        if (first):\n",
    "            Auxlist.append(i)\n",
    "            first = False\n",
    "            index = index + 1\n",
    "        else:\n",
    "            estimado=round(Auxlist[index-1] + alpha * (listaPrecios[index-1] - Auxlist[index-1]),4)\n",
    "            Auxlist.append(estimado)\n",
    "            index = index + 1\n",
    "    Auxlist.pop()\n",
    "    return Auxlist"
   ]
  },
  {
   "cell_type": "code",
   "execution_count": 16,
   "metadata": {
    "collapsed": true
   },
   "outputs": [],
   "source": [
    "smoothing=exp_smoothing(dfMonths['Precio Real Max'],alpha)"
   ]
  },
  {
   "cell_type": "markdown",
   "metadata": {},
   "source": [
    "### 4.1 Conjunto de Entrenamiento"
   ]
  },
  {
   "cell_type": "code",
   "execution_count": 17,
   "metadata": {
    "scrolled": true
   },
   "outputs": [
    {
     "data": {
      "text/html": [
       "<div>\n",
       "<style>\n",
       "    .dataframe thead tr:only-child th {\n",
       "        text-align: right;\n",
       "    }\n",
       "\n",
       "    .dataframe thead th {\n",
       "        text-align: left;\n",
       "    }\n",
       "\n",
       "    .dataframe tbody tr th {\n",
       "        vertical-align: top;\n",
       "    }\n",
       "</style>\n",
       "<table border=\"1\" class=\"dataframe\">\n",
       "  <thead>\n",
       "    <tr style=\"text-align: right;\">\n",
       "      <th></th>\n",
       "      <th>Periodo por meses</th>\n",
       "      <th>Precio Real Max</th>\n",
       "      <th>Precio Estimado Max</th>\n",
       "    </tr>\n",
       "  </thead>\n",
       "  <tbody>\n",
       "    <tr>\n",
       "      <th>0</th>\n",
       "      <td>Febrero</td>\n",
       "      <td>0.4027</td>\n",
       "      <td>0.4027</td>\n",
       "    </tr>\n",
       "    <tr>\n",
       "      <th>1</th>\n",
       "      <td>Marzo</td>\n",
       "      <td>0.4490</td>\n",
       "      <td>0.4027</td>\n",
       "    </tr>\n",
       "    <tr>\n",
       "      <th>2</th>\n",
       "      <td>Abril</td>\n",
       "      <td>0.3357</td>\n",
       "      <td>0.4330</td>\n",
       "    </tr>\n",
       "    <tr>\n",
       "      <th>3</th>\n",
       "      <td>Mayo</td>\n",
       "      <td>0.3342</td>\n",
       "      <td>0.3692</td>\n",
       "    </tr>\n",
       "    <tr>\n",
       "      <th>4</th>\n",
       "      <td>Junio</td>\n",
       "      <td>0.3297</td>\n",
       "      <td>0.3463</td>\n",
       "    </tr>\n",
       "    <tr>\n",
       "      <th>5</th>\n",
       "      <td>Julio</td>\n",
       "      <td>0.3196</td>\n",
       "      <td>0.3354</td>\n",
       "    </tr>\n",
       "  </tbody>\n",
       "</table>\n",
       "</div>"
      ],
      "text/plain": [
       "  Periodo por meses  Precio Real Max  Precio Estimado Max\n",
       "0           Febrero           0.4027               0.4027\n",
       "1             Marzo           0.4490               0.4027\n",
       "2             Abril           0.3357               0.4330\n",
       "3              Mayo           0.3342               0.3692\n",
       "4             Junio           0.3297               0.3463\n",
       "5             Julio           0.3196               0.3354"
      ]
     },
     "execution_count": 17,
     "metadata": {},
     "output_type": "execute_result"
    }
   ],
   "source": [
    "dfMonths1 = pd.DataFrame(columns=['Precio Estimado Max'])\n",
    "dfReal = dfMonths['Precio Real Max']\n",
    "\n",
    "# Exponential Smoothing\n",
    "Months = smoothing\n",
    "\n",
    "for i in Months:\n",
    "    dfMonths1.loc[len(dfMonths1)]=[i]\n",
    "    \n",
    "dfMonths = pd.concat([dfMonths, dfMonths1], axis=1)\n",
    "dfMonths = dfMonths.dropna() # eliminamos los valores nan anteriores que solo nos sirven para hacer el cálculo\n",
    "dfMonths = dfMonths.reset_index(drop=True)\n",
    "\n",
    "dfAux = pd.DataFrame(columns=['Periodo por meses','Precio Real Max','Precio Estimado Max'])\n",
    "\n",
    "dfMonthsFor['Precio Estimado Max'] = 'NaN'\n",
    "\n",
    "# Predicción para la Evaluación\n",
    "\n",
    "listMonthsForecast = dfMonthsFor.values.tolist()\n",
    "listMonths = dfMonths.values.tolist()\n",
    "lastPrice = listMonths[len(listMonths)-1]\n",
    "priceAuxReal = lastPrice[1]\n",
    "priceAuxFor = lastPrice[2]\n",
    "for i in listMonthsForecast:\n",
    "    i[2] = round(priceAuxReal * alpha + ((1-alpha)*priceAuxFor),4)\n",
    "    priceAuxFor = i[2]\n",
    "    \n",
    "dfMonthsForecastAux = pd.DataFrame(listMonthsForecast, columns=['Periodo por meses','Precio Real Max','Precio Estimado Max'])\n",
    "dfForecast = dfMonthsForecastAux\n",
    "dfTrain = dfMonths\n",
    "dfTrain"
   ]
  },
  {
   "cell_type": "code",
   "execution_count": 18,
   "metadata": {
    "collapsed": true
   },
   "outputs": [],
   "source": [
    "dfTrain.to_csv('tablaEntrenamientoSimpleMeses.csv')"
   ]
  },
  {
   "cell_type": "markdown",
   "metadata": {},
   "source": [
    "### 4.2 Error Cuadrático Medio  (MSE) para Entrenamiento"
   ]
  },
  {
   "cell_type": "code",
   "execution_count": 19,
   "metadata": {},
   "outputs": [
    {
     "data": {
      "text/plain": [
       "0.0022268633333333327"
      ]
     },
     "execution_count": 19,
     "metadata": {},
     "output_type": "execute_result"
    }
   ],
   "source": [
    "mean_squared_error(dfMonths['Precio Real Max'], dfMonths['Precio Estimado Max'])"
   ]
  },
  {
   "cell_type": "markdown",
   "metadata": {},
   "source": [
    "---------------------------------------------------------------------------------------------------------------------------"
   ]
  },
  {
   "cell_type": "markdown",
   "metadata": {},
   "source": [
    "# 5. Simple Exponential Smoothing - Evaluación del modelo"
   ]
  },
  {
   "cell_type": "code",
   "execution_count": 20,
   "metadata": {
    "collapsed": true
   },
   "outputs": [],
   "source": [
    "listForecast = dfForecast.values.tolist()\n",
    "\n",
    "listPricesReal = []\n",
    "listPricesForecast = []\n",
    "\n",
    "# Sacamos el precio máximo predicho (El que consideramos como Predicho)\n",
    "for i in listForecast:\n",
    "    listPricesForecast.append(i[2])\n",
    "\n",
    "priceMaxForecast = max(listPricesForecast)\n",
    "\n",
    "# Sacamos el precio máximo real para la evaluación\n",
    "for i in listForecast:\n",
    "    listPricesReal.append(i[1])\n",
    "    \n",
    "priceMaxReal = max(listPricesReal)\n"
   ]
  },
  {
   "cell_type": "markdown",
   "metadata": {},
   "source": [
    "### 5.1 Conjunto de Test"
   ]
  },
  {
   "cell_type": "code",
   "execution_count": 21,
   "metadata": {
    "collapsed": true
   },
   "outputs": [],
   "source": [
    "# Definimos un color rojo para los valores predichos para distinguirlos\n",
    "def colorForecastRed(value):\n",
    "    color = 'red'\n",
    "    return 'color: %s' % color"
   ]
  },
  {
   "cell_type": "code",
   "execution_count": 22,
   "metadata": {},
   "outputs": [
    {
     "data": {
      "text/html": [
       "<style  type=\"text/css\" >\n",
       "    #T_fafd88d0_f0a0_11e8_8a5e_b8868746ee00row0_col0 {\n",
       "            color:  red;\n",
       "        }    #T_fafd88d0_f0a0_11e8_8a5e_b8868746ee00row0_col1 {\n",
       "            color:  red;\n",
       "        }    #T_fafd88d0_f0a0_11e8_8a5e_b8868746ee00row0_col2 {\n",
       "            color:  red;\n",
       "        }    #T_fafd88d0_f0a0_11e8_8a5e_b8868746ee00row1_col0 {\n",
       "            color:  red;\n",
       "        }    #T_fafd88d0_f0a0_11e8_8a5e_b8868746ee00row1_col1 {\n",
       "            color:  red;\n",
       "        }    #T_fafd88d0_f0a0_11e8_8a5e_b8868746ee00row1_col2 {\n",
       "            color:  red;\n",
       "        }</style>  \n",
       "<table id=\"T_fafd88d0_f0a0_11e8_8a5e_b8868746ee00\" > \n",
       "<thead>    <tr> \n",
       "        <th class=\"blank level0\" ></th> \n",
       "        <th class=\"col_heading level0 col0\" >Periodo por meses</th> \n",
       "        <th class=\"col_heading level0 col1\" >Precio Real Max</th> \n",
       "        <th class=\"col_heading level0 col2\" >Precio Estimado Max</th> \n",
       "    </tr></thead> \n",
       "<tbody>    <tr> \n",
       "        <th id=\"T_fafd88d0_f0a0_11e8_8a5e_b8868746ee00level0_row0\" class=\"row_heading level0 row0\" >0</th> \n",
       "        <td id=\"T_fafd88d0_f0a0_11e8_8a5e_b8868746ee00row0_col0\" class=\"data row0 col0\" >Agosto</td> \n",
       "        <td id=\"T_fafd88d0_f0a0_11e8_8a5e_b8868746ee00row0_col1\" class=\"data row0 col1\" >0.3196</td> \n",
       "        <td id=\"T_fafd88d0_f0a0_11e8_8a5e_b8868746ee00row0_col2\" class=\"data row0 col2\" >0.325</td> \n",
       "    </tr>    <tr> \n",
       "        <th id=\"T_fafd88d0_f0a0_11e8_8a5e_b8868746ee00level0_row1\" class=\"row_heading level0 row1\" >1</th> \n",
       "        <td id=\"T_fafd88d0_f0a0_11e8_8a5e_b8868746ee00row1_col0\" class=\"data row1 col0\" >Septiembre</td> \n",
       "        <td id=\"T_fafd88d0_f0a0_11e8_8a5e_b8868746ee00row1_col1\" class=\"data row1 col1\" >0.3196</td> \n",
       "        <td id=\"T_fafd88d0_f0a0_11e8_8a5e_b8868746ee00row1_col2\" class=\"data row1 col2\" >0.3215</td> \n",
       "    </tr></tbody> \n",
       "</table> "
      ],
      "text/plain": [
       "<pandas.io.formats.style.Styler at 0x2543decf0f0>"
      ]
     },
     "execution_count": 22,
     "metadata": {},
     "output_type": "execute_result"
    }
   ],
   "source": [
    "dfFinalStyle = dfForecast.style.applymap(colorForecastRed)\n",
    "dfTest = dfForecast\n",
    "dfFinalStyle"
   ]
  },
  {
   "cell_type": "code",
   "execution_count": 23,
   "metadata": {
    "collapsed": true
   },
   "outputs": [],
   "source": [
    "dfTest.to_csv('tablaTestSimpleMeses.csv')"
   ]
  },
  {
   "cell_type": "markdown",
   "metadata": {},
   "source": [
    "### 5.2 Pronóstico"
   ]
  },
  {
   "cell_type": "code",
   "execution_count": 24,
   "metadata": {},
   "outputs": [
    {
     "name": "stdout",
     "output_type": "stream",
     "text": [
      "El pronóstico ha sido óptimo, 0.325 es mayor o igual que 0.3196\n"
     ]
    }
   ],
   "source": [
    "if(priceMaxForecast >= priceMaxReal):\n",
    "    print(\"El pronóstico ha sido óptimo, \" + str(priceMaxForecast) + \" es mayor o igual que \" + str(priceMaxReal))\n",
    "else:\n",
    "    print(\"El pronóstico no ha sido bueno porque el precio predicho \" + str(priceMaxForecast) + \" es menor que el real \" + str(priceMaxReal))"
   ]
  },
  {
   "cell_type": "markdown",
   "metadata": {},
   "source": [
    "### 5.3 Error Cuadrático Medio (MSE) para Test"
   ]
  },
  {
   "cell_type": "code",
   "execution_count": 25,
   "metadata": {},
   "outputs": [
    {
     "data": {
      "text/plain": [
       "1.6385000000000108e-05"
      ]
     },
     "execution_count": 25,
     "metadata": {},
     "output_type": "execute_result"
    }
   ],
   "source": [
    "mean_squared_error(dfForecast['Precio Real Max'], dfForecast['Precio Estimado Max'])"
   ]
  },
  {
   "cell_type": "code",
   "execution_count": 26,
   "metadata": {
    "collapsed": true
   },
   "outputs": [],
   "source": [
    "#Dejamos en un csv los datos\n",
    "\n",
    "dfFinalGraphic = pd.concat([dfMonths, dfForecast])\n",
    "dfFinalGraphic.to_csv('graficaSimpleMeses.csv')"
   ]
  }
 ],
 "metadata": {
  "kernelspec": {
   "display_name": "Python 3",
   "language": "python",
   "name": "python3"
  },
  "language_info": {
   "codemirror_mode": {
    "name": "ipython",
    "version": 3
   },
   "file_extension": ".py",
   "mimetype": "text/x-python",
   "name": "python",
   "nbconvert_exporter": "python",
   "pygments_lexer": "ipython3",
   "version": "3.6.3"
  }
 },
 "nbformat": 4,
 "nbformat_minor": 1
}
