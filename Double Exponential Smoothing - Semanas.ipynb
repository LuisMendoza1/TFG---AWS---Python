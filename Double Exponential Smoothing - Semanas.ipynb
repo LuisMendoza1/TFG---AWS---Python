{
 "cells": [
  {
   "cell_type": "markdown",
   "metadata": {},
   "source": [
    "# Double Exponential Smoothing - Semanas\n"
   ]
  },
  {
   "cell_type": "markdown",
   "metadata": {},
   "source": [
    "## Realizado por: Luis Mendoza Montero"
   ]
  },
  {
   "cell_type": "markdown",
   "metadata": {},
   "source": [
    "1. **Cargar paquetes**\n",
    "2. **Selección de Parámetros**\n",
    "3. **Preprocesado de datos para las Semanas**\n",
    "4. **Double Exponential Smoothing - Entrenamiento para Semanas**\n",
    "    - 4.1 ***Conjunto de Entrenamiento***\n",
    "    - 4.2 ***Error Cuadrático Medio (MSE) para Entrenamiento***\n",
    "    ---    \n",
    "5. **Double Exponential Smoothing - Evaluación del modelo**\n",
    "    - 5.1 ***Conjunto de Test***\n",
    "    - 5.2 ***Pronóstico***\n",
    "    - 5.3 ***Error Cuadrático Medio (MSE) para Test***\n",
    "\n"
   ]
  },
  {
   "cell_type": "markdown",
   "metadata": {},
   "source": [
    "# 1. Cargar paquetes"
   ]
  },
  {
   "cell_type": "code",
   "execution_count": 1,
   "metadata": {
    "collapsed": true
   },
   "outputs": [],
   "source": [
    "import sqlite3\n",
    "import csv\n",
    "import sys\n",
    "import numpy as np\n",
    "import random\n",
    "import pandas as pd\n",
    "from glob import glob; from os.path import expanduser\n",
    "from datetime import datetime, date, time, timedelta\n",
    "import calendar\n",
    "%matplotlib inline\n",
    "from pylab import *\n",
    "import matplotlib.pyplot as plt\n",
    "from sklearn.metrics import mean_squared_error\n",
    "from sklearn.metrics import mean_absolute_error"
   ]
  },
  {
   "cell_type": "markdown",
   "metadata": {},
   "source": [
    "--------------------------------------------------------------------------------------------------------------------------------"
   ]
  },
  {
   "cell_type": "markdown",
   "metadata": {},
   "source": [
    "# 2. Selección de Parámetros"
   ]
  },
  {
   "cell_type": "markdown",
   "metadata": {},
   "source": [
    "### Seleccionar region y categoría (tabla de la BBDD)"
   ]
  },
  {
   "cell_type": "code",
   "execution_count": 2,
   "metadata": {
    "collapsed": true
   },
   "outputs": [],
   "source": [
    "region = \"'M4_us_east_2'\""
   ]
  },
  {
   "cell_type": "markdown",
   "metadata": {},
   "source": [
    "### Seleccionar tipo de Sistema Operativo"
   ]
  },
  {
   "cell_type": "markdown",
   "metadata": {},
   "source": [
    "Existes 3 tipos de sistemas: ***Windows, Linux/UNIX o SUSE Linux***"
   ]
  },
  {
   "cell_type": "code",
   "execution_count": 3,
   "metadata": {
    "collapsed": true
   },
   "outputs": [],
   "source": [
    "sistema = \"Linux/UNIX\""
   ]
  },
  {
   "cell_type": "markdown",
   "metadata": {},
   "source": [
    "Sacamos las zonas de disponibilidad, los sistemas operativos y las fechas de las instancias"
   ]
  },
  {
   "cell_type": "code",
   "execution_count": 4,
   "metadata": {
    "collapsed": true
   },
   "outputs": [],
   "source": [
    "# Conectar con la base de datos\n",
    "with sqlite3.connect(\"BBDD.db\") as connection:\n",
    "    \n",
    "    # Sacamos el tipo de istancia (nombre + familia)\n",
    "    instances = pd.read_sql(\"SELECT DISTINCT InstanceType FROM \"+region+\";\", connection) \n",
    "    instances_list = instances.values.tolist()\n",
    "    del instances_list[0]\n",
    "    \n",
    "    for inst in instances_list:\n",
    "        instance=inst[0] # En la variable instance tenemos el tipo de instancia\n",
    "    \n",
    "    # Sacamos las zonas de disponibilidad\n",
    "    zones = pd.read_sql(\"SELECT DISTINCT AvailabilityZone FROM \"+region+\";\", connection) \n",
    "    zones_list = zones.values.tolist()\n",
    "    del zones_list[0]\n",
    "    \n",
    "    listaRegiones = []\n",
    "    for zone in zones_list:\n",
    "        for zo in zone:\n",
    "            listaRegiones.append(zo) # Lista de zonas en la región\n",
    "    \n",
    "    # Para cada zona y SO indicado sacamos el dia, el mes y el año\n",
    "    for zona in listaRegiones: \n",
    "        #for sistema in listaSistemas:\n",
    "        dates = pd.read_sql(\"SELECT DISTINCT SUBSTR(Timestamp, 1, 10) FROM \"+region+\"WHERE AvailabilityZone = '\"+zona+\"'AND Description = '\"+sistema+\"';\", connection)\n",
    "        dates_list = dates.values.tolist()\n",
    "    \n",
    "    listaFechas = []\n",
    "    for date in dates_list:\n",
    "        for da in date:\n",
    "            listaFechas.append(da) # Lista de fechas en cada zona y SO\n",
    "\n",
    "# Cerrar la conexión siempre\n",
    "connection.close()"
   ]
  },
  {
   "cell_type": "markdown",
   "metadata": {},
   "source": [
    "### Seleccionar Zona de Disponibilidad"
   ]
  },
  {
   "cell_type": "markdown",
   "metadata": {},
   "source": [
    "Elegir entre una de las siguientes zonas de disponibilidad:"
   ]
  },
  {
   "cell_type": "code",
   "execution_count": 5,
   "metadata": {},
   "outputs": [
    {
     "name": "stdout",
     "output_type": "stream",
     "text": [
      "['us-east-2a', 'us-east-2b', 'us-east-2c']\n"
     ]
    }
   ],
   "source": [
    "print(listaRegiones)"
   ]
  },
  {
   "cell_type": "code",
   "execution_count": 6,
   "metadata": {
    "collapsed": true
   },
   "outputs": [],
   "source": [
    "zona = \"us-east-2a\""
   ]
  },
  {
   "cell_type": "markdown",
   "metadata": {},
   "source": [
    "### Seleccionar Fecha Inicio y Fin"
   ]
  },
  {
   "cell_type": "code",
   "execution_count": 7,
   "metadata": {
    "collapsed": true
   },
   "outputs": [],
   "source": [
    "f_inicio = '2018-06-01'\n",
    "f_final = '2018-08-16'"
   ]
  },
  {
   "cell_type": "markdown",
   "metadata": {},
   "source": [
    "### Alpha"
   ]
  },
  {
   "cell_type": "code",
   "execution_count": 8,
   "metadata": {
    "collapsed": true
   },
   "outputs": [],
   "source": [
    "alpha = 0.872091813621157"
   ]
  },
  {
   "cell_type": "markdown",
   "metadata": {},
   "source": [
    "### Beta"
   ]
  },
  {
   "cell_type": "code",
   "execution_count": 9,
   "metadata": {
    "collapsed": true
   },
   "outputs": [],
   "source": [
    "beta = 0.585541758085549"
   ]
  },
  {
   "cell_type": "markdown",
   "metadata": {},
   "source": [
    "### Semanas posteriores a predecir"
   ]
  },
  {
   "cell_type": "code",
   "execution_count": 10,
   "metadata": {
    "collapsed": true
   },
   "outputs": [],
   "source": [
    "posteriores = 4"
   ]
  },
  {
   "cell_type": "markdown",
   "metadata": {},
   "source": [
    "--------------------------------------------------------------------------------------------------------------------------------"
   ]
  },
  {
   "cell_type": "markdown",
   "metadata": {},
   "source": [
    "# 3. Preprocesado de datos para las Semanas"
   ]
  },
  {
   "cell_type": "code",
   "execution_count": 11,
   "metadata": {
    "collapsed": true
   },
   "outputs": [],
   "source": [
    "# Preprocesamos por horas\n",
    "\n",
    "# Conectar con la base de datos, si no existe la crea automáticamente\n",
    "conexion = sqlite3.connect(\"BBDD.db\")\n",
    "    \n",
    "# Para poder ejecutar código SQL, tenemos que crear un cursor primero, el nombre de la tabla será la familia de las categorías\n",
    "cursor = conexion.cursor()\n",
    "cursor.execute(\"DROP TABLE IF EXISTS Preprocesados;\")\n",
    "cursor.execute(\"CREATE TABLE IF NOT EXISTS Preprocesados (AvailabilityZone VARCHAR(100), Description VARCHAR(100), InstanceType VARCHAR(100), SpotPrice FLOAT(8,4), Timestamp Datetime, PRIMARY KEY('AvailabilityZone','InstanceType','Timestamp','Description'))\")\n",
    "\n",
    "# Insertamos los nombre de los atributos para que se tenga en cuenta en formato csv\n",
    "cursor.execute(\"INSERT OR IGNORE INTO Preprocesados VALUES ('AvailabilityZone','Description','InstanceType','SpotPrice','Timestamp');\")      \n",
    "\n",
    "lista = [] # variable auxiliar por si no hay precios en algunas horas para meter el anterior mayor\n",
    "lista.append(0.0)\n",
    "aux = '0'\n",
    "#for zona in listaRegiones:\n",
    "for fecha in listaFechas:\n",
    "            \n",
    "            # Para las 00:00:00\n",
    "            price = pd.read_sql(\"SELECT MAX(SpotPrice) FROM \"+region+\"WHERE SpotPrice<>'SpotPrice' AND AvailabilityZone='\"+zona+\"' AND Description = '\"+sistema+\"' AND Timestamp >='\"+fecha+\"T00:00:00.000z' AND Timestamp <='\"+fecha+\"T00:59:59.000z';\",conexion)\n",
    "            precios = price.values.tolist()\n",
    "            for prec in precios:\n",
    "                precio = str(prec[0])\n",
    "            if precio == 'None':\n",
    "                cursor.execute(\"INSERT OR IGNORE INTO Preprocesados VALUES (\"+\"'\"+zona+\"',\"+\"'\"+sistema+\"','\"+instance+\"','\"+aux+\"','\"+fecha+\"T00:00:00.000Z');\")\n",
    "            elif precio != 'None':\n",
    "                cursor.execute(\"INSERT OR IGNORE INTO Preprocesados VALUES (\"+\"'\"+zona+\"',\"+\"'\"+sistema+\"','\"+instance+\"','\"+precio+\"','\"+fecha+\"T00:00:00.000Z');\")\n",
    "                aux = str(precio)\n",
    "                \n",
    "            # Para las 01:00:00\n",
    "            price = pd.read_sql(\"SELECT MAX(SpotPrice) FROM \"+region+\"WHERE SpotPrice<>'SpotPrice' AND AvailabilityZone='\"+zona+\"' AND Description = '\"+sistema+\"' AND Timestamp >='\"+fecha+\"T01:00:00.000z' AND Timestamp <='\"+fecha+\"T01:59:59.000z';\",conexion)\n",
    "            precios = price.values.tolist()\n",
    "            for prec in precios:\n",
    "                precio = str(prec[0])\n",
    "            if precio == 'None':\n",
    "                cursor.execute(\"INSERT OR IGNORE INTO Preprocesados VALUES (\"+\"'\"+zona+\"',\"+\"'\"+sistema+\"','\"+instance+\"','\"+aux+\"','\"+fecha+\"T01:00:00.000Z');\")\n",
    "            elif precio != 'None':\n",
    "                cursor.execute(\"INSERT OR IGNORE INTO Preprocesados VALUES (\"+\"'\"+zona+\"',\"+\"'\"+sistema+\"','\"+instance+\"','\"+precio+\"','\"+fecha+\"T01:00:00.000Z');\")\n",
    "                aux = str(precio)\n",
    "           \n",
    "            # Para las 02:00:00\n",
    "            price = pd.read_sql(\"SELECT MAX(SpotPrice) FROM \"+region+\"WHERE SpotPrice<>'SpotPrice' AND AvailabilityZone='\"+zona+\"' AND Description = '\"+sistema+\"' AND Timestamp >='\"+fecha+\"T02:00:00.000z' AND Timestamp <='\"+fecha+\"T02:59:59.000z';\",conexion)\n",
    "            precios = price.values.tolist()\n",
    "            for prec in precios:\n",
    "                precio = str(prec[0])\n",
    "            if precio == 'None':\n",
    "                cursor.execute(\"INSERT OR IGNORE INTO Preprocesados VALUES (\"+\"'\"+zona+\"',\"+\"'\"+sistema+\"','\"+instance+\"','\"+aux+\"','\"+fecha+\"T02:00:00.000Z');\")\n",
    "            elif precio != 'None':\n",
    "                cursor.execute(\"INSERT OR IGNORE INTO Preprocesados VALUES (\"+\"'\"+zona+\"',\"+\"'\"+sistema+\"','\"+instance+\"','\"+precio+\"','\"+fecha+\"T02:00:00.000Z');\")\n",
    "                aux = str(precio)\n",
    "\n",
    "                \n",
    "            # Para las 03:00:00\n",
    "            price = pd.read_sql(\"SELECT MAX(SpotPrice) FROM \"+region+\"WHERE SpotPrice<>'SpotPrice' AND AvailabilityZone='\"+zona+\"' AND Description = '\"+sistema+\"' AND Timestamp >='\"+fecha+\"T03:00:00.000z' AND Timestamp <='\"+fecha+\"T03:59:59.000z';\",conexion)\n",
    "            precios = price.values.tolist()\n",
    "            for prec in precios:\n",
    "                precio = str(prec[0])\n",
    "            if precio == 'None':\n",
    "                cursor.execute(\"INSERT OR IGNORE INTO Preprocesados VALUES (\"+\"'\"+zona+\"',\"+\"'\"+sistema+\"','\"+instance+\"','\"+aux+\"','\"+fecha+\"T03:00:00.000Z');\")\n",
    "            elif precio != 'None':\n",
    "                cursor.execute(\"INSERT OR IGNORE INTO Preprocesados VALUES (\"+\"'\"+zona+\"',\"+\"'\"+sistema+\"','\"+instance+\"','\"+precio+\"','\"+fecha+\"T03:00:00.000Z');\")\n",
    "                aux = str(precio)\n",
    "    \n",
    "                \n",
    "            # Para las 04:00:00\n",
    "            price = pd.read_sql(\"SELECT MAX(SpotPrice) FROM \"+region+\"WHERE SpotPrice<>'SpotPrice' AND AvailabilityZone='\"+zona+\"' AND Description = '\"+sistema+\"' AND Timestamp >='\"+fecha+\"T04:00:00.000z' AND Timestamp <='\"+fecha+\"T04:59:59.000z';\",conexion)\n",
    "            precios = price.values.tolist()\n",
    "            for prec in precios:\n",
    "                precio = str(prec[0])\n",
    "            if precio == 'None':\n",
    "                cursor.execute(\"INSERT OR IGNORE INTO Preprocesados VALUES (\"+\"'\"+zona+\"',\"+\"'\"+sistema+\"','\"+instance+\"','\"+aux+\"','\"+fecha+\"T04:00:00.000Z');\")\n",
    "            elif precio != 'None':\n",
    "                cursor.execute(\"INSERT OR IGNORE INTO Preprocesados VALUES (\"+\"'\"+zona+\"',\"+\"'\"+sistema+\"','\"+instance+\"','\"+precio+\"','\"+fecha+\"T04:00:00.000Z');\")\n",
    "                aux = str(precio)\n",
    "                    \n",
    "            \n",
    "            # Para las 05:00:00\n",
    "            price = pd.read_sql(\"SELECT MAX(SpotPrice) FROM \"+region+\"WHERE SpotPrice<>'SpotPrice' AND AvailabilityZone='\"+zona+\"' AND Description = '\"+sistema+\"' AND Timestamp >='\"+fecha+\"T05:00:00.000z' AND Timestamp <='\"+fecha+\"T05:59:59.000z';\",conexion)\n",
    "            precios = price.values.tolist()\n",
    "            for prec in precios:\n",
    "                precio = str(prec[0])\n",
    "            if precio == 'None':\n",
    "                cursor.execute(\"INSERT OR IGNORE INTO Preprocesados VALUES (\"+\"'\"+zona+\"',\"+\"'\"+sistema+\"','\"+instance+\"','\"+aux+\"','\"+fecha+\"T05:00:00.000Z');\")\n",
    "            elif precio != 'None':\n",
    "                cursor.execute(\"INSERT OR IGNORE INTO Preprocesados VALUES (\"+\"'\"+zona+\"',\"+\"'\"+sistema+\"','\"+instance+\"','\"+precio+\"','\"+fecha+\"T05:00:00.000Z');\")\n",
    "                aux = str(precio)\n",
    "                    \n",
    "                \n",
    "            # Para las 06:00:00\n",
    "            price = pd.read_sql(\"SELECT MAX(SpotPrice) FROM \"+region+\"WHERE SpotPrice<>'SpotPrice' AND AvailabilityZone='\"+zona+\"' AND Description = '\"+sistema+\"' AND Timestamp >='\"+fecha+\"T06:00:00.000z' AND Timestamp <='\"+fecha+\"T06:59:59.000z';\",conexion)\n",
    "            precios = price.values.tolist()\n",
    "            for prec in precios:\n",
    "                precio = str(prec[0])\n",
    "            if precio == 'None':\n",
    "                cursor.execute(\"INSERT OR IGNORE INTO Preprocesados VALUES (\"+\"'\"+zona+\"',\"+\"'\"+sistema+\"','\"+instance+\"','\"+aux+\"','\"+fecha+\"T06:00:00.000Z');\")\n",
    "            elif precio != 'None':\n",
    "                cursor.execute(\"INSERT OR IGNORE INTO Preprocesados VALUES (\"+\"'\"+zona+\"',\"+\"'\"+sistema+\"','\"+instance+\"','\"+precio+\"','\"+fecha+\"T06:00:00.000Z');\")\n",
    "                aux = str(precio)\n",
    "                    \n",
    "                \n",
    "            # Para las 07:00:00\n",
    "            price = pd.read_sql(\"SELECT MAX(SpotPrice) FROM \"+region+\"WHERE SpotPrice<>'SpotPrice' AND AvailabilityZone='\"+zona+\"' AND Description = '\"+sistema+\"' AND Timestamp >='\"+fecha+\"T07:00:00.000z' AND Timestamp <='\"+fecha+\"T07:59:59.000z';\",conexion)\n",
    "            precios = price.values.tolist()\n",
    "            for prec in precios:\n",
    "                precio = str(prec[0])\n",
    "            if precio == 'None':\n",
    "                cursor.execute(\"INSERT OR IGNORE INTO Preprocesados VALUES (\"+\"'\"+zona+\"',\"+\"'\"+sistema+\"','\"+instance+\"','\"+aux+\"','\"+fecha+\"T07:00:00.000Z');\")\n",
    "            elif precio != 'None':\n",
    "                cursor.execute(\"INSERT OR IGNORE INTO Preprocesados VALUES (\"+\"'\"+zona+\"',\"+\"'\"+sistema+\"','\"+instance+\"','\"+precio+\"','\"+fecha+\"T07:00:00.000Z');\")\n",
    "                aux = str(precio)\n",
    "                    \n",
    "                \n",
    "            # Para las 08:00:00\n",
    "            price = pd.read_sql(\"SELECT MAX(SpotPrice) FROM \"+region+\"WHERE SpotPrice<>'SpotPrice' AND AvailabilityZone='\"+zona+\"' AND Description = '\"+sistema+\"' AND Timestamp >='\"+fecha+\"T08:00:00.000z' AND Timestamp <='\"+fecha+\"T08:59:59.000z';\",conexion)\n",
    "            precios = price.values.tolist()\n",
    "            for prec in precios:\n",
    "                precio = str(prec[0])\n",
    "            if precio == 'None':\n",
    "                cursor.execute(\"INSERT OR IGNORE INTO Preprocesados VALUES (\"+\"'\"+zona+\"',\"+\"'\"+sistema+\"','\"+instance+\"','\"+aux+\"','\"+fecha+\"T08:00:00.000Z');\")\n",
    "            elif precio != 'None':\n",
    "                cursor.execute(\"INSERT OR IGNORE INTO Preprocesados VALUES (\"+\"'\"+zona+\"',\"+\"'\"+sistema+\"','\"+instance+\"','\"+precio+\"','\"+fecha+\"T08:00:00.000Z');\")\n",
    "                aux = str(precio)\n",
    "                    \n",
    "                \n",
    "            # Para las 09:00:00\n",
    "            price = pd.read_sql(\"SELECT MAX(SpotPrice) FROM \"+region+\"WHERE SpotPrice<>'SpotPrice' AND AvailabilityZone='\"+zona+\"' AND Description = '\"+sistema+\"' AND Timestamp >='\"+fecha+\"T09:00:00.000z' AND Timestamp <='\"+fecha+\"T09:59:59.000z';\",conexion)\n",
    "            precios = price.values.tolist()\n",
    "            for prec in precios:\n",
    "                precio = str(prec[0])\n",
    "            if precio == 'None':\n",
    "                cursor.execute(\"INSERT OR IGNORE INTO Preprocesados VALUES (\"+\"'\"+zona+\"',\"+\"'\"+sistema+\"','\"+instance+\"','\"+aux+\"','\"+fecha+\"T09:00:00.000Z');\")\n",
    "            elif precio != 'None':\n",
    "                cursor.execute(\"INSERT OR IGNORE INTO Preprocesados VALUES (\"+\"'\"+zona+\"',\"+\"'\"+sistema+\"','\"+instance+\"','\"+precio+\"','\"+fecha+\"T09:00:00.000Z');\")\n",
    "                aux = str(precio)\n",
    "                    \n",
    "                \n",
    "            # Para las 10:00:00\n",
    "            price = pd.read_sql(\"SELECT MAX(SpotPrice) FROM \"+region+\"WHERE SpotPrice<>'SpotPrice' AND AvailabilityZone='\"+zona+\"' AND Description = '\"+sistema+\"' AND Timestamp >='\"+fecha+\"T10:00:00.000z' AND Timestamp <='\"+fecha+\"T10:59:59.000z';\",conexion)\n",
    "            precios = price.values.tolist()\n",
    "            for prec in precios:\n",
    "                precio = str(prec[0])\n",
    "            if precio == 'None':\n",
    "                cursor.execute(\"INSERT OR IGNORE INTO Preprocesados VALUES (\"+\"'\"+zona+\"',\"+\"'\"+sistema+\"','\"+instance+\"','\"+aux+\"','\"+fecha+\"T10:00:00.000Z');\")\n",
    "            elif precio != 'None':\n",
    "                cursor.execute(\"INSERT OR IGNORE INTO Preprocesados VALUES (\"+\"'\"+zona+\"',\"+\"'\"+sistema+\"','\"+instance+\"','\"+precio+\"','\"+fecha+\"T10:00:00.000Z');\")\n",
    "                aux = str(precio)\n",
    "                    \n",
    "                \n",
    "            # Para las 11:00:00\n",
    "            price = pd.read_sql(\"SELECT MAX(SpotPrice) FROM \"+region+\"WHERE SpotPrice<>'SpotPrice' AND AvailabilityZone='\"+zona+\"' AND Description = '\"+sistema+\"' AND Timestamp >='\"+fecha+\"T11:00:00.000z' AND Timestamp <='\"+fecha+\"T11:59:59.000z';\",conexion)\n",
    "            precios = price.values.tolist()\n",
    "            for prec in precios:\n",
    "                precio = str(prec[0])\n",
    "            if precio == 'None':\n",
    "                cursor.execute(\"INSERT OR IGNORE INTO Preprocesados VALUES (\"+\"'\"+zona+\"',\"+\"'\"+sistema+\"','\"+instance+\"','\"+aux+\"','\"+fecha+\"T11:00:00.000Z');\")\n",
    "            elif precio != 'None':\n",
    "                cursor.execute(\"INSERT OR IGNORE INTO Preprocesados VALUES (\"+\"'\"+zona+\"',\"+\"'\"+sistema+\"','\"+instance+\"','\"+precio+\"','\"+fecha+\"T11:00:00.000Z');\")\n",
    "                aux = str(precio)\n",
    "                    \n",
    "                \n",
    "            # Para las 12:00:00\n",
    "            price = pd.read_sql(\"SELECT MAX(SpotPrice) FROM \"+region+\"WHERE SpotPrice<>'SpotPrice' AND AvailabilityZone='\"+zona+\"' AND Description = '\"+sistema+\"' AND Timestamp >='\"+fecha+\"T12:00:00.000z' AND Timestamp <='\"+fecha+\"T12:59:59.000z';\",conexion)\n",
    "            precios = price.values.tolist()\n",
    "            for prec in precios:\n",
    "                precio = str(prec[0])\n",
    "            if precio == 'None':\n",
    "                cursor.execute(\"INSERT OR IGNORE INTO Preprocesados VALUES (\"+\"'\"+zona+\"',\"+\"'\"+sistema+\"','\"+instance+\"','\"+aux+\"','\"+fecha+\"T12:00:00.000Z');\")\n",
    "            elif precio != 'None':\n",
    "                cursor.execute(\"INSERT OR IGNORE INTO Preprocesados VALUES (\"+\"'\"+zona+\"',\"+\"'\"+sistema+\"','\"+instance+\"','\"+precio+\"','\"+fecha+\"T12:00:00.000Z');\")\n",
    "                aux = str(precio)\n",
    "                    \n",
    "                \n",
    "            # Para las 13:00:00\n",
    "            price = pd.read_sql(\"SELECT MAX(SpotPrice) FROM \"+region+\"WHERE SpotPrice<>'SpotPrice' AND AvailabilityZone='\"+zona+\"' AND Description = '\"+sistema+\"' AND Timestamp >='\"+fecha+\"T13:00:00.000z' AND Timestamp <='\"+fecha+\"T13:59:59.000z';\",conexion)\n",
    "            precios = price.values.tolist()\n",
    "            for prec in precios:\n",
    "                precio = str(prec[0])\n",
    "            if precio == 'None':\n",
    "                cursor.execute(\"INSERT OR IGNORE INTO Preprocesados VALUES (\"+\"'\"+zona+\"',\"+\"'\"+sistema+\"','\"+instance+\"','\"+aux+\"','\"+fecha+\"T13:00:00.000Z');\")\n",
    "            elif precio != 'None':\n",
    "                cursor.execute(\"INSERT OR IGNORE INTO Preprocesados VALUES (\"+\"'\"+zona+\"',\"+\"'\"+sistema+\"','\"+instance+\"','\"+precio+\"','\"+fecha+\"T13:00:00.000Z');\")\n",
    "                aux = str(precio)\n",
    "                    \n",
    "                \n",
    "            # Para las 14:00:00\n",
    "            price = pd.read_sql(\"SELECT MAX(SpotPrice) FROM \"+region+\"WHERE SpotPrice<>'SpotPrice' AND AvailabilityZone='\"+zona+\"' AND Description = '\"+sistema+\"' AND Timestamp >='\"+fecha+\"T14:00:00.000z' AND Timestamp <='\"+fecha+\"T14:59:59.000z';\",conexion)\n",
    "            precios = price.values.tolist()\n",
    "            for prec in precios:\n",
    "                precio = str(prec[0])\n",
    "            if precio == 'None':\n",
    "                cursor.execute(\"INSERT OR IGNORE INTO Preprocesados VALUES (\"+\"'\"+zona+\"',\"+\"'\"+sistema+\"','\"+instance+\"','\"+aux+\"','\"+fecha+\"T14:00:00.000Z');\")\n",
    "            elif precio != 'None':\n",
    "                cursor.execute(\"INSERT OR IGNORE INTO Preprocesados VALUES (\"+\"'\"+zona+\"',\"+\"'\"+sistema+\"','\"+instance+\"','\"+precio+\"','\"+fecha+\"T14:00:00.000Z');\")\n",
    "                aux = str(precio)\n",
    "                    \n",
    "                \n",
    "            # Para las 15:00:00\n",
    "            price = pd.read_sql(\"SELECT MAX(SpotPrice) FROM \"+region+\"WHERE SpotPrice<>'SpotPrice' AND AvailabilityZone='\"+zona+\"' AND Description = '\"+sistema+\"' AND Timestamp >='\"+fecha+\"T15:00:00.000z' AND Timestamp <='\"+fecha+\"T15:59:59.000z';\",conexion)\n",
    "            precios = price.values.tolist()\n",
    "            for prec in precios:\n",
    "                precio = str(prec[0])\n",
    "            if precio == 'None':\n",
    "                cursor.execute(\"INSERT OR IGNORE INTO Preprocesados VALUES (\"+\"'\"+zona+\"',\"+\"'\"+sistema+\"','\"+instance+\"','\"+aux+\"','\"+fecha+\"T15:00:00.000Z');\")\n",
    "            elif precio != 'None':\n",
    "                cursor.execute(\"INSERT OR IGNORE INTO Preprocesados VALUES (\"+\"'\"+zona+\"',\"+\"'\"+sistema+\"','\"+instance+\"','\"+precio+\"','\"+fecha+\"T15:00:00.000Z');\")\n",
    "                aux = str(precio)\n",
    "                    \n",
    "                \n",
    "            # Para las 16:00:00\n",
    "            price = pd.read_sql(\"SELECT MAX(SpotPrice) FROM \"+region+\"WHERE SpotPrice<>'SpotPrice' AND AvailabilityZone='\"+zona+\"' AND Description = '\"+sistema+\"' AND Timestamp >='\"+fecha+\"T16:00:00.000z' AND Timestamp <='\"+fecha+\"T16:59:59.000z';\",conexion)\n",
    "            precios = price.values.tolist()\n",
    "            for prec in precios:\n",
    "                precio = str(prec[0])\n",
    "            if precio == 'None':\n",
    "                cursor.execute(\"INSERT OR IGNORE INTO Preprocesados VALUES (\"+\"'\"+zona+\"',\"+\"'\"+sistema+\"','\"+instance+\"','\"+aux+\"','\"+fecha+\"T16:00:00.000Z');\")\n",
    "            elif precio != 'None':\n",
    "                cursor.execute(\"INSERT OR IGNORE INTO Preprocesados VALUES (\"+\"'\"+zona+\"',\"+\"'\"+sistema+\"','\"+instance+\"','\"+precio+\"','\"+fecha+\"T16:00:00.000Z');\")\n",
    "                aux = str(precio)\n",
    "                    \n",
    "                \n",
    "            # Para las 17:00:00\n",
    "            price = pd.read_sql(\"SELECT MAX(SpotPrice) FROM \"+region+\"WHERE SpotPrice<>'SpotPrice' AND AvailabilityZone='\"+zona+\"' AND Description = '\"+sistema+\"' AND Timestamp >='\"+fecha+\"T17:00:00.000z' AND Timestamp <='\"+fecha+\"T17:59:59.000z';\",conexion)\n",
    "            precios = price.values.tolist()\n",
    "            for prec in precios:\n",
    "                precio = str(prec[0])\n",
    "            if precio == 'None':\n",
    "                cursor.execute(\"INSERT OR IGNORE INTO Preprocesados VALUES (\"+\"'\"+zona+\"',\"+\"'\"+sistema+\"','\"+instance+\"','\"+aux+\"','\"+fecha+\"T17:00:00.000Z');\")\n",
    "            elif precio != 'None':\n",
    "                cursor.execute(\"INSERT OR IGNORE INTO Preprocesados VALUES (\"+\"'\"+zona+\"',\"+\"'\"+sistema+\"','\"+instance+\"','\"+precio+\"','\"+fecha+\"T17:00:00.000Z');\")\n",
    "                aux = str(precio)\n",
    "                    \n",
    "                \n",
    "            # Para las 18:00:00\n",
    "            price = pd.read_sql(\"SELECT MAX(SpotPrice) FROM \"+region+\"WHERE SpotPrice<>'SpotPrice' AND AvailabilityZone='\"+zona+\"' AND Description = '\"+sistema+\"' AND Timestamp >='\"+fecha+\"T18:00:00.000z' AND Timestamp <='\"+fecha+\"T18:59:59.000z';\",conexion)\n",
    "            precios = price.values.tolist()\n",
    "            for prec in precios:\n",
    "                precio = str(prec[0])\n",
    "            if precio == 'None':\n",
    "                cursor.execute(\"INSERT OR IGNORE INTO Preprocesados VALUES (\"+\"'\"+zona+\"',\"+\"'\"+sistema+\"','\"+instance+\"','\"+aux+\"','\"+fecha+\"T18:00:00.000Z');\")\n",
    "            elif precio != 'None':\n",
    "                cursor.execute(\"INSERT OR IGNORE INTO Preprocesados VALUES (\"+\"'\"+zona+\"',\"+\"'\"+sistema+\"','\"+instance+\"','\"+precio+\"','\"+fecha+\"T18:00:00.000Z');\")\n",
    "                aux = str(precio)\n",
    "                    \n",
    "                \n",
    "            # Para las 19:00:00\n",
    "            price = pd.read_sql(\"SELECT MAX(SpotPrice) FROM \"+region+\"WHERE SpotPrice<>'SpotPrice' AND AvailabilityZone='\"+zona+\"' AND Description = '\"+sistema+\"' AND Timestamp >='\"+fecha+\"T19:00:00.000z' AND Timestamp <='\"+fecha+\"T19:59:59.000z';\",conexion)\n",
    "            precios = price.values.tolist()\n",
    "            for prec in precios:\n",
    "                precio = str(prec[0])\n",
    "            if precio == 'None':\n",
    "                cursor.execute(\"INSERT OR IGNORE INTO Preprocesados VALUES (\"+\"'\"+zona+\"',\"+\"'\"+sistema+\"','\"+instance+\"','\"+aux+\"','\"+fecha+\"T19:00:00.000Z');\")\n",
    "            elif precio != 'None':\n",
    "                cursor.execute(\"INSERT OR IGNORE INTO Preprocesados VALUES (\"+\"'\"+zona+\"',\"+\"'\"+sistema+\"','\"+instance+\"','\"+precio+\"','\"+fecha+\"T19:00:00.000Z');\")\n",
    "                aux = str(precio)\n",
    "                    \n",
    "                \n",
    "            # Para las 20:00:00\n",
    "            price = pd.read_sql(\"SELECT MAX(SpotPrice) FROM \"+region+\"WHERE SpotPrice<>'SpotPrice' AND AvailabilityZone='\"+zona+\"' AND Description = '\"+sistema+\"' AND Timestamp >='\"+fecha+\"T20:00:00.000z' AND Timestamp <='\"+fecha+\"T20:59:59.000z';\",conexion)\n",
    "            precios = price.values.tolist()\n",
    "            for prec in precios:\n",
    "                precio = str(prec[0])\n",
    "            if precio == 'None':\n",
    "                cursor.execute(\"INSERT OR IGNORE INTO Preprocesados VALUES (\"+\"'\"+zona+\"',\"+\"'\"+sistema+\"','\"+instance+\"','\"+aux+\"','\"+fecha+\"T20:00:00.000Z');\")\n",
    "            elif precio != 'None':\n",
    "                cursor.execute(\"INSERT OR IGNORE INTO Preprocesados VALUES (\"+\"'\"+zona+\"',\"+\"'\"+sistema+\"','\"+instance+\"','\"+precio+\"','\"+fecha+\"T20:00:00.000Z');\")\n",
    "                aux = str(precio)\n",
    "                    \n",
    "                \n",
    "            # Para las 21:00:00\n",
    "            price = pd.read_sql(\"SELECT MAX(SpotPrice) FROM \"+region+\"WHERE SpotPrice<>'SpotPrice' AND AvailabilityZone='\"+zona+\"' AND Description = '\"+sistema+\"' AND Timestamp >='\"+fecha+\"T21:00:00.000z' AND Timestamp <='\"+fecha+\"T21:59:59.000z';\",conexion)\n",
    "            precios = price.values.tolist()\n",
    "            for prec in precios:\n",
    "                precio = str(prec[0])\n",
    "            if precio == 'None':\n",
    "                cursor.execute(\"INSERT OR IGNORE INTO Preprocesados VALUES (\"+\"'\"+zona+\"',\"+\"'\"+sistema+\"','\"+instance+\"','\"+aux+\"','\"+fecha+\"T21:00:00.000Z');\")\n",
    "            elif precio != 'None':\n",
    "                cursor.execute(\"INSERT OR IGNORE INTO Preprocesados VALUES (\"+\"'\"+zona+\"',\"+\"'\"+sistema+\"','\"+instance+\"','\"+precio+\"','\"+fecha+\"T21:00:00.000Z');\")\n",
    "                aux = str(precio)\n",
    "                    \n",
    "                \n",
    "            # Para las 22:00:00\n",
    "            price = pd.read_sql(\"SELECT MAX(SpotPrice) FROM \"+region+\"WHERE SpotPrice<>'SpotPrice' AND AvailabilityZone='\"+zona+\"' AND Description = '\"+sistema+\"' AND Timestamp >='\"+fecha+\"T22:00:00.000z' AND Timestamp <='\"+fecha+\"T22:59:59.000z';\",conexion)\n",
    "            precios = price.values.tolist()\n",
    "            for prec in precios:\n",
    "                precio = str(prec[0])\n",
    "            if precio == 'None':\n",
    "                cursor.execute(\"INSERT OR IGNORE INTO Preprocesados VALUES (\"+\"'\"+zona+\"',\"+\"'\"+sistema+\"','\"+instance+\"','\"+aux+\"','\"+fecha+\"T22:00:00.000Z');\")\n",
    "            elif precio != 'None':\n",
    "                cursor.execute(\"INSERT OR IGNORE INTO Preprocesados VALUES (\"+\"'\"+zona+\"',\"+\"'\"+sistema+\"','\"+instance+\"','\"+precio+\"','\"+fecha+\"T22:00:00.000Z');\")\n",
    "                aux = str(precio)\n",
    "                    \n",
    "                \n",
    "            # Para las 23:00:00\n",
    "            price = pd.read_sql(\"SELECT MAX(SpotPrice) FROM \"+region+\"WHERE SpotPrice<>'SpotPrice' AND AvailabilityZone='\"+zona+\"' AND Description = '\"+sistema+\"' AND Timestamp >='\"+fecha+\"T23:00:00.000z' AND Timestamp <='\"+fecha+\"T23:59:59.000z';\",conexion)\n",
    "            precios = price.values.tolist()\n",
    "            for prec in precios:\n",
    "                precio = str(prec[0])\n",
    "            if precio == 'None':\n",
    "                cursor.execute(\"INSERT OR IGNORE INTO Preprocesados VALUES (\"+\"'\"+zona+\"',\"+\"'\"+sistema+\"','\"+instance+\"','\"+aux+\"','\"+fecha+\"T23:00:00.000Z');\")\n",
    "            elif precio != 'None':\n",
    "                cursor.execute(\"INSERT OR IGNORE INTO Preprocesados VALUES (\"+\"'\"+zona+\"',\"+\"'\"+sistema+\"','\"+instance+\"','\"+precio+\"','\"+fecha+\"T23:00:00.000Z');\")\n",
    "                aux = str(precio)\n",
    "                   \n",
    "\n",
    "# Eliminamos los registros donde el precio sea 0\n",
    "cursor.execute(\"DELETE FROM Preprocesados WHERE SpotPrice = 0.0\")\n",
    "\n",
    "# Guardamos los cambios haciendo un commit\n",
    "conexion.commit()\n",
    "    \n",
    "# Cerrar la conexión siempre\n",
    "connection.close()\n",
    "\n",
    "# Conectar con la base de datos\n",
    "with sqlite3.connect(\"BBDD.db\") as connection:\n",
    "    # Abrimos el csv a insertar los datos\n",
    "    csvWriter = csv.writer(open(\"datos.csv\", \"w\"))\n",
    "    # Creamos el cursor\n",
    "    c = connection.cursor()\n",
    "    # Hacemos la consulta\n",
    "    data = c.execute(\"SELECT * FROM Preprocesados ORDER BY Timestamp Desc\") # Ordenamos los datos desde el más reciente al menos\n",
    "    # Insertamos los datos en el dataset\n",
    "    rows = data.fetchall()\n",
    "    csvWriter.writerows(rows)\n",
    "\n",
    "# Cerrar la conexión siempre\n",
    "connection.close()\n",
    "\n",
    "df = pd.read_csv(\"datos.csv\")\n"
   ]
  },
  {
   "cell_type": "code",
   "execution_count": 12,
   "metadata": {
    "collapsed": true
   },
   "outputs": [],
   "source": [
    "# Preprocesamos por días\n",
    "\n",
    "for i,date in enumerate(df['Timestamp']):\n",
    "    lista.append(date[:10])\n",
    "lista2=[]  # En lista2 tengo los días\n",
    "for e in lista:\n",
    "    if e not in lista2:\n",
    "        lista2.append(e)\n",
    "lista2.reverse()\n",
    "\n",
    "df2 = df.drop('AvailabilityZone', 1)\n",
    "df2 = df2.drop('Description', 1)\n",
    "df2 = df2.drop('InstanceType', 1)\n",
    "\n",
    "price = []\n",
    "lol = df2.values.tolist()\n",
    "lol.reverse()\n",
    "\n",
    "dfDays = pd.DataFrame(columns=['Periodo por días', 'Precio Real Max']) # Creamos el dataframe para los días\n",
    "\n",
    "for fecha in lista2:\n",
    "    for lista in lol:\n",
    "        if (lista[1] == str(fecha)+\"T23:00:00.000Z\"):\n",
    "            price.append(lista[0])\n",
    "        if (lista[1] == str(fecha)+\"T22:00:00.000Z\"):\n",
    "            price.append(lista[0])\n",
    "        if (lista[1] == str(fecha)+\"T21:00:00.000Z\"):\n",
    "            price.append(lista[0])\n",
    "        if (lista[1] == str(fecha)+\"T20:00:00.000Z\"):\n",
    "            price.append(lista[0])\n",
    "        if (lista[1] == str(fecha)+\"T19:00:00.000Z\"):\n",
    "            price.append(lista[0])\n",
    "        if (lista[1] == str(fecha)+\"T18:00:00.000Z\"):\n",
    "            price.append(lista[0])\n",
    "        if (lista[1] == str(fecha)+\"T17:00:00.000Z\"):\n",
    "            price.append(lista[0])\n",
    "        if (lista[1] == str(fecha)+\"T16:00:00.000Z\"):\n",
    "            price.append(lista[0])\n",
    "        if (lista[1] == str(fecha)+\"T15:00:00.000Z\"):\n",
    "            price.append(lista[0])\n",
    "        if (lista[1] == str(fecha)+\"T14:00:00.000Z\"):\n",
    "            price.append(lista[0])\n",
    "        if (lista[1] == str(fecha)+\"T13:00:00.000Z\"):\n",
    "            price.append(lista[0])\n",
    "        if (lista[1] == str(fecha)+\"T12:00:00.000Z\"):\n",
    "            price.append(lista[0])\n",
    "        if (lista[1] == str(fecha)+\"T11:00:00.000Z\"):\n",
    "            price.append(lista[0])\n",
    "        if (lista[1] == str(fecha)+\"T10:00:00.000Z\"):\n",
    "            price.append(lista[0])\n",
    "        if (lista[1] == str(fecha)+\"T09:00:00.000Z\"):\n",
    "            price.append(lista[0])\n",
    "        if (lista[1] == str(fecha)+\"T08:00:00.000Z\"):\n",
    "            price.append(lista[0])\n",
    "        if (lista[1] == str(fecha)+\"T07:00:00.000Z\"):\n",
    "            price.append(lista[0])\n",
    "        if (lista[1] == str(fecha)+\"T06:00:00.000Z\"):\n",
    "            price.append(lista[0])\n",
    "        if (lista[1] == str(fecha)+\"T05:00:00.000Z\"):\n",
    "            price.append(lista[0])\n",
    "        if (lista[1] == str(fecha)+\"T04:00:00.000Z\"):\n",
    "            price.append(lista[0])\n",
    "        if (lista[1] == str(fecha)+\"T03:00:00.000Z\"):\n",
    "            price.append(lista[0])\n",
    "        if (lista[1] == str(fecha)+\"T02:00:00.000Z\"):\n",
    "            price.append(lista[0])\n",
    "        if (lista[1] == str(fecha)+\"T01:00:00.000Z\"):\n",
    "            price.append(lista[0])\n",
    "        if (lista[1] == str(fecha)+\"T00:00:00.000Z\"):\n",
    "            price.append(lista[0])\n",
    "    if price: # Si la lista no está vacía\n",
    "        dfDays.loc[len(dfDays)]=[fecha,round(max(price),4)]\n",
    "    price = []"
   ]
  },
  {
   "cell_type": "code",
   "execution_count": 13,
   "metadata": {
    "collapsed": true,
    "scrolled": true
   },
   "outputs": [],
   "source": [
    "# Seleccionamos el rango de días para entrenar\n",
    "\n",
    "formatter_string = \"%Y-%m-%d\" \n",
    "datetime_object = datetime.datetime.strptime(f_final, formatter_string) # convertimos de string a fecha\n",
    "date_object = datetime_object.date()\n",
    "date = date_object + timedelta(days=7)\n",
    "\n",
    "dfDaysFor = dfDays\n",
    "\n",
    "dfDaysAux = dfDays[dfDays['Periodo por días'] <= str(date)]\n",
    "dfDays = dfDaysAux[dfDaysAux['Periodo por días'] >= f_inicio ]\n",
    "listaData = dfDays.values.tolist()\n",
    "dfDays = pd.DataFrame(listaData,columns=['Periodo por días', 'Precio Real Max'])\n",
    "\n",
    "# Seleccionamos el rango de días para predecir en la evaluación\n",
    "\n",
    "datetime_object = datetime.datetime.strptime(f_final, formatter_string) # convertimos de string a fecha\n",
    "date_object = datetime_object.date()\n",
    "date = date_object + timedelta(days=posteriores*7)\n",
    "\n",
    "dfDaysAux = dfDaysFor[dfDaysFor['Periodo por días'] <= str(date)]\n",
    "dfDaysFor = dfDaysAux[dfDaysAux['Periodo por días'] > f_final ]\n",
    "listaData = dfDaysFor.values.tolist()\n",
    "dfDaysFor = pd.DataFrame(listaData,columns=['Periodo por días', 'Precio Real Max'])\n"
   ]
  },
  {
   "cell_type": "code",
   "execution_count": 14,
   "metadata": {
    "collapsed": true
   },
   "outputs": [],
   "source": [
    "# Recorremos el df para las Semanas (Entrenamiento)\n",
    "    \n",
    "listWeekPrice = []\n",
    "listWeekGeneral = []\n",
    "listOneWeek = []\n",
    "cont = 1\n",
    "contWeek = 0\n",
    "list24 = dfDays.values.tolist()  \n",
    "for t in list24:\n",
    "    listWeekPrice.append(t[1])\n",
    "    if(cont == 7):\n",
    "        contWeek = contWeek + 1\n",
    "        listOneWeek.append(\"Semana \" + str(contWeek))\n",
    "        listOneWeek.append(max(listWeekPrice))\n",
    "        cont = 0\n",
    "        listWeekGeneral.append(listOneWeek)\n",
    "        listOneWeek = []\n",
    "        listWeekPrice = []\n",
    "    cont = cont + 1\n",
    "dfWeeks = pd.DataFrame(columns=['Periodo por semanas', 'Precio Real Max']) # Creamos el dataframe para los días\n",
    "\n",
    "i = 0\n",
    "for p in listWeekGeneral:\n",
    "        dfWeeks.loc[i]=[p[0],round(p[1],4)]\n",
    "        i = i + 1"
   ]
  },
  {
   "cell_type": "code",
   "execution_count": 15,
   "metadata": {
    "collapsed": true
   },
   "outputs": [],
   "source": [
    "# Recorremos el df para las Semanas (Evaluación)\n",
    "\n",
    "listWeekPrice = []\n",
    "listWeekGeneral = []\n",
    "listOneWeek = []\n",
    "cont = 1\n",
    "listDaysFor = dfDaysFor.values.tolist()\n",
    "for t in listDaysFor:\n",
    "    listWeekPrice.append(t[1])\n",
    "    if(cont == 7):\n",
    "        contWeek = contWeek + 1\n",
    "        listOneWeek.append(\"Semana \" + str(contWeek - 1))\n",
    "        listOneWeek.append(max(listWeekPrice))\n",
    "        cont = 0\n",
    "        listWeekGeneral.append(listOneWeek)\n",
    "        listOneWeek = []\n",
    "        listWeekPrice = []\n",
    "    cont = cont + 1\n",
    "dfWeeksForecast = pd.DataFrame(columns=['Periodo por semanas', 'Precio Real Max'])\n",
    "\n",
    "i = 0\n",
    "for p in listWeekGeneral:\n",
    "        dfWeeksForecast.loc[i]=[p[0],round(p[1],4)]\n",
    "        i = i + 1\n",
    "\n",
    "dfWeeksForecast['Precio Estimado Max'] = 'NaN'"
   ]
  },
  {
   "cell_type": "markdown",
   "metadata": {},
   "source": [
    "--------------------------------------------------------------------------------------------------------------------------"
   ]
  },
  {
   "cell_type": "markdown",
   "metadata": {},
   "source": [
    "# 4. Double Exponential Smoothing - Entrenamiento para Semanas"
   ]
  },
  {
   "cell_type": "code",
   "execution_count": 16,
   "metadata": {
    "collapsed": true
   },
   "outputs": [],
   "source": [
    "# Algoritmo Double Exponential Smoothing\n",
    "\n",
    "lastValueSt = 0\n",
    "lastValueBt = 0\n",
    "\n",
    "def doub_smoothing(Precios,alpha,beta):\n",
    "    global lastValueSt\n",
    "    global lastValueBt\n",
    "    listaPrecios=Precios.values.tolist()\n",
    "    listGeneral = []\n",
    "    Auxlist = []\n",
    "    first = True\n",
    "    index = 0\n",
    "    for i in listaPrecios:\n",
    "        if (first):\n",
    "            Auxlist.append(i)\n",
    "            Auxlist.append(i)\n",
    "            b = round(((listaPrecios[1]-listaPrecios[0]) + (listaPrecios[2]-listaPrecios[1]) + (listaPrecios[3]-listaPrecios[2]))/3,4)\n",
    "            Auxlist.append(b)\n",
    "            Auxlist.append(i)\n",
    "            first = False\n",
    "            index = index + 1\n",
    "            listGeneral.append(Auxlist)\n",
    "            Auxlist = []\n",
    "        else:\n",
    "            Auxlist.append(i)\n",
    "            lastPrice = listGeneral[len(listGeneral)-1]\n",
    "            St = round(alpha * i + (1-alpha) * (lastPrice[1] + lastPrice[2]),4)\n",
    "            Auxlist.append(St)\n",
    "            bt = round((beta * (St-lastPrice[1])) + (1 - beta) * lastPrice[2],4)\n",
    "            Auxlist.append(bt)\n",
    "            Auxlist.append(round(lastPrice[1] + lastPrice[2],4))\n",
    "            index = index + 1\n",
    "            listGeneral.append(Auxlist)\n",
    "            Auxlist = []\n",
    "    listPricesAux = []\n",
    "    for i in listGeneral:\n",
    "        listPricesAux.append(i[3])\n",
    "    listPricesAux.pop()\n",
    "    lastPriceAux = listGeneral[len(listGeneral)-2]\n",
    "    lastValueSt = lastPriceAux[1]\n",
    "    lastValueBt = lastPriceAux[2]\n",
    "    return listPricesAux"
   ]
  },
  {
   "cell_type": "code",
   "execution_count": 17,
   "metadata": {
    "collapsed": true
   },
   "outputs": [],
   "source": [
    "smoothing=doub_smoothing(dfWeeks['Precio Real Max'],alpha,beta)"
   ]
  },
  {
   "cell_type": "markdown",
   "metadata": {},
   "source": [
    "### 4.1 Conjunto de Entrenamiento"
   ]
  },
  {
   "cell_type": "code",
   "execution_count": 18,
   "metadata": {
    "scrolled": false
   },
   "outputs": [
    {
     "data": {
      "text/html": [
       "<div>\n",
       "<style>\n",
       "    .dataframe thead tr:only-child th {\n",
       "        text-align: right;\n",
       "    }\n",
       "\n",
       "    .dataframe thead th {\n",
       "        text-align: left;\n",
       "    }\n",
       "\n",
       "    .dataframe tbody tr th {\n",
       "        vertical-align: top;\n",
       "    }\n",
       "</style>\n",
       "<table border=\"1\" class=\"dataframe\">\n",
       "  <thead>\n",
       "    <tr style=\"text-align: right;\">\n",
       "      <th></th>\n",
       "      <th>Periodo por semanas</th>\n",
       "      <th>Precio Real Max</th>\n",
       "      <th>Precio Estimado Max</th>\n",
       "    </tr>\n",
       "  </thead>\n",
       "  <tbody>\n",
       "    <tr>\n",
       "      <th>0</th>\n",
       "      <td>Semana 1</td>\n",
       "      <td>0.2171</td>\n",
       "      <td>0.2171</td>\n",
       "    </tr>\n",
       "    <tr>\n",
       "      <th>1</th>\n",
       "      <td>Semana 2</td>\n",
       "      <td>0.1705</td>\n",
       "      <td>0.1715</td>\n",
       "    </tr>\n",
       "    <tr>\n",
       "      <th>2</th>\n",
       "      <td>Semana 3</td>\n",
       "      <td>0.0915</td>\n",
       "      <td>0.1245</td>\n",
       "    </tr>\n",
       "    <tr>\n",
       "      <th>3</th>\n",
       "      <td>Semana 4</td>\n",
       "      <td>0.0803</td>\n",
       "      <td>0.0327</td>\n",
       "    </tr>\n",
       "    <tr>\n",
       "      <th>4</th>\n",
       "      <td>Semana 5</td>\n",
       "      <td>0.0791</td>\n",
       "      <td>0.0355</td>\n",
       "    </tr>\n",
       "    <tr>\n",
       "      <th>5</th>\n",
       "      <td>Semana 6</td>\n",
       "      <td>0.0784</td>\n",
       "      <td>0.0571</td>\n",
       "    </tr>\n",
       "    <tr>\n",
       "      <th>6</th>\n",
       "      <td>Semana 7</td>\n",
       "      <td>0.0769</td>\n",
       "      <td>0.0702</td>\n",
       "    </tr>\n",
       "    <tr>\n",
       "      <th>7</th>\n",
       "      <td>Semana 8</td>\n",
       "      <td>0.0787</td>\n",
       "      <td>0.0739</td>\n",
       "    </tr>\n",
       "    <tr>\n",
       "      <th>8</th>\n",
       "      <td>Semana 9</td>\n",
       "      <td>0.0876</td>\n",
       "      <td>0.0785</td>\n",
       "    </tr>\n",
       "    <tr>\n",
       "      <th>9</th>\n",
       "      <td>Semana 10</td>\n",
       "      <td>0.0885</td>\n",
       "      <td>0.0914</td>\n",
       "    </tr>\n",
       "    <tr>\n",
       "      <th>10</th>\n",
       "      <td>Semana 11</td>\n",
       "      <td>0.0899</td>\n",
       "      <td>0.0924</td>\n",
       "    </tr>\n",
       "  </tbody>\n",
       "</table>\n",
       "</div>"
      ],
      "text/plain": [
       "   Periodo por semanas  Precio Real Max  Precio Estimado Max\n",
       "0             Semana 1           0.2171               0.2171\n",
       "1             Semana 2           0.1705               0.1715\n",
       "2             Semana 3           0.0915               0.1245\n",
       "3             Semana 4           0.0803               0.0327\n",
       "4             Semana 5           0.0791               0.0355\n",
       "5             Semana 6           0.0784               0.0571\n",
       "6             Semana 7           0.0769               0.0702\n",
       "7             Semana 8           0.0787               0.0739\n",
       "8             Semana 9           0.0876               0.0785\n",
       "9            Semana 10           0.0885               0.0914\n",
       "10           Semana 11           0.0899               0.0924"
      ]
     },
     "execution_count": 18,
     "metadata": {},
     "output_type": "execute_result"
    }
   ],
   "source": [
    "dfWeeks1 = pd.DataFrame(columns=['Precio Estimado Max'])\n",
    "dfReal = dfWeeks['Precio Real Max']\n",
    "\n",
    "# Exponential Smoothing\n",
    "Weeks = smoothing\n",
    "\n",
    "for i in Weeks:\n",
    "    dfWeeks1.loc[len(dfWeeks1)]=[i]\n",
    "\n",
    "dfWeeks = pd.concat([dfWeeks, dfWeeks1], axis=1)\n",
    "dfWeeks = dfWeeks.dropna() # eliminamos los valores nan anteriores que solo nos sirven para hacer el cálculo\n",
    "dfWeeks = dfWeeks.reset_index(drop=True)\n",
    "\n",
    "dfAux = pd.DataFrame(columns=['Periodo por días','Precio Real Max','Precio Estimado Max'])\n",
    "dfFinalTrain = dfWeeks\n",
    "dfTrain = dfWeeks\n",
    "dfTrain"
   ]
  },
  {
   "cell_type": "code",
   "execution_count": 19,
   "metadata": {
    "collapsed": true
   },
   "outputs": [],
   "source": [
    "dfTrain.to_csv('tablaEntrenamientoDoubleSemanas.csv')"
   ]
  },
  {
   "cell_type": "code",
   "execution_count": 20,
   "metadata": {
    "collapsed": true
   },
   "outputs": [],
   "source": [
    "listWeeksForecast = dfWeeksForecast.values.tolist()\n",
    "listWeeks = dfWeeks.values.tolist()\n",
    "listFinalTrain = dfWeeks.values.tolist()\n",
    "\n",
    "cont = 0\n",
    "\n",
    "for i in listWeeksForecast:\n",
    "    cont = cont + 1\n",
    "    i[2] = round((lastValueSt + cont * lastValueBt),4)\n",
    "    \n",
    "dfWeeksForecastAux = pd.DataFrame(listWeeksForecast, columns=['Periodo por semanas','Precio Real Max','Precio Estimado Max'])\n",
    "\n",
    "# Creamos el dfFinal\n",
    "\n",
    "listWeeksFor = dfWeeksForecast.values.tolist()\n",
    "listWeeksForAux = dfWeeksForecastAux.values.tolist()\n",
    "for t in listWeeksFor:\n",
    "    aux = listWeeksForAux[listWeeksFor.index(t)]\n",
    "    t[2] = aux[2]\n",
    "dfForecast = pd.DataFrame(listWeeksFor, columns=['Periodo por semanas','Precio Real Max','Precio Estimado Max'])\n",
    "dfFinalTest = dfForecast\n",
    "\n",
    "# Concatenamos resultados\n",
    "\n",
    "dfFinal= pd.concat([dfWeeks, dfForecast])\n",
    "dfFinal = dfFinal.dropna() # eliminamos los valores nan anteriores que solo nos sirven para hacer el cálculo\n",
    "dfFinal = dfFinal.reset_index(drop=True)\n"
   ]
  },
  {
   "cell_type": "markdown",
   "metadata": {},
   "source": [
    "### 4.2 Error Cuadrático Medio  (MSE) para Entrenamiento"
   ]
  },
  {
   "cell_type": "code",
   "execution_count": 21,
   "metadata": {},
   "outputs": [
    {
     "data": {
      "text/plain": [
       "0.00053416454545454552"
      ]
     },
     "execution_count": 21,
     "metadata": {},
     "output_type": "execute_result"
    }
   ],
   "source": [
    "mean_squared_error(dfWeeks['Precio Real Max'], dfWeeks['Precio Estimado Max'])"
   ]
  },
  {
   "cell_type": "markdown",
   "metadata": {},
   "source": [
    "---------------------------------------------------------------------------------------------------------------------------"
   ]
  },
  {
   "cell_type": "markdown",
   "metadata": {},
   "source": [
    "# 5. Double Exponential Smoothing - Evaluación del modelo"
   ]
  },
  {
   "cell_type": "code",
   "execution_count": 22,
   "metadata": {
    "collapsed": true
   },
   "outputs": [],
   "source": [
    "listForecast = dfForecast.values.tolist()\n",
    "\n",
    "listPricesReal = []\n",
    "listPricesForecast = []\n",
    "\n",
    "# Sacamos el precio máximo predicho (El que consideramos como Predicho)\n",
    "for i in listForecast:\n",
    "    listPricesForecast.append(i[2])\n",
    "\n",
    "priceMaxForecast = max(listPricesForecast)\n",
    "\n",
    "# Sacamos el precio máximo real para la evaluación\n",
    "for i in listForecast:\n",
    "    listPricesReal.append(i[1])\n",
    "    \n",
    "priceMaxReal = max(listPricesReal)"
   ]
  },
  {
   "cell_type": "markdown",
   "metadata": {},
   "source": [
    "### 5.1 Conjunto de Test"
   ]
  },
  {
   "cell_type": "code",
   "execution_count": 23,
   "metadata": {
    "collapsed": true
   },
   "outputs": [],
   "source": [
    "# Definimos un color rojo para los valores predichos para distinguirlos\n",
    "def colorForecastRed(value):\n",
    "    color = 'red'\n",
    "    return 'color: %s' % color"
   ]
  },
  {
   "cell_type": "code",
   "execution_count": 24,
   "metadata": {},
   "outputs": [
    {
     "data": {
      "text/html": [
       "<style  type=\"text/css\" >\n",
       "    #T_2fb4f810_f5ca_11e8_9bea_b8868746ee00row0_col0 {\n",
       "            color:  red;\n",
       "        }    #T_2fb4f810_f5ca_11e8_9bea_b8868746ee00row0_col1 {\n",
       "            color:  red;\n",
       "        }    #T_2fb4f810_f5ca_11e8_9bea_b8868746ee00row0_col2 {\n",
       "            color:  red;\n",
       "        }    #T_2fb4f810_f5ca_11e8_9bea_b8868746ee00row1_col0 {\n",
       "            color:  red;\n",
       "        }    #T_2fb4f810_f5ca_11e8_9bea_b8868746ee00row1_col1 {\n",
       "            color:  red;\n",
       "        }    #T_2fb4f810_f5ca_11e8_9bea_b8868746ee00row1_col2 {\n",
       "            color:  red;\n",
       "        }    #T_2fb4f810_f5ca_11e8_9bea_b8868746ee00row2_col0 {\n",
       "            color:  red;\n",
       "        }    #T_2fb4f810_f5ca_11e8_9bea_b8868746ee00row2_col1 {\n",
       "            color:  red;\n",
       "        }    #T_2fb4f810_f5ca_11e8_9bea_b8868746ee00row2_col2 {\n",
       "            color:  red;\n",
       "        }    #T_2fb4f810_f5ca_11e8_9bea_b8868746ee00row3_col0 {\n",
       "            color:  red;\n",
       "        }    #T_2fb4f810_f5ca_11e8_9bea_b8868746ee00row3_col1 {\n",
       "            color:  red;\n",
       "        }    #T_2fb4f810_f5ca_11e8_9bea_b8868746ee00row3_col2 {\n",
       "            color:  red;\n",
       "        }</style>  \n",
       "<table id=\"T_2fb4f810_f5ca_11e8_9bea_b8868746ee00\" > \n",
       "<thead>    <tr> \n",
       "        <th class=\"blank level0\" ></th> \n",
       "        <th class=\"col_heading level0 col0\" >Periodo por semanas</th> \n",
       "        <th class=\"col_heading level0 col1\" >Precio Real Max</th> \n",
       "        <th class=\"col_heading level0 col2\" >Precio Estimado Max</th> \n",
       "    </tr></thead> \n",
       "<tbody>    <tr> \n",
       "        <th id=\"T_2fb4f810_f5ca_11e8_9bea_b8868746ee00level0_row0\" class=\"row_heading level0 row0\" >0</th> \n",
       "        <td id=\"T_2fb4f810_f5ca_11e8_9bea_b8868746ee00row0_col0\" class=\"data row0 col0\" >Semana 12</td> \n",
       "        <td id=\"T_2fb4f810_f5ca_11e8_9bea_b8868746ee00row0_col1\" class=\"data row0 col1\" >0.0899</td> \n",
       "        <td id=\"T_2fb4f810_f5ca_11e8_9bea_b8868746ee00row0_col2\" class=\"data row0 col2\" >0.0924</td> \n",
       "    </tr>    <tr> \n",
       "        <th id=\"T_2fb4f810_f5ca_11e8_9bea_b8868746ee00level0_row1\" class=\"row_heading level0 row1\" >1</th> \n",
       "        <td id=\"T_2fb4f810_f5ca_11e8_9bea_b8868746ee00row1_col0\" class=\"data row1 col0\" >Semana 13</td> \n",
       "        <td id=\"T_2fb4f810_f5ca_11e8_9bea_b8868746ee00row1_col1\" class=\"data row1 col1\" >0.0848</td> \n",
       "        <td id=\"T_2fb4f810_f5ca_11e8_9bea_b8868746ee00row1_col2\" class=\"data row1 col2\" >0.0946</td> \n",
       "    </tr>    <tr> \n",
       "        <th id=\"T_2fb4f810_f5ca_11e8_9bea_b8868746ee00level0_row2\" class=\"row_heading level0 row2\" >2</th> \n",
       "        <td id=\"T_2fb4f810_f5ca_11e8_9bea_b8868746ee00row2_col0\" class=\"data row2 col0\" >Semana 14</td> \n",
       "        <td id=\"T_2fb4f810_f5ca_11e8_9bea_b8868746ee00row2_col1\" class=\"data row2 col1\" >0.0781</td> \n",
       "        <td id=\"T_2fb4f810_f5ca_11e8_9bea_b8868746ee00row2_col2\" class=\"data row2 col2\" >0.0968</td> \n",
       "    </tr>    <tr> \n",
       "        <th id=\"T_2fb4f810_f5ca_11e8_9bea_b8868746ee00level0_row3\" class=\"row_heading level0 row3\" >3</th> \n",
       "        <td id=\"T_2fb4f810_f5ca_11e8_9bea_b8868746ee00row3_col0\" class=\"data row3 col0\" >Semana 15</td> \n",
       "        <td id=\"T_2fb4f810_f5ca_11e8_9bea_b8868746ee00row3_col1\" class=\"data row3 col1\" >0.0777</td> \n",
       "        <td id=\"T_2fb4f810_f5ca_11e8_9bea_b8868746ee00row3_col2\" class=\"data row3 col2\" >0.099</td> \n",
       "    </tr></tbody> \n",
       "</table> "
      ],
      "text/plain": [
       "<pandas.io.formats.style.Styler at 0x1df075fd748>"
      ]
     },
     "execution_count": 24,
     "metadata": {},
     "output_type": "execute_result"
    }
   ],
   "source": [
    "dfFinalStyle = dfForecast.style.applymap(colorForecastRed)\n",
    "dfTest = dfForecast\n",
    "dfFinalStyle"
   ]
  },
  {
   "cell_type": "code",
   "execution_count": 25,
   "metadata": {
    "collapsed": true
   },
   "outputs": [],
   "source": [
    "dfTest.to_csv('tablaTestDoubleSemanas.csv')"
   ]
  },
  {
   "cell_type": "markdown",
   "metadata": {},
   "source": [
    "### 5.2 Pronóstico"
   ]
  },
  {
   "cell_type": "code",
   "execution_count": 26,
   "metadata": {},
   "outputs": [
    {
     "name": "stdout",
     "output_type": "stream",
     "text": [
      "El pronóstico ha sido óptimo, 0.099 es mayor o igual que 0.0899\n"
     ]
    }
   ],
   "source": [
    "if(priceMaxForecast >= priceMaxReal):\n",
    "    print(\"El pronóstico ha sido óptimo, \" + str(priceMaxForecast) + \" es mayor o igual que \" + str(priceMaxReal))\n",
    "else:\n",
    "    print(\"El pronóstico no ha sido bueno porque el precio predicho \" + str(priceMaxForecast) + \" es menor que el real \" + str(priceMaxReal))"
   ]
  },
  {
   "cell_type": "markdown",
   "metadata": {},
   "source": [
    "### 5.3 Error Cuadrático Medio (MSE) para Test"
   ]
  },
  {
   "cell_type": "code",
   "execution_count": 27,
   "metadata": {},
   "outputs": [
    {
     "data": {
      "text/plain": [
       "0.00022641749999999995"
      ]
     },
     "execution_count": 27,
     "metadata": {},
     "output_type": "execute_result"
    }
   ],
   "source": [
    "mean_squared_error(dfForecast['Precio Real Max'], dfForecast['Precio Estimado Max'])"
   ]
  },
  {
   "cell_type": "code",
   "execution_count": 28,
   "metadata": {
    "collapsed": true
   },
   "outputs": [],
   "source": [
    "#Dejamos en un csv los datos\n",
    "\n",
    "dfFinalGraphic = pd.concat([dfWeeks, dfForecast])\n",
    "dfFinalGraphic.to_csv('graficaDoubleSemanas.csv')"
   ]
  }
 ],
 "metadata": {
  "kernelspec": {
   "display_name": "Python 3",
   "language": "python",
   "name": "python3"
  },
  "language_info": {
   "codemirror_mode": {
    "name": "ipython",
    "version": 3
   },
   "file_extension": ".py",
   "mimetype": "text/x-python",
   "name": "python",
   "nbconvert_exporter": "python",
   "pygments_lexer": "ipython3",
   "version": "3.6.3"
  }
 },
 "nbformat": 4,
 "nbformat_minor": 1
}
